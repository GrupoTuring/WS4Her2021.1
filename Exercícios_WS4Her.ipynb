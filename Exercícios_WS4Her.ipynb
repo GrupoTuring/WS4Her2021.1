{
  "nbformat": 4,
  "nbformat_minor": 0,
  "metadata": {
    "colab": {
      "name": "Exercícios - WS4Her.ipynb",
      "provenance": []
    },
    "kernelspec": {
      "name": "python3",
      "display_name": "Python 3"
    },
    "language_info": {
      "name": "python"
    }
  },
  "cells": [
    {
      "cell_type": "markdown",
      "metadata": {
        "id": "6RGiuCKf1dHn"
      },
      "source": [
        "# 👩💻 WS4Her2021.1 - Exercícios\n",
        "\n",
        "Olá! Foi um prazer receber você em nosso workshop. Esperamos vê-la em breve em mais eventos do Turing USP. \n",
        "\n",
        "Para ajuda a fixar os conteúdos vistos no workshop, preparamos alguns exercícios para que você bote a mão na massa! Encorajamos que você tente fazê-los com calma, enquanto olha o notebook do workshop como material de apoio.\n",
        "\n",
        "Qualquer dúvida, contate-nos pelas nossas mídias sociais, estamos disponíveis para tirar dúvidas:\n",
        "\n",
        "[Discord](https://discord.gg/26RGmBS) \n",
        "| [Instagram](https://www.instagram.com/turing.usp/)\n",
        "| [Facebook](https://www.facebook.com/turing.usp)\n"
      ]
    },
    {
      "cell_type": "markdown",
      "metadata": {
        "id": "KrRAxsHpmDf5"
      },
      "source": [
        "**OBS:** Lembre-se de chamar suas variáveis de nomes diferentes. Por exemplo, se em todo exercício que for necessário colocar um número a variável chamar \"num\", o seu código pode dar erro em algumas partes."
      ]
    },
    {
      "cell_type": "markdown",
      "metadata": {
        "id": "mbIV4PGQ3AqZ"
      },
      "source": [
        "## Print, input e output\n",
        "\n",
        "No workshop vimos que \"printar\" algo é dar ao seu código o comando de fazer algo aparecer na tela. Fazemos isso utilizando a função print do python.\n"
      ]
    },
    {
      "cell_type": "code",
      "metadata": {
        "colab": {
          "base_uri": "https://localhost:8080/"
        },
        "id": "aW1AiIYb1Tsi",
        "outputId": "b18aa07a-5c90-4e92-b8ab-a8100b449536"
      },
      "source": [
        "# exemplo\n",
        "\n",
        "print('Turing USP é o grupo que estuda, aplica e dissemina inteligência artificial.')"
      ],
      "execution_count": null,
      "outputs": [
        {
          "output_type": "stream",
          "text": [
            "Turing USP é o grupo que estuda, aplica e dissemina inteligência artificial.\n"
          ],
          "name": "stdout"
        }
      ]
    },
    {
      "cell_type": "markdown",
      "metadata": {
        "id": "U8xfShW6t6DA"
      },
      "source": [
        "### Exercícios"
      ]
    },
    {
      "cell_type": "markdown",
      "metadata": {
        "id": "YNPqa-t43rn_"
      },
      "source": [
        "\n",
        "Bote isso em prática e printe uma frase que você gosta (lembre-se de utilizar aspas):"
      ]
    },
    {
      "cell_type": "code",
      "metadata": {
        "id": "FOoe1uI23nBh"
      },
      "source": [
        "# ecreve aí!\n"
      ],
      "execution_count": null,
      "outputs": []
    },
    {
      "cell_type": "markdown",
      "metadata": {
        "id": "0yNAfqZm30Ew"
      },
      "source": [
        "Agora vamos treinar os conceitos de input e output. Para relembrar, **inputs** são as informações dadas ao computador, por exemplo, ao fornecer um nome para ser printado na tela. **Outputs** são as informações que seu computador gera, por exemplo, o resultado de uma conta."
      ]
    },
    {
      "cell_type": "code",
      "metadata": {
        "id": "RUZsznCi5lcH"
      },
      "source": [
        "resposta = input('Olá! Como vai? ')\n",
        "\n",
        "print(resposta) "
      ],
      "execution_count": null,
      "outputs": []
    },
    {
      "cell_type": "markdown",
      "metadata": {
        "id": "eu-zd_zt6Mpq"
      },
      "source": [
        "Faça um programa que recebe como input várias frases, a primeira perguntando qual o nome da pessoa, depois o dia do seu aniversário e por fim, onde ela nasceu. Depois retorne todas as informações juntas, por exemplo:\n",
        "\n",
        "`Seu nome é Beyoncé, você nasceu no dia 4 de setempro em Houston.`"
      ]
    },
    {
      "cell_type": "code",
      "metadata": {
        "id": "7Yi6MvYQ598b"
      },
      "source": [
        "nome = input(...\n",
        "...\n",
        "..."
      ],
      "execution_count": null,
      "outputs": []
    },
    {
      "cell_type": "markdown",
      "metadata": {
        "id": "HN9Q53Jn6_Ik"
      },
      "source": [
        "## Variáveis e seus tipos\n",
        "\n",
        "Variáveis são um dos recursos mais básicos das linguagens de programação. Utilizadas para armazenar valores em memória, elas nos permitem gravar e ler esses dados com facilidade a partir de um nome definido por nós.\n",
        "\n",
        "Temos alguns tipos: **str** (string), **int** (inteiros), **float** (números decimais) e **bool** (booleanos).\n",
        "\n",
        "Vamos fazer alguns exercícios agora, aplicando tudo que você viu até agora!\n"
      ]
    },
    {
      "cell_type": "code",
      "metadata": {
        "colab": {
          "base_uri": "https://localhost:8080/"
        },
        "id": "7t1Ffaef_TGB",
        "outputId": "9d9a29ce-3f1a-48f4-bde2-6c82dada2062"
      },
      "source": [
        "# para relembrar... \n",
        "# se você quer saber o tipo de uma variável, basta usar a função type\n",
        "\n",
        "variavel = 16 \n",
        "t = type(variavel)\n",
        "\n",
        "print('O tipo do número {} é {}'.format(variavel,t))\n",
        "\n",
        "# nesse exercício o .format é outra forma de fazer aparecer as variáveis desejadas no print\n",
        "# você adiciona as chaves {} onde quer que a variável esteja e depois no .format() adiciona ela\n",
        "# se for mais de uma variável siga a ordem certa no parênteses "
      ],
      "execution_count": null,
      "outputs": [
        {
          "output_type": "stream",
          "text": [
            "O tipo do número 16 é <class 'int'>\n"
          ],
          "name": "stdout"
        }
      ]
    },
    {
      "cell_type": "markdown",
      "metadata": {
        "id": "cz_sjX5bAmvF"
      },
      "source": [
        "### Exercício \n",
        "\n",
        "Agora é sua vez... \n",
        "\n",
        "Faça um programa que pede para algo ser digitado, e depois printa o tipo de variável que foi digitado:"
      ]
    },
    {
      "cell_type": "code",
      "metadata": {
        "id": "OZlI6WJzAN0b"
      },
      "source": [
        "... = input(...\n",
        "...\n",
        "..."
      ],
      "execution_count": null,
      "outputs": []
    },
    {
      "cell_type": "markdown",
      "metadata": {
        "id": "ROF9nGIzBztQ"
      },
      "source": [
        "## Operações \n",
        "\n",
        "### Aritméticas\n",
        "\n",
        "Os sinais para operações no Python:\n",
        "\n",
        "``` \n",
        "== igual\n",
        "+ adição\n",
        "- subtração\n",
        "* multiplicação\n",
        "/ divisão\n",
        "% resto de uma divisão \n",
        "** exponenciação\n",
        "```\n"
      ]
    },
    {
      "cell_type": "markdown",
      "metadata": {
        "id": "poRJvwZXuFJM"
      },
      "source": [
        "### Exercícios\n",
        "\n",
        "Vamos fazer algumas operações:"
      ]
    },
    {
      "cell_type": "markdown",
      "metadata": {
        "id": "OYVNYA5ZCQgX"
      },
      "source": [
        "Faça um programa que recebe o input de dois números inteiros e depois retorna a soma dos números da seguinte forma:\n",
        "\n",
        "``` A soma de (número 1) e (número 2) é (soma) ```"
      ]
    },
    {
      "cell_type": "code",
      "metadata": {
        "id": "QZ8WabltCNCQ"
      },
      "source": [
        "num1 = ...\n",
        "...\n",
        "...\n",
        "..."
      ],
      "execution_count": null,
      "outputs": []
    },
    {
      "cell_type": "markdown",
      "metadata": {
        "id": "oL5hvn1eDMGW"
      },
      "source": [
        "Faça um programa que recebe o input de um número e retorna o dobro, o triplo e a raiz quadrada do número digitado:"
      ]
    },
    {
      "cell_type": "code",
      "metadata": {
        "id": "EcCvTWHaEE6f"
      },
      "source": [
        "n = ...\n",
        "...\n",
        "...\n",
        "..."
      ],
      "execution_count": null,
      "outputs": []
    },
    {
      "cell_type": "markdown",
      "metadata": {
        "id": "LnL3-20MjLSQ"
      },
      "source": [
        "## Condicionais \n",
        "\n",
        "frequentemente quando formos criar programas, vamos querer que o computador execute um dado comando apenas quando uma certa condição for verdade. Para isso, vamos usar o comando if e else.\n",
        "\n",
        "Vamos exercitar isso!"
      ]
    },
    {
      "cell_type": "markdown",
      "metadata": {
        "id": "02Ngc2JiuJe-"
      },
      "source": [
        "### Exercícios"
      ]
    },
    {
      "cell_type": "markdown",
      "metadata": {
        "id": "-QgxgzdBkiZi"
      },
      "source": [
        "Faça um programa que recebe um número e, se for um número primo, retorna \"É um número primo!\". Caso contrário, retorna \"Não é número primo\"."
      ]
    },
    {
      "cell_type": "code",
      "metadata": {
        "id": "An-GdvIQkymX"
      },
      "source": [
        "num = ...\n",
        "...\n",
        "..."
      ],
      "execution_count": null,
      "outputs": []
    },
    {
      "cell_type": "markdown",
      "metadata": {
        "id": "gxShZJQFl6PG"
      },
      "source": [
        "Faça um Programa que leia três números e mostre o maior deles. "
      ]
    },
    {
      "cell_type": "code",
      "metadata": {
        "id": "q7AcCTLGmBc6"
      },
      "source": [
        "# não esquece de ir mudando o nome das variáveis, hein? nada de repetir \n",
        "...\n",
        "..."
      ],
      "execution_count": null,
      "outputs": []
    },
    {
      "cell_type": "markdown",
      "metadata": {
        "id": "it2H_YqdnATX"
      },
      "source": [
        "Faça um Programa que pergunte em que turno você estuda. Peça para digitar \n",
        "- M-matutino \n",
        "- V-Vespertino \n",
        "- N- Noturno. \n",
        "\n",
        "E printa a mensagem \"Bom Dia!\", \"Boa Tarde!\" ou \"Boa Noite!\" ou \"Valor Inválido!\", conforme o caso."
      ]
    },
    {
      "cell_type": "code",
      "metadata": {
        "id": "-uJP6GOZnIt9"
      },
      "source": [
        "turno = ...\n",
        "...\n",
        "..."
      ],
      "execution_count": null,
      "outputs": []
    },
    {
      "cell_type": "markdown",
      "metadata": {
        "id": "QxuDLVFLnaz_"
      },
      "source": [
        "Uma fruteira está vendendo frutas com a seguinte tabela de preços:\n",
        "```\n",
        "              Até 5 Kg              Acima de 5Kg\n",
        "              \n",
        "Morango    R$ 2,50 por Kg          R$ 2,20 por Kg\n",
        "\n",
        "Maçã       R$ 1,80 por Kg          R$ 1,50 por Kg\n",
        "```\n",
        "Se o cliente comprar mais de 8 Kg em frutas ou o valor total da compra ultrapassar R$ 25,00, receberá ainda um desconto de 10% sobre este total. Escreva um algoritmo para ler a quantidade (em Kg) de morangos e a quantidade (em Kg) de maças adquiridas e escreva o valor a ser pago pelo cliente."
      ]
    },
    {
      "cell_type": "code",
      "metadata": {
        "id": "Ne_RmQ5unzOn"
      },
      "source": [
        "...\n",
        "..."
      ],
      "execution_count": null,
      "outputs": []
    },
    {
      "cell_type": "markdown",
      "metadata": {
        "id": "RcZkMnMmn22k"
      },
      "source": [
        "## Listas\n",
        "\n",
        "Uma lista em Python é uma sequência ou coleção ordenada de valores. Cada valor na lista é identificado por um índice. As listas são similares a strings, que são uma sequência de caracteres, no entanto, diferentemente de strings, os itens de uma lista podem ser de tipos diferentes. \n",
        "\n",
        "Vamos fazer alguns exercícios: "
      ]
    },
    {
      "cell_type": "markdown",
      "metadata": {
        "id": "_MMNwL-HuRgq"
      },
      "source": [
        "### Exercícios"
      ]
    },
    {
      "cell_type": "markdown",
      "metadata": {
        "id": "ILS_w-ldn9Lg"
      },
      "source": [
        "Faça um Programa que leia um vetor de 10 números reais e mostre-os na ordem inversa."
      ]
    },
    {
      "cell_type": "code",
      "metadata": {
        "id": "jFOIYOuDn_1f"
      },
      "source": [
        "vetores = ...\n",
        "...\n",
        "..."
      ],
      "execution_count": null,
      "outputs": []
    },
    {
      "cell_type": "markdown",
      "metadata": {
        "id": "BFzjJb3SoHCw"
      },
      "source": [
        "Hora de sermos detetives! \n",
        "\n",
        "Utilizando listas faça um programa que faça 5 perguntas para uma pessoa sobre um crime. As perguntas são:\n",
        "- \"Telefonou para a vítima?\"\n",
        "- \"Esteve no local do crime?\"\n",
        "- \"Mora perto da vítima?\"\n",
        "- \"Devia para a vítima?\"\n",
        "- \"Já trabalhou com a vítima?\" \n",
        "\n",
        "O programa deve no final emitir uma classificação sobre a participação da pessoa no crime. Se a pessoa responder positivamente a 2 questões ela deve ser classificada como \"Suspeita\", entre 3 e 4 como \"Cúmplice\" e 5 como \"Assassino\". Caso contrário, ele será classificado como \"Inocente\"."
      ]
    },
    {
      "cell_type": "code",
      "metadata": {
        "id": "Kf1Mye4zojxP"
      },
      "source": [
        "perg1 = ... \n",
        "...\n",
        "...\n",
        "..."
      ],
      "execution_count": null,
      "outputs": []
    },
    {
      "cell_type": "markdown",
      "metadata": {
        "id": "V80G6NW4ovh3"
      },
      "source": [
        "Em uma competição de salto em distância cada atleta tem direito a cinco saltos. O resultado do atleta será determinado pela média dos cinco valores restantes. Você deve fazer um programa que receba o nome e as cinco distâncias alcançadas pelo atleta em seus saltos e depois informe o nome, os saltos e a média dos saltos. O programa deve ser encerrado quando não for informado o nome do atleta. A saída do programa deve ser conforme o exemplo abaixo:\n",
        "\n",
        "- Atleta: Rodrigo Curvêllo\n",
        " \n",
        "  - Primeiro Salto: 6.5 m\n",
        "  - Segundo Salto: 6.1 m\n",
        "  - Terceiro Salto: 6.2 m\n",
        "  - Quarto Salto: 5.4 m\n",
        "  - Quinto Salto: 5.3 m\n",
        "\n",
        "- Resultado final:\n",
        "  - Atleta: Rodrigo Curvêllo\n",
        "  - Saltos: 6.5 - 6.1 - 6.2 - 5.4 - 5.3\n",
        "  - Média dos saltos: 5.9 m"
      ]
    },
    {
      "cell_type": "code",
      "metadata": {
        "id": "GUOpWrVNpZbl"
      },
      "source": [
        "...\n",
        "..."
      ],
      "execution_count": null,
      "outputs": []
    },
    {
      "cell_type": "markdown",
      "metadata": {
        "id": "g-oBMQ_Rp87E"
      },
      "source": [
        "## Range e Loops\n",
        "\n",
        "O range não é nada mais do que uma forma rápida de criar uma sequência de números dentro de um determinado intervalo. Essa função aceita até 3 argumentos e, a partir deles, podemos decidir em que número a série começará, em qual ela terminará e qual será a diferença entre os números da série.\n",
        "\n",
        "Já loops são utilizados para quando queremos que uma série de comandos de códigos seja feita repetidamente até uma certa condição ou número de repetições ser satisfeita\n"
      ]
    },
    {
      "cell_type": "markdown",
      "metadata": {
        "id": "wS7UpE9jtzk-"
      },
      "source": [
        "### Exercícios"
      ]
    },
    {
      "cell_type": "markdown",
      "metadata": {
        "id": "-1fmfeJpqvnE"
      },
      "source": [
        "Faça um programa que recebe um número e depois gera a tabuada desse número, indo até ```número x 10```:"
      ]
    },
    {
      "cell_type": "code",
      "metadata": {
        "id": "7BKiUFd7rimN"
      },
      "source": [
        "numero_para_tabuada = int(input(...\n",
        "...\n",
        "..."
      ],
      "execution_count": null,
      "outputs": []
    },
    {
      "cell_type": "markdown",
      "metadata": {
        "id": "_s8G_MU4sTzN"
      },
      "source": [
        "Vamos fazer um programa de contagem! Ele deve receber um número inicial que vai ser de onde iniciará a contagem, depois um segundo número onde deverá acabar a contagem, e depois um número que indica de quanto em quanto será aquela contagem. Por exemplo:\n",
        "\n",
        "Número inicial: 1\n",
        "Número final: 10\n",
        "Contagem: 2\n",
        "\n",
        "1...3...5...7...9... fim."
      ]
    },
    {
      "cell_type": "code",
      "metadata": {
        "id": "LVBvLmBhtW2B"
      },
      "source": [
        "inicio = input(...)\n",
        "...\n",
        "..."
      ],
      "execution_count": null,
      "outputs": []
    },
    {
      "cell_type": "markdown",
      "metadata": {
        "id": "a8x2tLapv9Ds"
      },
      "source": [
        "O Sr. Manoel Joaquim acaba de adquirir uma panificadora e pretende implantar a metodologia da tabelinha, que já é um sucesso na sua loja de 1,99. Você foi contratado para desenvolver o programa que monta a tabela de preços de pães, de 1 até 50 pães, a partir do preço do pão informado pelo usuário, conforme o exemplo abaixo:\n",
        "\n",
        "```\n",
        "Preço do pão: R$ 0.18\n",
        "Panificadora Pão de Ontem - Tabela de preços\n",
        "1 - R$ 0.18\n",
        "2 - R$ 0.36\n",
        "...\n",
        "50 - R$ 9.00\n",
        "```"
      ]
    },
    {
      "cell_type": "code",
      "metadata": {
        "id": "NM-06kK_wB-I"
      },
      "source": [
        "paes = ...\n",
        "...\n",
        "..."
      ],
      "execution_count": null,
      "outputs": []
    },
    {
      "cell_type": "markdown",
      "metadata": {
        "id": "RzAsDFo33B9Y"
      },
      "source": [
        "## Funções\n",
        "\n",
        "Uma função é um bloco de código que contém uma sequência de comandos que executa alguma tarefa. São utilizadas para executar determinadas tarefas que normalmente precisam ser executadas diversas vezes dentro de uma aplicação. Dessa forma, não é necessário repetir as mesmas linhas de código sempre que se quiser realizar determinada tarefa!\n",
        "\n",
        "Vamos treinar?"
      ]
    },
    {
      "cell_type": "markdown",
      "metadata": {
        "id": "eV_lIw9v3U44"
      },
      "source": [
        "### Exercícios"
      ]
    },
    {
      "cell_type": "markdown",
      "metadata": {
        "id": "JBr7ew2F3XoO"
      },
      "source": [
        "Faça uma função que recebe o nome e a idade do usuário e retorne verdadeiro se ele for maior de idade e falso caso contrário:"
      ]
    },
    {
      "cell_type": "code",
      "metadata": {
        "id": "3wV1TEO23iRq"
      },
      "source": [
        "def ...\n",
        "...\n",
        "..."
      ],
      "execution_count": null,
      "outputs": []
    },
    {
      "cell_type": "markdown",
      "metadata": {
        "id": "Lu6FWKha3m3M"
      },
      "source": [
        "Faça uma função que recebe a data de nascimento do usuário no formado dd/mm/aaaa e escreva ela da seguinte forma: \n",
        "\n",
        "```\"Você nasceu no dia [dd] de [mm] de [aaaa]\"```"
      ]
    },
    {
      "cell_type": "code",
      "metadata": {
        "id": "eIYFx5uM31zo"
      },
      "source": [
        "def ...\n",
        "...\n",
        "..."
      ],
      "execution_count": null,
      "outputs": []
    },
    {
      "cell_type": "markdown",
      "metadata": {
        "id": "_E-5_sOm388-"
      },
      "source": [
        "Faça uma função que converta horas no formato 24h para o formato 12h e vice versa:"
      ]
    },
    {
      "cell_type": "code",
      "metadata": {
        "id": "VUUobWTH3_bb"
      },
      "source": [
        "def ...\n",
        "...\n",
        "..."
      ],
      "execution_count": null,
      "outputs": []
    },
    {
      "cell_type": "markdown",
      "metadata": {
        "id": "TLKWUEq04Ds2"
      },
      "source": [
        "Faça uma função que ao receber uma palavra retorne ela de trás pra frente:\n"
      ]
    },
    {
      "cell_type": "code",
      "metadata": {
        "id": "6V0SX6-I4Fa9"
      },
      "source": [
        "def ...\n",
        "...\n",
        "..."
      ],
      "execution_count": null,
      "outputs": []
    },
    {
      "cell_type": "markdown",
      "metadata": {
        "id": "0tIxjU9y4HPc"
      },
      "source": [
        "Faça uma função que retorne o fatorial de um número dado:"
      ]
    },
    {
      "cell_type": "code",
      "metadata": {
        "id": "emobmgSI4KXx"
      },
      "source": [
        "def ...\n",
        "...\n",
        "..."
      ],
      "execution_count": null,
      "outputs": []
    },
    {
      "cell_type": "markdown",
      "metadata": {
        "id": "vptTAppJ4Lp_"
      },
      "source": [
        "# Conclusão\n",
        "\n",
        "Parabéns se chegou até aqui! Caso você não tenha conseguido fazer todos os exercícios saiba que tudo bem, você está apenas começando. Caso você queira se aprofundar mais em programação e queira adquirir um conhecimento básico sólido, encorajamos que continue tentando entender e a realizar todos os exercícios deste notebook. A seguir indicamos alguns lugares com cursos de python caso tenha interesse: \n",
        "\n",
        "- [Curso em vídeo - Guanabara ](https://www.youtube.com/watch?v=S9uPNppGsGo&list=PLvE-ZAFRgX8hnECDn1v9HNTI71veL3oW0&ab_channel=CursoemV%C3%ADdeo)\n",
        "\n",
        "- [Python tutorial for beginners - Corey Schafer](https://www.youtube.com/watch?v=YYXdXT2l-Gg&list=PL-osiE80TeTskrapNbzXhwoFUiLCjGgY7&ab_channel=CoreySchafer) (curso em inglês)\n",
        "\n",
        "Se você for aluno USP, tem acesso gratuito a muitos cursos do Coursera, então algumas recomendações: \n",
        "\n",
        "- [Python para todos](https://www.coursera.org/programs/universidade-de-sao-paulo-br-on-coursera-mvxtw?collectionId=&currentTab=CATALOG&productId=F-h1g0w7EeWeOApO_l5R1w&productType=s12n&showMiniModal=true)\n",
        "\n",
        "- [ Python básico](https://www.coursera.org/programs/universidade-de-sao-paulo-br-on-coursera-mvxtw?collectionId=&currentTab=CATALOG&productId=lGfJI2RJEeiXlwpPEKC-GA&productType=course&showMiniModal=true)\n",
        "\n",
        "Caso queira contatar a gente de alguma forma, seja para tirar dúvidas ou dar um feedback, não esqueça de nos chamar nas nossas mídias\ (Discord, Instagram ou Facebook)"
      ]
    },
    {
      "cell_type": "markdown",
      "metadata": {
        "id": "3QHQ6ZKv6WoA"
      },
      "source": [
        "## Até o próximo evento! 💕"
      ]
    }
  ]
}
