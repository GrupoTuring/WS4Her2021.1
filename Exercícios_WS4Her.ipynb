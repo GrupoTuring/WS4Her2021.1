{
  "nbformat": 4,
  "nbformat_minor": 0,
  "metadata": {
    "colab": {
      "name": "Exercícios - WS4Her.ipynb",
      "provenance": []
    },
    "kernelspec": {
      "name": "python3",
      "display_name": "Python 3"
    },
    "language_info": {
      "name": "python"
    }
  },
  "cells": [
    {
      "cell_type": "markdown",
      "metadata": {
        "id": "6RGiuCKf1dHn"
      },
      "source": [
        "# 👩💻 WS4Her2021.1 - Exercícios\n",
        "\n",
        "Olá! Foi um prazer receber você em nosso workshop. Esperamos vê-la em breve em mais eventos do Turing USP. \n",
        "\n",
        "Para ajuda a fixar os conteúdos vistos no workshop, preparamos alguns exercícios para que você bote a mão na massa! Encorajamos que você tente fazê-los com calma, enquanto olha o notebook do workshop como material de apoio.\n",
        "\n",
        "Qualquer dúvida, contate-nos pelas nossas mídias sociais, estamos disponíveis para tirar dúvidas:\n",
        "\n",
        "[Discord](https://discord.gg/26RGmBS) \n",
        "| [Instagram](https://www.instagram.com/turing.usp/)\n",
        "| [Facebook](https://www.facebook.com/turing.usp)\n"
      ]
    },
    {
      "cell_type": "markdown",
      "metadata": {
        "id": "mbIV4PGQ3AqZ"
      },
      "source": [
        "## Print, input e output\n",
        "\n",
        "No workshop vimos que \"printar\" algo é dar ao seu código o comando de fazer algo aparecer na tela. Fazemos isso utilizando a função print do python.\n"
      ]
    },
    {
      "cell_type": "code",
      "metadata": {
        "colab": {
          "base_uri": "https://localhost:8080/"
        },
        "id": "aW1AiIYb1Tsi",
        "outputId": "b18aa07a-5c90-4e92-b8ab-a8100b449536"
      },
      "source": [
        "# exemplo\n",
        "\n",
        "print('Turing USP é o grupo que estuda, aplica e dissemina inteligência artificial.')"
      ],
      "execution_count": 1,
      "outputs": [
        {
          "output_type": "stream",
          "text": [
            "Turing USP é o grupo que estuda, aplica e dissemina inteligência artificial.\n"
          ],
          "name": "stdout"
        }
      ]
    },
    {
      "cell_type": "markdown",
      "metadata": {
        "id": "YNPqa-t43rn_"
      },
      "source": [
        "\n",
        "Bote isso em prática e printe uma frase que você gosta (lembre-se de utilizar aspas):"
      ]
    },
    {
      "cell_type": "code",
      "metadata": {
        "id": "FOoe1uI23nBh"
      },
      "source": [
        "# ecreve aí!\n"
      ],
      "execution_count": null,
      "outputs": []
    },
    {
      "cell_type": "markdown",
      "metadata": {
        "id": "0yNAfqZm30Ew"
      },
      "source": [
        "Agora vamos treinar os conceitos de input e output. Para relembrar, **inputs** são as informações dadas ao computador, por exemplo, ao fornecer um nome para ser printado na tela. **Outputs** são as informações que seu computador gera, por exemplo, o resultado de uma conta."
      ]
    },
    {
      "cell_type": "code",
      "metadata": {
        "id": "RUZsznCi5lcH"
      },
      "source": [
        "resposta = input('Olá! Como vai? ')\n",
        "\n",
        "print(resposta) "
      ],
      "execution_count": null,
      "outputs": []
    },
    {
      "cell_type": "markdown",
      "metadata": {
        "id": "eu-zd_zt6Mpq"
      },
      "source": [
        "Faça um programa que recebe como input várias frases, a primeira perguntando qual o nome da pessoa, depois o dia do seu aniversário e por fim, onde ela nasceu. Depois retorne todas as informações juntas, por exemplo:\n",
        "\n",
        "`Seu nome é Beyoncé, você nasceu no dia 4 de setempro em Houston.`"
      ]
    },
    {
      "cell_type": "code",
      "metadata": {
        "id": "7Yi6MvYQ598b"
      },
      "source": [
        "nome = input(...\n",
        "...\n",
        "..."
      ],
      "execution_count": null,
      "outputs": []
    },
    {
      "cell_type": "markdown",
      "metadata": {
        "id": "HN9Q53Jn6_Ik"
      },
      "source": [
        "## Variáveis e seus tipos\n",
        "\n",
        "Variáveis são um dos recursos mais básicos das linguagens de programação. Utilizadas para armazenar valores em memória, elas nos permitem gravar e ler esses dados com facilidade a partir de um nome definido por nós.\n",
        "\n",
        "Temos alguns tipos: **str** (string), **int** (inteiros), **float** (números decimais) e **bool** (booleanos).\n",
        "\n",
        "Vamos fazer alguns exercícios agora, aplicando tudo que você viu até agora!\n"
      ]
    },
    {
      "cell_type": "code",
      "metadata": {
        "colab": {
          "base_uri": "https://localhost:8080/"
        },
        "id": "7t1Ffaef_TGB",
        "outputId": "f30c5926-a229-45fc-d585-81e5fda8a8fe"
      },
      "source": [
        "# para relembrar... \n",
        "# se você quer saber o tipo de uma variável, basta usar a função type\n",
        "\n",
        "num = 16 \n",
        "t = type(num)\n",
        "\n",
        "print('O tipo do número {} é {}'.format(num,t))\n",
        "\n",
        "# nesse exercício o .format é outra forma de fazer aparecer as variáveis desejadas no print\n",
        "# você adiciona as chaves {} onde quer que a variável esteja e depois no .format() adiciona ela\n",
        "# se for mais de uma variável siga a ordem certa no parênteses "
      ],
      "execution_count": 9,
      "outputs": [
        {
          "output_type": "stream",
          "text": [
            "O tipo do número 16 é <class 'int'>\n"
          ],
          "name": "stdout"
        }
      ]
    },
    {
      "cell_type": "markdown",
      "metadata": {
        "id": "cz_sjX5bAmvF"
      },
      "source": [
        "Agora é sua vez... \n",
        "\n",
        "Faça um programa que pede para algo ser digitado, e depois printa o tipo de variável que foi digitado:"
      ]
    },
    {
      "cell_type": "code",
      "metadata": {
        "id": "OZlI6WJzAN0b"
      },
      "source": [
        "... = input(...\n",
        "...\n",
        "..."
      ],
      "execution_count": null,
      "outputs": []
    },
    {
      "cell_type": "markdown",
      "metadata": {
        "id": "ROF9nGIzBztQ"
      },
      "source": [
        "## Operações \n",
        "\n",
        "### Aritméticas\n",
        "\n",
        "Os sinais para operações no Python:\n",
        "\n",
        "``` \n",
        "== igual\n",
        "+ adição\n",
        "- subtração\n",
        "* multiplicação\n",
        "/ divisão\n",
        "% resto de uma divisão \n",
        "** exponenciação\n",
        "```\n",
        "Vamos fazer algumas operações:"
      ]
    },
    {
      "cell_type": "markdown",
      "metadata": {
        "id": "OYVNYA5ZCQgX"
      },
      "source": [
        "Faça um programa que recebe o input de dois números inteiros e depois retorna a soma dos números da seguinte forma:\n",
        "\n",
        "``` A soma de (número 1) e (número 2) é (soma) ```"
      ]
    },
    {
      "cell_type": "code",
      "metadata": {
        "id": "QZ8WabltCNCQ"
      },
      "source": [
        "num1 = ...\n",
        "...\n",
        "...\n",
        "..."
      ],
      "execution_count": null,
      "outputs": []
    },
    {
      "cell_type": "markdown",
      "metadata": {
        "id": "oL5hvn1eDMGW"
      },
      "source": [
        "Faça um programa que recebe o input de um número e retorna o dobro, o triplo e a raiz quadrada do número digitado:"
      ]
    },
    {
      "cell_type": "code",
      "metadata": {
        "id": "EcCvTWHaEE6f"
      },
      "source": [
        "num = ...\n",
        "...\n",
        "...\n",
        "..."
      ],
      "execution_count": null,
      "outputs": []
    }
  ]
}