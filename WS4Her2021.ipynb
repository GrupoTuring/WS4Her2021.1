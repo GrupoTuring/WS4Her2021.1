{
 "cells": [
  {
   "cell_type": "markdown",
   "metadata": {
    "id": "gNqf774JA6IW"
   },
   "source": [
    "# 👩💻 WS4Her2021.1 - Notebook\n",
    "\n",
    "## Tema: Introdução à Programção em Python\n",
    "\n",
    "### Conteúdos:\n",
    "1. Print, input, output\n",
    "2. Variáveis\n",
    "3. Operações (aritméticas, booleanas e lógicas)\n",
    "4. Condicionais\n",
    "5. Listas\n",
    "6. Range\n",
    "7. Loops\n",
    "8. Funções\n",
    "9. Aplicação final: chatbot 'Eliza'\n",
    "\n"
   ]
  },
  {
   "cell_type": "markdown",
   "metadata": {
    "id": "cQu9hpt7gkf3"
   },
   "source": [
    "## Print\n",
    "\n",
    "\"Printar\" algo é dar ao seu código o comando de fazer algo aparecer na tela. Fazemos isso utilizando a função ```print``` do python.\n",
    "\n",
    "Neste primeiro caso vamos utilizar aspas (' ') porque o que queremos printar é um texto (string), e no python é necessário que textos estejam sempre dessa forma."
   ]
  },
  {
   "cell_type": "code",
   "execution_count": null,
   "metadata": {
    "id": "W9XG_6JOPC2M"
   },
   "outputs": [],
   "source": [
    "print('Meu namorado é mó otário')"
   ]
  },
  {
   "cell_type": "code",
   "execution_count": null,
   "metadata": {
    "id": "o8fQsvikhcRM"
   },
   "outputs": [],
   "source": [
    "texto = 'Ele lava minhas calcinhas'\n",
    "\n",
    "print(texto)"
   ]
  },
  {
   "cell_type": "markdown",
   "metadata": {
    "id": "Creis2QlZLOZ"
   },
   "source": [
    "### Exercício!"
   ]
  },
  {
   "cell_type": "code",
   "execution_count": null,
   "metadata": {
    "id": "bg1O-vf2hg52"
   },
   "outputs": [],
   "source": [
    "print('Digite aqui sua própria frase') # não esquece das aspas, ein?"
   ]
  },
  {
   "cell_type": "markdown",
   "metadata": {
    "id": "56GlvKl8hnt5"
   },
   "source": [
    "## Input e Output\n",
    "\n",
    "Inputs são as informações dadas ao computador, por exemplo, ao fornecer um nome para ser printado na tela.\n",
    "\n",
    "Outputs são as informações que seu computador gera, por exemplo, o resultado de uma conta.\n",
    "\n"
   ]
  },
  {
   "cell_type": "code",
   "execution_count": null,
   "metadata": {
    "colab": {
     "base_uri": "https://localhost:8080/"
    },
    "id": "shfPBKy5izwl",
    "outputId": "258456ad-ab0a-42f4-bb59-4611ba5b8078"
   },
   "outputs": [
    {
     "name": "stdout",
     "output_type": "stream",
     "text": [
      "Qual seu nome? MC Carol\n",
      "MC Carol\n"
     ]
    }
   ],
   "source": [
    "nome = input('Qual seu nome? ')\n",
    "\n",
    "print(nome)"
   ]
  },
  {
   "cell_type": "code",
   "execution_count": null,
   "metadata": {
    "colab": {
     "base_uri": "https://localhost:8080/"
    },
    "id": "ETXOuISAi9qB",
    "outputId": "d1b8b247-1817-4624-99b4-f6abb93c2955"
   },
   "outputs": [
    {
     "name": "stdout",
     "output_type": "stream",
     "text": [
      "Qual sua idade? 21\n",
      "Sua idade é 21\n"
     ]
    }
   ],
   "source": [
    "idade = input('Qual sua idade? ')\n",
    "\n",
    "print('Sua idade é ' + idade)"
   ]
  },
  {
   "cell_type": "code",
   "execution_count": null,
   "metadata": {
    "colab": {
     "base_uri": "https://localhost:8080/"
    },
    "id": "azmu7aYGidvk",
    "outputId": "b624a106-a45e-4406-f2a0-fbcf2eb2c4ed"
   },
   "outputs": [
    {
     "name": "stdout",
     "output_type": "stream",
     "text": [
      "Que dia você nasceu? 27\n",
      "Que mês você nasceu? julho\n",
      "Que ano você nasceu? 1999\n",
      "Você nasceu no dia 27 de julho de 1999. Correto?\n"
     ]
    }
   ],
   "source": [
    "dia = input ('Que dia você nasceu? ')\n",
    "mês = input ('Que mês você nasceu? ' )\n",
    "ano = input ('Que ano você nasceu? ')\n",
    "print('Você nasceu no dia ' + dia + ' de ' + mês + ' de ' + ano + '. Correto?')"
   ]
  },
  {
   "cell_type": "markdown",
   "metadata": {
    "id": "0-0WPQKNjOdn"
   },
   "source": [
    "### Exercício!\n",
    "\n",
    "Escreva um input que pergunta o nome da mãe e do pai de uma pessoa e depois printa a frase \"Sua mãe chama x e seu pai chama y\" na tela."
   ]
  },
  {
   "cell_type": "code",
   "execution_count": null,
   "metadata": {
    "id": "f2oPwfLqjNEV"
   },
   "outputs": [],
   "source": [
    "# complete\n",
    "mãe = ... \n",
    "pai = ...\n",
    "..."
   ]
  },
  {
   "cell_type": "markdown",
   "metadata": {
    "id": "eK2XBg2H_Q83"
   },
   "source": [
    "## Variáveis e seus tipos\n",
    "\n",
    "Variáveis são um dos recursos mais básicos das linguagens de programação. Utilizadas para armazenar valores em memória, elas nos permitem gravar e ler esses dados com facilidade a partir de um nome definido por nós. \n",
    "\n",
    "Por exemplo, você já atribuiu várias variáveis desde que esse workshop começou, por exemplo as variáveis \"mãe\" e \"pai\" acima!"
   ]
  },
  {
   "cell_type": "code",
   "execution_count": null,
   "metadata": {
    "colab": {
     "base_uri": "https://localhost:8080/"
    },
    "id": "yEzi8mxp_qBQ",
    "outputId": "e7818ae2-ddf0-493d-cc68-1196018f6b58"
   },
   "outputs": [
    {
     "name": "stdout",
     "output_type": "stream",
     "text": [
      "<class 'str'>\n",
      "<class 'int'>\n",
      "<class 'float'>\n",
      "<class 'bool'>\n"
     ]
    }
   ],
   "source": [
    "nome = 'Felipe'\n",
    "idade = 15 \n",
    "altura = 2.90\n",
    "confere_altura = altura == 2.91\n",
    "\n",
    "print(type(nome))\n",
    "print(type(idade))\n",
    "print(type(altura))\n",
    "print(type(confere_idade))"
   ]
  },
  {
   "cell_type": "code",
   "execution_count": null,
   "metadata": {
    "colab": {
     "base_uri": "https://localhost:8080/"
    },
    "id": "gxGkWOML__hW",
    "outputId": "6bf23ebd-71a2-4d40-8681-6cdcb8234bcf"
   },
   "outputs": [
    {
     "name": "stdout",
     "output_type": "stream",
     "text": [
      "False\n"
     ]
    }
   ],
   "source": [
    "print(confere_altura)"
   ]
  },
  {
   "cell_type": "code",
   "execution_count": null,
   "metadata": {
    "colab": {
     "base_uri": "https://localhost:8080/"
    },
    "id": "B-eyzQ1GArp5",
    "outputId": "5ea53dc1-1db3-4990-929e-177336df94f0"
   },
   "outputs": [
    {
     "name": "stdout",
     "output_type": "stream",
     "text": [
      "True\n"
     ]
    }
   ],
   "source": [
    "print(altura == 2.90)"
   ]
  },
  {
   "cell_type": "markdown",
   "metadata": {
    "id": "dPEAwAAdB5oi"
   },
   "source": [
    "### Exercício! \n",
    "\n",
    "Vamos falar sobre arquitetura! Atribua valores a quatro variáveis: `ambiente` (O tipo de cômodo), `altura` (a altura do cômodo), `metros` (quantos metros quadrados tem o ambiente) e `afirmação` (alguma afirmação a respeito de qualquer uma das variáveis atribuídas, depois printe os tipos de cada uma."
   ]
  },
  {
   "cell_type": "code",
   "execution_count": null,
   "metadata": {
    "id": "kMZ3Jg3xDNNJ"
   },
   "outputs": [],
   "source": [
    "# atribua os valores às variáveis \n",
    "ambiente = ... \n",
    "altura...\n",
    "...\n",
    "...\n",
    "\n",
    "# printe os tipos\n",
    "print(type(...))\n",
    "...\n",
    "...\n",
    "...\n",
    "..."
   ]
  },
  {
   "cell_type": "markdown",
   "metadata": {
    "id": "4cn4J_6kY_hP"
   },
   "source": [
    "## Operações \n"
   ]
  },
  {
   "cell_type": "markdown",
   "metadata": {
    "id": "7IaNmtNaMVAf"
   },
   "source": [
    "### Aritméticas\n",
    "As operações aritméticas podem ser feitas pelo Python assim como você faria numa calculadora, só precisamos decorar qual o equivalente de cada sinal da operação, já que sabemos que, por exemplo, o sinal de \"=\" no python não significa \"igual\", certo?\n",
    "\n",
    "Os sinais para operações no Python: \n",
    "\n",
    "``` \n",
    "== igual\n",
    "+ adição\n",
    "- subtração\n",
    "* multiplicação\n",
    "/ divisão\n",
    "% resto de uma divisão \n",
    "** exponenciação\n",
    "```\n",
    "\n",
    "Vamos fazer algumas operações:"
   ]
  },
  {
   "cell_type": "code",
   "execution_count": null,
   "metadata": {
    "colab": {
     "base_uri": "https://localhost:8080/"
    },
    "id": "iBRNWg6SWU54",
    "outputId": "9295ed45-56b1-4c02-eb45-76adaee795ef"
   },
   "outputs": [
    {
     "name": "stdout",
     "output_type": "stream",
     "text": [
      "4\n",
      "25\n",
      "50\n",
      "10.0\n",
      "16\n"
     ]
    }
   ],
   "source": [
    "soma = 1 + 3\n",
    "subtracao = 50 - 25\n",
    "multiplicacao = 10 * 5\n",
    "divisao = 30 / 3\n",
    "expo = 2**4\n",
    "\n",
    "print(soma)\n",
    "print(subtracao)\n",
    "print(multiplicacao)\n",
    "print(divisao)\n",
    "print(expo)"
   ]
  },
  {
   "cell_type": "code",
   "execution_count": null,
   "metadata": {
    "colab": {
     "base_uri": "https://localhost:8080/"
    },
    "id": "lwjnRVm6YCjl",
    "outputId": "a7c565e8-e21b-402f-d47c-8e2c8e1ad27a"
   },
   "outputs": [
    {
     "name": "stdout",
     "output_type": "stream",
     "text": [
      "2\n"
     ]
    }
   ],
   "source": [
    "# resto da divisão\n",
    "resto = 56 % 3 \n",
    "print(resto)"
   ]
  },
  {
   "cell_type": "markdown",
   "metadata": {
    "id": "jQ7_iPFdYLZc"
   },
   "source": [
    "Também podemos realizar operações com os números recebidos pelas variáveis:"
   ]
  },
  {
   "cell_type": "code",
   "execution_count": null,
   "metadata": {
    "colab": {
     "base_uri": "https://localhost:8080/"
    },
    "id": "LSsa7doHXViv",
    "outputId": "bd5b557e-2688-42da-fe05-efd7f1ab61f7"
   },
   "outputs": [
    {
     "name": "stdout",
     "output_type": "stream",
     "text": [
      "210\n"
     ]
    }
   ],
   "source": [
    "num1 = 10\n",
    "num2 = 21 \n",
    "\n",
    "num3 = num1 * num2\n",
    "print(num3)"
   ]
  },
  {
   "cell_type": "markdown",
   "metadata": {
    "id": "prLhWk7ua7nm"
   },
   "source": [
    "#### Exercício"
   ]
  },
  {
   "cell_type": "code",
   "execution_count": null,
   "metadata": {
    "id": "1Nowot1Wa0Nj"
   },
   "outputs": [],
   "source": [
    "# Use este espaço para testar alguma operação!\n",
    "... "
   ]
  },
  {
   "cell_type": "markdown",
   "metadata": {
    "id": "8ReLs4sPZR3_"
   },
   "source": [
    "### Booleanas\n",
    "\n",
    "Operações booleanas são formas de realizar comparações, pois quando se compara algo a resposta tende a ser \"Verdadeiro\" ou \"Falso\""
   ]
  },
  {
   "cell_type": "code",
   "execution_count": null,
   "metadata": {
    "colab": {
     "base_uri": "https://localhost:8080/"
    },
    "id": "9kXkeaPBMums",
    "outputId": "34fd6f25-522c-45a9-f13a-0aed526359ff"
   },
   "outputs": [
    {
     "name": "stdout",
     "output_type": "stream",
     "text": [
      "Valor de c:  True\n",
      "Valor de d:  False\n",
      "Valor de e:  False\n"
     ]
    }
   ],
   "source": [
    "a = 3\n",
    "b = 4\n",
    "\n",
    "c = a < b   # c recebe o valor da comparação a < b\n",
    "d = a > b   # d recebe o valor da comparação a > b\n",
    "e = a == b  # e recebe o valor da comparação a == b\n",
    "\n",
    "print(\"Valor de c: \", c)\n",
    "print(\"Valor de d: \", d)\n",
    "print(\"Valor de e: \", e)\n"
   ]
  },
  {
   "cell_type": "markdown",
   "metadata": {
    "id": "mzlqvaykbH1b"
   },
   "source": [
    "#### Exercício!"
   ]
  },
  {
   "cell_type": "code",
   "execution_count": null,
   "metadata": {
    "id": "9-Anls5PMvRJ"
   },
   "outputs": [],
   "source": [
    "# Use este espaço para testar alguma operação booleana\n",
    "... "
   ]
  },
  {
   "cell_type": "markdown",
   "metadata": {
    "id": "XZCfHQSGbfPH"
   },
   "source": [
    "### Lógicas\n",
    "\n",
    "O Python nos fornece uma lista de operadores lógicos para que nós possamos de forma mais fácil, verificar várias condições. Por exemplo, se eu quero saber se \n",
    " é maior que quatro ou menor que quatro, podemos utilizar operações lógicas.\n",
    "\n",
    "Operadores:\n",
    "\n",
    "* and = e\n",
    "* or = ou\n",
    "* not = negação\n",
    "* is not = não é\n",
    "* in = está contido\n",
    "* not in = não está contido\n",
    "\n",
    "\n"
   ]
  },
  {
   "cell_type": "markdown",
   "metadata": {
    "id": "VVKp_nR64WKy"
   },
   "source": [
    "#### Operador ```and```\n",
    "\n",
    "Usamos o ```and``` quando queremos verificar se duas afirmações são verdadeiras. Ao usá-lo, todas as condições precisam ser verdadeiras, se não é retornado \"False\"."
   ]
  },
  {
   "cell_type": "code",
   "execution_count": null,
   "metadata": {
    "colab": {
     "base_uri": "https://localhost:8080/"
    },
    "id": "k526Tcn533f6",
    "outputId": "51aa02cf-d52f-47a7-9a43-813cbb3a58a6"
   },
   "outputs": [
    {
     "data": {
      "text/plain": [
       "False"
      ]
     },
     "execution_count": 1,
     "metadata": {
      "tags": []
     },
     "output_type": "execute_result"
    }
   ],
   "source": [
    "# 2 é maior que 4 E 2 é menor que 4 \n",
    "2 > 4 and 2 < 4 "
   ]
  },
  {
   "cell_type": "code",
   "execution_count": null,
   "metadata": {
    "colab": {
     "base_uri": "https://localhost:8080/"
    },
    "id": "OUqHy0MH37M_",
    "outputId": "41bf34b5-b481-4f9a-8fdb-b2e958785322"
   },
   "outputs": [
    {
     "data": {
      "text/plain": [
       "True"
      ]
     },
     "execution_count": 2,
     "metadata": {
      "tags": []
     },
     "output_type": "execute_result"
    }
   ],
   "source": [
    "4 > 2 and 2 < 4 # aqui ambas são verdade, por isso é retornado \"True\""
   ]
  },
  {
   "cell_type": "markdown",
   "metadata": {
    "id": "k0Qu2gur4lIn"
   },
   "source": [
    "#### Operador ```or```\n",
    "\n",
    "Usamos o operador ```or``` quando queremos saber se uma afirmação OU outra é verdadeira. Se a nossa primeira afirmação for verdadeira OU se a segunda for, será retornado \"True\", ou seja, se só uma das condições for verdade o programa retorna \"True\", mesmo que uma delas não seja. Ele só dirá que é falso se ambas forem falsas."
   ]
  },
  {
   "cell_type": "code",
   "execution_count": null,
   "metadata": {
    "colab": {
     "base_uri": "https://localhost:8080/"
    },
    "id": "pFtxNUHY4QUR",
    "outputId": "acc50704-8bff-4368-c4c9-ff65eba52f0a"
   },
   "outputs": [
    {
     "data": {
      "text/plain": [
       "True"
      ]
     },
     "execution_count": 3,
     "metadata": {
      "tags": []
     },
     "output_type": "execute_result"
    }
   ],
   "source": [
    "2 == 5 or 2 < 5"
   ]
  },
  {
   "cell_type": "markdown",
   "metadata": {
    "id": "82a36EdJ53jU"
   },
   "source": [
    "Apenas a segunda afirmação é verdade, portanto nosso programa retornou \"True\"."
   ]
  },
  {
   "cell_type": "code",
   "execution_count": null,
   "metadata": {
    "colab": {
     "base_uri": "https://localhost:8080/"
    },
    "id": "9LyeDENO52LW",
    "outputId": "bcbc7a25-da6c-46b1-b9bb-757c32b2471c"
   },
   "outputs": [
    {
     "data": {
      "text/plain": [
       "False"
      ]
     },
     "execution_count": 4,
     "metadata": {
      "tags": []
     },
     "output_type": "execute_result"
    }
   ],
   "source": [
    "2 >= 4 or 3 == 6"
   ]
  },
  {
   "cell_type": "markdown",
   "metadata": {
    "id": "Zfqkop7r6Daw"
   },
   "source": [
    "Nesse caso ambas as afirmações estão erradas, portanto temos como resposta \"False\"."
   ]
  },
  {
   "cell_type": "markdown",
   "metadata": {
    "id": "XQyUpe07IW41"
   },
   "source": [
    "#### Operador ```not```\n",
    "\n",
    "Esse operador tem a característica de transformar outras afirmações no seu oposto, por exemplo, transforma uma condição verdadeira em não-verdadeira (falsa)."
   ]
  },
  {
   "cell_type": "code",
   "execution_count": 5,
   "metadata": {
    "colab": {
     "base_uri": "https://localhost:8080/"
    },
    "id": "jG9oA_tJInn1",
    "outputId": "e5844756-4d2e-4ba8-d29f-3bab04a48f64"
   },
   "outputs": [
    {
     "data": {
      "text/plain": [
       "False"
      ]
     },
     "execution_count": 5,
     "metadata": {
      "tags": []
     },
     "output_type": "execute_result"
    }
   ],
   "source": [
    "not(2 < 4 and 4 > 2 )"
   ]
  },
  {
   "cell_type": "markdown",
   "metadata": {
    "id": "yKj-7uEP7CLx"
   },
   "source": [
    "#### Outros operadores lógicos \n",
    "\n",
    "Cada um funciona de forma diferente, e explicá-los e testá-los um por um demoraria um pouco. Para se aprofundar em todos os operadores e como cada um deles funciona, é só dar uma olhada [neste vídeo](https://https://www.youtube.com/watch?v=czW7I2CCcUM&ab_channel=eXcript). "
   ]
  },
  {
   "cell_type": "markdown",
   "metadata": {
    "id": "ghLtEORN_BPl"
   },
   "source": [
    "#### Exercício!\n",
    "\n",
    "Use o espaço abaixo para testar algum dos operadores lógicos que vimos:"
   ]
  },
  {
   "cell_type": "code",
   "execution_count": null,
   "metadata": {
    "id": "q5pQsz7z_PD3"
   },
   "outputs": [],
   "source": [
    "# testa aqui!\n",
    "..."
   ]
  },
  {
   "cell_type": "markdown",
   "metadata": {},
   "source": [
    "# Funções\n",
    "## O que são Funções?\n",
    "\n",
    "Uma função é um bloco de código que contém uma sequência de comandos que executa alguma tarefa. São utilizadas para executar determinadas tarefas que normalmente precisam ser executadas diversas vezes dentro de uma aplicação. Dessa forma, não é necessário repetir as mesmas linhas de código sempre que se quiser realizar determinada tarefa! "
   ]
  },
  {
   "cell_type": "markdown",
   "metadata": {},
   "source": [
    "## E como é a estrutura de uma função?\n",
    "\n",
    "A função pode apenas manipular os valores...\n",
    "\n",
    "```\n",
    "def NOME (PARAMETROS):\n",
    "  COMANDOS\n",
    "```\n",
    "\n",
    "ou retornar algum valor (usando a palavra reservada return)..\n",
    "\n",
    "```\n",
    "def NOME (PARAMETROS):\n",
    "  COMANDOS\n",
    "  return VALOR_DESEJADO\n",
    "```"
   ]
  },
  {
   "cell_type": "markdown",
   "metadata": {},
   "source": [
    "## Alguns exemplos\n",
    "#### Primeiro vamos ver uma função simples e como chama-la no nosso código"
   ]
  },
  {
   "cell_type": "code",
   "execution_count": null,
   "metadata": {},
   "outputs": [],
   "source": [
    "def apresenta (nome, idade):\n",
    "  print (\"Olá amigos, meu nome é\", nome, \"e eu tenho\", idade, \"anos\")"
   ]
  },
  {
   "cell_type": "code",
   "execution_count": null,
   "metadata": {},
   "outputs": [],
   "source": [
    "nome_usuario=input(\"Qual o seu nome?\")\n",
    "idade_usuario=input(\"E qual a sua idade?\")\n",
    "apresenta(nome_usuario, idade_usuario)"
   ]
  },
  {
   "cell_type": "code",
   "execution_count": null,
   "metadata": {},
   "outputs": [],
   "source": [
    "#Crie uma função que receba o nome e a idade do usuário e imprima\n",
    "#\"$$Nome$$ é maior de 18 anos\" ou\n",
    "#\"$$Nome$$ é menor de 18 anos\"\n",
    "#dependendo da idade dele\n",
    "\n"
   ]
  },
  {
   "cell_type": "code",
   "execution_count": null,
   "metadata": {},
   "outputs": [],
   "source": [
    "#Chame a função no seu programa\n",
    "\n"
   ]
  },
  {
   "cell_type": "markdown",
   "metadata": {},
   "source": [
    "#### Função com return\n",
    "Como a gente falou anteriormente, apesar de ser interessante manipular nossos dados com funções, muitas vezes precisamos que algum valor seja devolvido por ela. Para isso, usamos a palavra reservada return.\n",
    "Para ficar mais claro, observe o exemplo abaixo."
   ]
  },
  {
   "cell_type": "code",
   "execution_count": null,
   "metadata": {},
   "outputs": [],
   "source": [
    "def maior (a, b):\n",
    "  if(a>b):\n",
    "    return a\n",
    "  else:\n",
    "    return b"
   ]
  },
  {
   "cell_type": "markdown",
   "metadata": {},
   "source": [
    "O objetivo dela é retornar o maior valor entre dois números. Veja que o comando return aqui, será o respondável por me devolver o valor da função, quando ela for chamada no meu programa. Vamos ver como fica isso."
   ]
  },
  {
   "cell_type": "code",
   "execution_count": null,
   "metadata": {},
   "outputs": [],
   "source": [
    "print(\"digite dois números e eu vou te dizer o maior entre eles \\n\")\n",
    "x= input()\n",
    "y= input()\n",
    "aux = maior(x, y)\n",
    "print(\"O maior número é\", aux)"
   ]
  },
  {
   "cell_type": "code",
   "execution_count": null,
   "metadata": {},
   "outputs": [],
   "source": [
    "##Também posso chamar uma função dentro de outra função\n",
    "print(\"digite dois números e eu vou te dizer o maior entre eles \\n\")\n",
    "e= input()\n",
    "f= input()\n",
    "print(\"O maior número é\", maior(e, f))"
   ]
  },
  {
   "cell_type": "code",
   "execution_count": null,
   "metadata": {},
   "outputs": [],
   "source": [
    "#Crie uma função que execute a subtração de dois números e retorne o resultado"
   ]
  },
  {
   "cell_type": "code",
   "execution_count": null,
   "metadata": {},
   "outputs": [],
   "source": [
    "#Chame a função no seu programa, guarde o valor que ela retornou em uma variável\n",
    "#e imprima essa variável\n",
    "\n",
    "\n",
    "\n",
    "#Agora, chame a função dentro da funçã print e imprima o valor que a função retornou"
   ]
  },
  {
   "cell_type": "markdown",
   "metadata": {},
   "source": [
    "## Funções sem parâmetros\n",
    "Funções podem ter infinitos parâmetros ou não ter parâmetro nenhum! Podem ter até parâmetros opcionais(spoiler)."
   ]
  },
  {
   "cell_type": "code",
   "execution_count": null,
   "metadata": {},
   "outputs": [],
   "source": [
    "def spam():\n",
    "    for i in range(20): \n",
    "        print (\"amendoim é bom\")"
   ]
  },
  {
   "cell_type": "code",
   "execution_count": null,
   "metadata": {},
   "outputs": [],
   "source": [
    "spam()"
   ]
  },
  {
   "cell_type": "markdown",
   "metadata": {},
   "source": [
    "## Parâmetros opcionais e Parâmetros pré definidos\n",
    "\n",
    "#### Parâmetros opcionais\n",
    "Algumas vezes você quer usar diferentes parâmetros para diferentes propósitos, porém dentro da mesma função. As vezes você não quer usar todos os parâmetros. Existem n motivos pelos quais você pode querer fazer um parâmetro ser opcional.\n",
    "\n",
    "##### Mas como a gente faz isso?\n",
    "\n",
    "Quando estamos escrevendo a função, declaramos o parâmetro como ```**kwargs```. Por convenção, utiliza-se a palavra kwargs, mas pode-se utilizar qualquer uma, desde que coloque-se os ``**`` antes dela!\n",
    "Além disso, é necessário se atribuir o valor dos parâmetros opcionais à variáveis dentro da função. A estrutura fica assim então:\n",
    "\n",
    "```` \n",
    "def nome(parametro_obrigatorio, **kwargs):\n",
    "    opcional1=kwargs.get('opcional1')\n",
    "    opcional2=kwargs.get('opcional2')\n",
    "    ##resto da função... \n",
    "````\n",
    "\n",
    "##### Legal, mas como eu chamo uma função com argumentos opcionais??\n",
    "\n",
    "Posso chamar só com o parâmetro obrigatório, como uma função normal\n",
    "\n",
    "``nome(parametro_obrigatorio)``\n",
    "\n",
    "Posso chamar com um parâmetro opcional. Nesse caso, observe que tive que declarar que o parâmetro a mais que estava colocando na chamada da função, se refere ao parâmetro opcional1.\n",
    "\n",
    "``nome(parametro_obrigatorio, opcional1=\"amendoim\")``\n",
    "\n",
    "E, por fim, posso chamar com todos os parânetros! Sem esquecer é claro, de separa-los e identifica-los.\n",
    "\n",
    "``nome(parametro_obrigatorio, opcional1=\"amendoim\", opcional2=\"chuchu\")``\n",
    "\n",
    "#### Parâmetros pré-definidos\n",
    "Existem casos em que você está lidando com uma situação que acontece com muita frequência, mas não pode assumir que vai acontecer sempre. Uma solução para economizar tempo nessas situações, é pré-definir um valor para um parâmetro da sua função. Dessa forma, o usuário pode preencher o campo desse parâmetro, caso ele não seja seu caso padrão, ou ele pode não preencher nada caso se encaixe.\n",
    "\n",
    "##### Na declaração da função\n",
    "\n",
    "````\n",
    "def nome(parametro_obrigatorio, parametro_padronizado = 3):\n",
    "    ##resto da função... \n",
    "    \n",
    "````\n",
    "##### Na chamada da função\n",
    "Posso chamar a função sem colocar nada no lugar do parametro pré definido, e nesse caso a função irá utilizar o valor pré definido\n",
    "``nome(parametro_obrigatorio)``\n",
    "Mas também posso querer mudar o valor, nesse caso a função é chamada dessa forma:\n",
    "``nome(parametro_obrigatorio, 5)``"
   ]
  },
  {
   "cell_type": "markdown",
   "metadata": {},
   "source": [
    "### Um exemplo"
   ]
  },
  {
   "cell_type": "code",
   "execution_count": null,
   "metadata": {},
   "outputs": [],
   "source": [
    "def amizade(nome, mode=\"amigos\", **kwargs):\n",
    "  obs1=kwargs.get('obs1')\n",
    "  obs2=kwargs.get('obs2')\n",
    "  if mode == \"amigos\":\n",
    "    print(\"Oi,\", nome, \"somos bons amigos\")\n",
    "    if obs1 != None:\n",
    "      print(obs1)\n",
    "    if obs2!= None:\n",
    "      print(obs2)\n",
    "  elif mode == \"namorados\":\n",
    "    print (\"oi amor, te amo, quero ter\", nome, \"gravado na minha aliança\")\n",
    "    if obs1 != None:\n",
    "      print(obs1)\n",
    "    if obs2!= None:\n",
    "      print(obs2)\n",
    "  elif mode == \"inimigos\":\n",
    "    print (\"sai daqui,\",nome, \"ninguem gosta de você\")\n",
    "    if obs1 != None:\n",
    "      print(obs1)\n",
    "    if obs2!= None:\n",
    "      print(obs2)"
   ]
  },
  {
   "cell_type": "code",
   "execution_count": null,
   "metadata": {},
   "outputs": [],
   "source": [
    "#Caso em que coloco os dois parâmetros opcionais, aqui é utilizado o valor\n",
    "#pré definido para o parâmetro 'mode'\n",
    "\n",
    "amizade(\"vick\", obs1=\"você é cheirosa\", obs2=\"você é muito dedicada\")"
   ]
  },
  {
   "cell_type": "code",
   "execution_count": null,
   "metadata": {},
   "outputs": [],
   "source": [
    "#Caso sem nenhum parâmetro opcional, aqui o valor\n",
    "#pré definido para o parâmetro 'mode' é alterado\n",
    "amizade(\"chuchu\", \"namorados\")"
   ]
  },
  {
   "cell_type": "code",
   "execution_count": null,
   "metadata": {},
   "outputs": [],
   "source": [
    "#Caso em que coloco apenas um parâmetro opcional, aqui o valor\n",
    "#pré definido para o parâmetro 'mode'é alterado\n",
    "amizade(\"menino que não fez nada no meu trabalho de mecânica\", \"inimigos\", obs1=\"VOCÊ NEM RESPONDEU MINHAS MENSAGENS NO WPP\")"
   ]
  }
 ],
 "metadata": {
  "colab": {
   "name": "WS4Her2021.ipynb",
   "provenance": []
  },
  "kernelspec": {
   "display_name": "Python 3",
   "language": "python",
   "name": "python3"
  },
  "language_info": {
   "codemirror_mode": {
    "name": "ipython",
    "version": 3
   },
   "file_extension": ".py",
   "mimetype": "text/x-python",
   "name": "python",
   "nbconvert_exporter": "python",
   "pygments_lexer": "ipython3",
   "version": "3.7.6"
  }
 },
 "nbformat": 4,
 "nbformat_minor": 1
}
