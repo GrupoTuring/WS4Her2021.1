{
  "nbformat": 4,
  "nbformat_minor": 0,
  "metadata": {
    "colab": {
      "name": "WS4Her2021.ipynb",
      "provenance": []
    },
    "kernelspec": {
      "name": "python3",
      "display_name": "Python 3"
    },
    "language_info": {
      "name": "python"
    }
  },
  "cells": [
    {
      "cell_type": "markdown",
      "metadata": {
        "id": "gNqf774JA6IW"
      },
      "source": [
        "# 👩💻 WS4Her2021.1 - Notebook\n",
        "\n",
        "## Tema: Introdução à Programção em Python\n",
        "\n",
        "### Conteúdos:\n",
        "1. Print, input, output\n",
        "2. Variáveis\n",
        "3. Operações (aritméticas, booleanas e lógicas)\n",
        "4. Condicionais\n",
        "5. Listas\n",
        "6. Range\n",
        "7. Loops\n",
        "8. Funções\n",
        "9. Aplicação final: chatbot 'Eliza'\n",
        "\n"
      ]
    },
    {
      "cell_type": "markdown",
      "metadata": {
        "id": "cQu9hpt7gkf3"
      },
      "source": [
        "## Print\n",
        "\n",
        "\"Printar\" algo é dar ao seu código o comando de fazer algo aparecer na tela. Fazemos isso utilizando a função ```print``` do python.\n",
        "\n",
        "Neste primeiro caso vamos utilizar aspas (' ') porque o que queremos printar é um texto (string), e no python é necessário que textos estejam sempre dessa forma."
      ]
    },
    {
      "cell_type": "code",
      "metadata": {
        "id": "W9XG_6JOPC2M"
      },
      "source": [
        "print('Meu namorado é mó otário')"
      ],
      "execution_count": null,
      "outputs": []
    },
    {
      "cell_type": "code",
      "metadata": {
        "id": "o8fQsvikhcRM"
      },
      "source": [
        "texto = 'Ele lava minhas calcinhas'\n",
        "\n",
        "print(texto)"
      ],
      "execution_count": null,
      "outputs": []
    },
    {
      "cell_type": "markdown",
      "metadata": {
        "id": "Creis2QlZLOZ"
      },
      "source": [
        "### Exercício!"
      ]
    },
    {
      "cell_type": "code",
      "metadata": {
        "id": "bg1O-vf2hg52"
      },
      "source": [
        "print('Digite aqui sua própria frase') # não esquece das aspas, ein?"
      ],
      "execution_count": null,
      "outputs": []
    },
    {
      "cell_type": "markdown",
      "metadata": {
        "id": "56GlvKl8hnt5"
      },
      "source": [
        "## Input e Output\n",
        "\n",
        "Inputs são as informações dadas ao computador, por exemplo, ao fornecer um nome para ser printado na tela.\n",
        "\n",
        "Outputs são as informações que seu computador gera, por exemplo, o resultado de uma conta.\n",
        "\n"
      ]
    },
    {
      "cell_type": "code",
      "metadata": {
        "colab": {
          "base_uri": "https://localhost:8080/"
        },
        "id": "shfPBKy5izwl",
        "outputId": "258456ad-ab0a-42f4-bb59-4611ba5b8078"
      },
      "source": [
        "nome = input('Qual seu nome? ')\n",
        "\n",
        "print(nome)"
      ],
      "execution_count": null,
      "outputs": [
        {
          "output_type": "stream",
          "text": [
            "Qual seu nome? MC Carol\n",
            "MC Carol\n"
          ],
          "name": "stdout"
        }
      ]
    },
    {
      "cell_type": "code",
      "metadata": {
        "colab": {
          "base_uri": "https://localhost:8080/"
        },
        "id": "ETXOuISAi9qB",
        "outputId": "d1b8b247-1817-4624-99b4-f6abb93c2955"
      },
      "source": [
        "idade = input('Qual sua idade? ')\n",
        "\n",
        "print('Sua idade é ' + idade)"
      ],
      "execution_count": null,
      "outputs": [
        {
          "output_type": "stream",
          "text": [
            "Qual sua idade? 21\n",
            "Sua idade é 21\n"
          ],
          "name": "stdout"
        }
      ]
    },
    {
      "cell_type": "code",
      "metadata": {
        "colab": {
          "base_uri": "https://localhost:8080/"
        },
        "id": "azmu7aYGidvk",
        "outputId": "b624a106-a45e-4406-f2a0-fbcf2eb2c4ed"
      },
      "source": [
        "dia = input ('Que dia você nasceu? ')\n",
        "mês = input ('Que mês você nasceu? ' )\n",
        "ano = input ('Que ano você nasceu? ')\n",
        "print('Você nasceu no dia ' + dia + ' de ' + mês + ' de ' + ano + '. Correto?')"
      ],
      "execution_count": null,
      "outputs": [
        {
          "output_type": "stream",
          "text": [
            "Que dia você nasceu? 27\n",
            "Que mês você nasceu? julho\n",
            "Que ano você nasceu? 1999\n",
            "Você nasceu no dia 27 de julho de 1999. Correto?\n"
          ],
          "name": "stdout"
        }
      ]
    },
    {
      "cell_type": "markdown",
      "metadata": {
        "id": "0-0WPQKNjOdn"
      },
      "source": [
        "### Exercício!\n",
        "\n",
        "Escreva um input que pergunta o nome da mãe e do pai de uma pessoa e depois printa a frase \"Sua mãe chama x e seu pai chama y\" na tela."
      ]
    },
    {
      "cell_type": "code",
      "metadata": {
        "id": "f2oPwfLqjNEV"
      },
      "source": [
        "# complete\n",
        "mãe = ... \n",
        "pai = ...\n",
        "..."
      ],
      "execution_count": null,
      "outputs": []
    },
    {
      "cell_type": "markdown",
      "metadata": {
        "id": "eK2XBg2H_Q83"
      },
      "source": [
        "## Variáveis e seus tipos\n",
        "\n",
        "Variáveis são um dos recursos mais básicos das linguagens de programação. Utilizadas para armazenar valores em memória, elas nos permitem gravar e ler esses dados com facilidade a partir de um nome definido por nós. \n",
        "\n",
        "Por exemplo, você já atribuiu várias variáveis desde que esse workshop começou, por exemplo as variáveis \"mãe\" e \"pai\" acima!"
      ]
    },
    {
      "cell_type": "code",
      "metadata": {
        "colab": {
          "base_uri": "https://localhost:8080/"
        },
        "id": "yEzi8mxp_qBQ",
        "outputId": "e7818ae2-ddf0-493d-cc68-1196018f6b58"
      },
      "source": [
        "nome = 'Felipe'\n",
        "idade = 15 \n",
        "altura = 2.90\n",
        "confere_altura = altura == 2.91\n",
        "\n",
        "print(type(nome))\n",
        "print(type(idade))\n",
        "print(type(altura))\n",
        "print(type(confere_idade))"
      ],
      "execution_count": null,
      "outputs": [
        {
          "output_type": "stream",
          "text": [
            "<class 'str'>\n",
            "<class 'int'>\n",
            "<class 'float'>\n",
            "<class 'bool'>\n"
          ],
          "name": "stdout"
        }
      ]
    },
    {
      "cell_type": "code",
      "metadata": {
        "id": "gxGkWOML__hW",
        "colab": {
          "base_uri": "https://localhost:8080/"
        },
        "outputId": "6bf23ebd-71a2-4d40-8681-6cdcb8234bcf"
      },
      "source": [
        "print(confere_altura)"
      ],
      "execution_count": null,
      "outputs": [
        {
          "output_type": "stream",
          "text": [
            "False\n"
          ],
          "name": "stdout"
        }
      ]
    },
    {
      "cell_type": "code",
      "metadata": {
        "id": "B-eyzQ1GArp5",
        "colab": {
          "base_uri": "https://localhost:8080/"
        },
        "outputId": "5ea53dc1-1db3-4990-929e-177336df94f0"
      },
      "source": [
        "print(altura == 2.90)"
      ],
      "execution_count": null,
      "outputs": [
        {
          "output_type": "stream",
          "text": [
            "True\n"
          ],
          "name": "stdout"
        }
      ]
    },
    {
      "cell_type": "markdown",
      "metadata": {
        "id": "dPEAwAAdB5oi"
      },
      "source": [
        "### Exercício! \n",
        "\n",
        "Vamos falar sobre arquitetura! Atribua valores a quatro variáveis: `ambiente` (O tipo de cômodo), `altura` (a altura do cômodo), `metros` (quantos metros quadrados tem o ambiente) e `afirmação` (alguma afirmação a respeito de qualquer uma das variáveis atribuídas, depois printe os tipos de cada uma."
      ]
    },
    {
      "cell_type": "code",
      "metadata": {
        "id": "kMZ3Jg3xDNNJ"
      },
      "source": [
        "# atribua os valores às variáveis \n",
        "ambiente = ... \n",
        "altura...\n",
        "...\n",
        "...\n",
        "\n",
        "# printe os tipos\n",
        "print(type(...))\n",
        "...\n",
        "...\n",
        "...\n",
        "..."
      ],
      "execution_count": null,
      "outputs": []
    },
    {
      "cell_type": "markdown",
      "metadata": {
        "id": "4cn4J_6kY_hP"
      },
      "source": [
        "## Operações \n"
      ]
    },
    {
      "cell_type": "markdown",
      "metadata": {
        "id": "7IaNmtNaMVAf"
      },
      "source": [
        "### Aritméticas\n",
        "As operações aritméticas podem ser feitas pelo Python assim como você faria numa calculadora, só precisamos decorar qual o equivalente de cada sinal da operação, já que sabemos que, por exemplo, o sinal de \"=\" no python não significa \"igual\", certo?\n",
        "\n",
        "Os sinais para operações no Python: \n",
        "\n",
        "``` \n",
        "== igual\n",
        "+ adição\n",
        "- subtração\n",
        "* multiplicação\n",
        "/ divisão\n",
        "% resto de uma divisão \n",
        "** exponenciação\n",
        "```\n",
        "\n",
        "Vamos fazer algumas operações:"
      ]
    },
    {
      "cell_type": "code",
      "metadata": {
        "colab": {
          "base_uri": "https://localhost:8080/"
        },
        "id": "iBRNWg6SWU54",
        "outputId": "9295ed45-56b1-4c02-eb45-76adaee795ef"
      },
      "source": [
        "soma = 1 + 3\n",
        "subtracao = 50 - 25\n",
        "multiplicacao = 10 * 5\n",
        "divisao = 30 / 3\n",
        "expo = 2**4\n",
        "\n",
        "print(soma)\n",
        "print(subtracao)\n",
        "print(multiplicacao)\n",
        "print(divisao)\n",
        "print(expo)"
      ],
      "execution_count": null,
      "outputs": [
        {
          "output_type": "stream",
          "text": [
            "4\n",
            "25\n",
            "50\n",
            "10.0\n",
            "16\n"
          ],
          "name": "stdout"
        }
      ]
    },
    {
      "cell_type": "code",
      "metadata": {
        "colab": {
          "base_uri": "https://localhost:8080/"
        },
        "id": "lwjnRVm6YCjl",
        "outputId": "a7c565e8-e21b-402f-d47c-8e2c8e1ad27a"
      },
      "source": [
        "# resto da divisão\n",
        "resto = 56 % 3 \n",
        "print(resto)"
      ],
      "execution_count": null,
      "outputs": [
        {
          "output_type": "stream",
          "text": [
            "2\n"
          ],
          "name": "stdout"
        }
      ]
    },
    {
      "cell_type": "markdown",
      "metadata": {
        "id": "jQ7_iPFdYLZc"
      },
      "source": [
        "Também podemos realizar operações com os números recebidos pelas variáveis:"
      ]
    },
    {
      "cell_type": "code",
      "metadata": {
        "colab": {
          "base_uri": "https://localhost:8080/"
        },
        "id": "LSsa7doHXViv",
        "outputId": "bd5b557e-2688-42da-fe05-efd7f1ab61f7"
      },
      "source": [
        "num1 = 10\n",
        "num2 = 21 \n",
        "\n",
        "num3 = num1 * num2\n",
        "print(num3)"
      ],
      "execution_count": null,
      "outputs": [
        {
          "output_type": "stream",
          "text": [
            "210\n"
          ],
          "name": "stdout"
        }
      ]
    },
    {
      "cell_type": "markdown",
      "metadata": {
        "id": "prLhWk7ua7nm"
      },
      "source": [
        "#### Exercício"
      ]
    },
    {
      "cell_type": "code",
      "metadata": {
        "id": "1Nowot1Wa0Nj"
      },
      "source": [
        "# Use este espaço para testar alguma operação!\n",
        "... "
      ],
      "execution_count": null,
      "outputs": []
    },
    {
      "cell_type": "markdown",
      "metadata": {
        "id": "8ReLs4sPZR3_"
      },
      "source": [
        "### Booleanas\n",
        "\n",
        "Operações booleanas são formas de realizar comparações, pois quando se compara algo a resposta tende a ser \"Verdadeiro\" ou \"Falso\""
      ]
    },
    {
      "cell_type": "code",
      "metadata": {
        "colab": {
          "base_uri": "https://localhost:8080/"
        },
        "id": "9kXkeaPBMums",
        "outputId": "34fd6f25-522c-45a9-f13a-0aed526359ff"
      },
      "source": [
        "a = 3\n",
        "b = 4\n",
        "\n",
        "c = a < b   # c recebe o valor da comparação a < b\n",
        "d = a > b   # d recebe o valor da comparação a > b\n",
        "e = a == b  # e recebe o valor da comparação a == b\n",
        "\n",
        "print(\"Valor de c: \", c)\n",
        "print(\"Valor de d: \", d)\n",
        "print(\"Valor de e: \", e)\n"
      ],
      "execution_count": null,
      "outputs": [
        {
          "output_type": "stream",
          "text": [
            "Valor de c:  True\n",
            "Valor de d:  False\n",
            "Valor de e:  False\n"
          ],
          "name": "stdout"
        }
      ]
    },
    {
      "cell_type": "markdown",
      "metadata": {
        "id": "mzlqvaykbH1b"
      },
      "source": [
        "#### Exercício!"
      ]
    },
    {
      "cell_type": "code",
      "metadata": {
        "id": "9-Anls5PMvRJ"
      },
      "source": [
        "# Use este espaço para testar alguma operação booleana\n",
        "... "
      ],
      "execution_count": null,
      "outputs": []
    },
    {
      "cell_type": "markdown",
      "metadata": {
        "id": "XZCfHQSGbfPH"
      },
      "source": [
        "### Lógicas\n",
        "\n",
        "O Python nos fornece uma lista de operadores lógicos para que nós possamos de forma mais fácil, verificar várias condições. Por exemplo, se eu quero saber se \n",
        " é maior que quatro ou menor que quatro, podemos utilizar operações lógicas.\n",
        "\n",
        "Operadores:\n",
        "\n",
        "* and = e\n",
        "* or = ou\n",
        "* not = negação\n",
        "* is not = não é\n",
        "* in = está contido\n",
        "* not in = não está contido\n",
        "\n",
        "\n"
      ]
    },
    {
      "cell_type": "markdown",
      "metadata": {
        "id": "VVKp_nR64WKy"
      },
      "source": [
        "#### Operador ```and```\n",
        "\n",
        "Usamos o ```and``` quando queremos verificar se duas afirmações são verdadeiras. Ao usá-lo, todas as condições precisam ser verdadeiras, se não é retornado \"False\"."
      ]
    },
    {
      "cell_type": "code",
      "metadata": {
        "colab": {
          "base_uri": "https://localhost:8080/"
        },
        "id": "k526Tcn533f6",
        "outputId": "51aa02cf-d52f-47a7-9a43-813cbb3a58a6"
      },
      "source": [
        "# 2 é maior que 4 E 2 é menor que 4 \n",
        "2 > 4 and 2 < 4 "
      ],
      "execution_count": 1,
      "outputs": [
        {
          "output_type": "execute_result",
          "data": {
            "text/plain": [
              "False"
            ]
          },
          "metadata": {
            "tags": []
          },
          "execution_count": 1
        }
      ]
    },
    {
      "cell_type": "code",
      "metadata": {
        "colab": {
          "base_uri": "https://localhost:8080/"
        },
        "id": "OUqHy0MH37M_",
        "outputId": "41bf34b5-b481-4f9a-8fdb-b2e958785322"
      },
      "source": [
        "4 > 2 and 2 < 4 # aqui ambas são verdade, por isso é retornado \"True\""
      ],
      "execution_count": 2,
      "outputs": [
        {
          "output_type": "execute_result",
          "data": {
            "text/plain": [
              "True"
            ]
          },
          "metadata": {
            "tags": []
          },
          "execution_count": 2
        }
      ]
    },
    {
      "cell_type": "markdown",
      "metadata": {
        "id": "k0Qu2gur4lIn"
      },
      "source": [
        "#### Operador ```or```\n",
        "\n",
        "Usamos o operador ```or``` quando queremos saber se uma afirmação OU outra é verdadeira. Se a nossa primeira afirmação for verdadeira OU se a segunda for, será retornado \"True\", ou seja, se só uma das condições for verdade o programa retorna \"True\", mesmo que uma delas não seja. Ele só dirá que é falso se ambas forem falsas."
      ]
    },
    {
      "cell_type": "code",
      "metadata": {
        "colab": {
          "base_uri": "https://localhost:8080/"
        },
        "id": "pFtxNUHY4QUR",
        "outputId": "acc50704-8bff-4368-c4c9-ff65eba52f0a"
      },
      "source": [
        "2 == 5 or 2 < 5"
      ],
      "execution_count": 3,
      "outputs": [
        {
          "output_type": "execute_result",
          "data": {
            "text/plain": [
              "True"
            ]
          },
          "metadata": {
            "tags": []
          },
          "execution_count": 3
        }
      ]
    },
    {
      "cell_type": "markdown",
      "metadata": {
        "id": "82a36EdJ53jU"
      },
      "source": [
        "Apenas a segunda afirmação é verdade, portanto nosso programa retornou \"True\"."
      ]
    },
    {
      "cell_type": "code",
      "metadata": {
        "colab": {
          "base_uri": "https://localhost:8080/"
        },
        "id": "9LyeDENO52LW",
        "outputId": "bcbc7a25-da6c-46b1-b9bb-757c32b2471c"
      },
      "source": [
        "2 >= 4 or 3 == 6"
      ],
      "execution_count": 4,
      "outputs": [
        {
          "output_type": "execute_result",
          "data": {
            "text/plain": [
              "False"
            ]
          },
          "metadata": {
            "tags": []
          },
          "execution_count": 4
        }
      ]
    },
    {
      "cell_type": "markdown",
      "metadata": {
        "id": "Zfqkop7r6Daw"
      },
      "source": [
        "Nesse caso ambas as afirmações estão erradas, portanto temos como resposta \"False\"."
      ]
    },
    {
      "cell_type": "markdown",
      "metadata": {
        "id": "yKj-7uEP7CLx"
      },
      "source": [
        "#### Outros operadores lógicos \n",
        "\n",
        "Cada um funciona de forma diferente, e explicá-los e testá-los um por um demoraria um pouco. Para se aprofundar em todos os operadores e como cada um deles funciona, é só dar uma olhada [neste vídeo](https://https://www.youtube.com/watch?v=czW7I2CCcUM&ab_channel=eXcript). "
      ]
    },
    {
      "cell_type": "markdown",
      "metadata": {
        "id": "ghLtEORN_BPl"
      },
      "source": [
        "#### Exercício!\n",
        "\n",
        "Use o espaço abaixo para testar algum dos operadores lógicos que vimos:"
      ]
    },
    {
      "cell_type": "code",
      "metadata": {
        "id": "q5pQsz7z_PD3"
      },
      "source": [
        "# testa aqui!\n",
        "..."
      ],
      "execution_count": null,
      "outputs": []
    }
  ]
}