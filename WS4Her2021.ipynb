{
  "nbformat": 4,
  "nbformat_minor": 0,
  "metadata": {
    "colab": {
      "name": "WS4Her2021.ipynb",
      "provenance": []
    },
    "kernelspec": {
      "display_name": "Python 3",
      "language": "python",
      "name": "python3"
    },
    "language_info": {
      "codemirror_mode": {
        "name": "ipython",
        "version": 3
      },
      "file_extension": ".py",
      "mimetype": "text/x-python",
      "name": "python",
      "nbconvert_exporter": "python",
      "pygments_lexer": "ipython3",
      "version": "3.7.6"
    }
  },
  "cells": [
    {
      "cell_type": "markdown",
      "metadata": {
        "id": "gNqf774JA6IW"
      },
      "source": [
        "# 👩💻 WS4Her2021.1 - Notebook\n",
        "\n",
        "## Tema: Introdução à Programação em Python\n",
        "\n",
        "### Conteúdos:\n",
        "1. Print, input, output\n",
        "2. Variáveis\n",
        "3. Operações (aritméticas, booleanas e lógicas)\n",
        "4. Condicionais\n",
        "5. Listas\n",
        "6. Range\n",
        "7. Loops\n",
        "8. Funções\n",
        "9. Aplicação final: chatbot 'Eliza'\n",
        "\n"
      ]
    },
    {
      "cell_type": "markdown",
      "metadata": {
        "id": "cQu9hpt7gkf3"
      },
      "source": [
        "## Print\n",
        "\n",
        "\"Printar\" algo é dar ao seu código o comando de fazer algo aparecer na tela. Fazemos isso utilizando a função ```print``` do python.\n",
        "\n",
        "Neste primeiro caso vamos utilizar aspas (' ') porque o que queremos printar é um texto (string), e no python é necessário que textos estejam sempre dessa forma."
      ]
    },
    {
      "cell_type": "code",
      "metadata": {
        "id": "W9XG_6JOPC2M"
      },
      "source": [
        "print('Meu namorado é mó otário')"
      ],
      "execution_count": null,
      "outputs": []
    },
    {
      "cell_type": "code",
      "metadata": {
        "id": "o8fQsvikhcRM"
      },
      "source": [
        "texto = 'Ele lava minhas calcinhas'\n",
        "\n",
        "print(texto)"
      ],
      "execution_count": null,
      "outputs": []
    },
    {
      "cell_type": "markdown",
      "metadata": {
        "id": "Creis2QlZLOZ"
      },
      "source": [
        "### Exercício!"
      ]
    },
    {
      "cell_type": "code",
      "metadata": {
        "id": "bg1O-vf2hg52"
      },
      "source": [
        "print('Digite aqui sua própria frase') # não esquece das aspas, ein?"
      ],
      "execution_count": null,
      "outputs": []
    },
    {
      "cell_type": "markdown",
      "metadata": {
        "id": "56GlvKl8hnt5"
      },
      "source": [
        "## Input e Output\n",
        "\n",
        "Inputs são as informações dadas ao computador, por exemplo, ao fornecer um nome para ser printado na tela.\n",
        "\n",
        "Outputs são as informações que seu computador gera, por exemplo, o resultado de uma conta.\n",
        "\n"
      ]
    },
    {
      "cell_type": "code",
      "metadata": {
        "id": "shfPBKy5izwl"
      },
      "source": [
        "nome = input('Qual seu nome? ')\n",
        "\n",
        "print(nome)"
      ],
      "execution_count": null,
      "outputs": []
    },
    {
      "cell_type": "code",
      "metadata": {
        "id": "ETXOuISAi9qB"
      },
      "source": [
        "idade = input('Qual sua idade? ')\n",
        "\n",
        "print('Sua idade é ' + idade)"
      ],
      "execution_count": null,
      "outputs": []
    },
    {
      "cell_type": "code",
      "metadata": {
        "id": "azmu7aYGidvk"
      },
      "source": [
        "dia = input ('Que dia você nasceu? ')\n",
        "mês = input ('Que mês você nasceu? ' )\n",
        "ano = input ('Que ano você nasceu? ')\n",
        "print('Você nasceu no dia ' + dia + ' de ' + mês + ' de ' + ano + '. Correto?')"
      ],
      "execution_count": null,
      "outputs": []
    },
    {
      "cell_type": "markdown",
      "metadata": {
        "id": "0-0WPQKNjOdn"
      },
      "source": [
        "### Exercício!\n",
        "\n",
        "Escreva um input que pergunta o nome da mãe e do pai de uma pessoa e depois printa a frase \"Sua mãe chama x e seu pai chama y\" na tela."
      ]
    },
    {
      "cell_type": "code",
      "metadata": {
        "id": "f2oPwfLqjNEV"
      },
      "source": [
        "# complete\n",
        "mãe = ... \n",
        "pai = ...\n",
        "..."
      ],
      "execution_count": null,
      "outputs": []
    },
    {
      "cell_type": "markdown",
      "metadata": {
        "id": "eK2XBg2H_Q83"
      },
      "source": [
        "## Variáveis e seus tipos\n",
        "\n",
        "Variáveis são um dos recursos mais básicos das linguagens de programação. Utilizadas para armazenar valores em memória, elas nos permitem gravar e ler esses dados com facilidade a partir de um nome definido por nós. \n",
        "\n",
        "Por exemplo, você já atribuiu várias variáveis desde que esse workshop começou, por exemplo as variáveis \"mãe\" e \"pai\" acima!"
      ]
    },
    {
      "cell_type": "code",
      "metadata": {
        "id": "yEzi8mxp_qBQ"
      },
      "source": [
        "nome = 'Felipe'\n",
        "idade = 15 \n",
        "altura = 2.90\n",
        "confere_altura = altura == 2.91\n",
        "\n",
        "print(type(nome))\n",
        "print(type(idade))\n",
        "print(type(altura))\n",
        "print(type(confere_idade))"
      ],
      "execution_count": null,
      "outputs": []
    },
    {
      "cell_type": "code",
      "metadata": {
        "id": "gxGkWOML__hW"
      },
      "source": [
        "print(confere_altura)"
      ],
      "execution_count": null,
      "outputs": []
    },
    {
      "cell_type": "code",
      "metadata": {
        "id": "B-eyzQ1GArp5"
      },
      "source": [
        "print(altura == 2.90)"
      ],
      "execution_count": null,
      "outputs": []
    },
    {
      "cell_type": "markdown",
      "metadata": {
        "id": "dPEAwAAdB5oi"
      },
      "source": [
        "### Exercício! \n",
        "\n",
        "Vamos falar sobre arquitetura! Atribua valores a quatro variáveis: `ambiente` (O tipo de cômodo), `altura` (a altura do cômodo), `metros` (quantos metros quadrados tem o ambiente) e `afirmação` (alguma afirmação a respeito de qualquer uma das variáveis atribuídas, depois printe os tipos de cada uma."
      ]
    },
    {
      "cell_type": "code",
      "metadata": {
        "id": "kMZ3Jg3xDNNJ"
      },
      "source": [
        "# atribua os valores às variáveis \n",
        "ambiente = ... \n",
        "altura...\n",
        "...\n",
        "...\n",
        "\n",
        "# printe os tipos\n",
        "print(type(...))\n",
        "...\n",
        "...\n",
        "...\n",
        "..."
      ],
      "execution_count": null,
      "outputs": []
    },
    {
      "cell_type": "markdown",
      "metadata": {
        "id": "4cn4J_6kY_hP"
      },
      "source": [
        "## Operações \n"
      ]
    },
    {
      "cell_type": "markdown",
      "metadata": {
        "id": "7IaNmtNaMVAf"
      },
      "source": [
        "### Aritméticas\n",
        "As operações aritméticas podem ser feitas pelo Python assim como você faria numa calculadora, só precisamos decorar qual o equivalente de cada sinal da operação, já que sabemos que, por exemplo, o sinal de \"=\" no python não significa \"igual\", certo?\n",
        "\n",
        "Os sinais para operações no Python: \n",
        "\n",
        "``` \n",
        "== igual\n",
        "+ adição\n",
        "- subtração\n",
        "* multiplicação\n",
        "/ divisão\n",
        "% resto de uma divisão \n",
        "** exponenciação\n",
        "```\n",
        "\n",
        "Vamos fazer algumas operações:"
      ]
    },
    {
      "cell_type": "code",
      "metadata": {
        "id": "iBRNWg6SWU54"
      },
      "source": [
        "soma = 1 + 3\n",
        "subtracao = 50 - 25\n",
        "multiplicacao = 10 * 5\n",
        "divisao = 30 / 3\n",
        "expo = 2**4\n",
        "\n",
        "print(soma)\n",
        "print(subtracao)\n",
        "print(multiplicacao)\n",
        "print(divisao)\n",
        "print(expo)"
      ],
      "execution_count": null,
      "outputs": []
    },
    {
      "cell_type": "code",
      "metadata": {
        "id": "lwjnRVm6YCjl"
      },
      "source": [
        "# resto da divisão\n",
        "resto = 56 % 3 \n",
        "print(resto)"
      ],
      "execution_count": null,
      "outputs": []
    },
    {
      "cell_type": "markdown",
      "metadata": {
        "id": "jQ7_iPFdYLZc"
      },
      "source": [
        "Também podemos realizar operações com os números recebidos pelas variáveis:"
      ]
    },
    {
      "cell_type": "code",
      "metadata": {
        "id": "LSsa7doHXViv"
      },
      "source": [
        "num1 = 10\n",
        "num2 = 21 \n",
        "\n",
        "num3 = num1 * num2\n",
        "print(num3)"
      ],
      "execution_count": null,
      "outputs": []
    },
    {
      "cell_type": "markdown",
      "metadata": {
        "id": "prLhWk7ua7nm"
      },
      "source": [
        "#### Exercício"
      ]
    },
    {
      "cell_type": "code",
      "metadata": {
        "id": "1Nowot1Wa0Nj"
      },
      "source": [
        "# Use este espaço para testar alguma operação!\n",
        "... "
      ],
      "execution_count": null,
      "outputs": []
    },
    {
      "cell_type": "markdown",
      "metadata": {
        "id": "8ReLs4sPZR3_"
      },
      "source": [
        "### Booleanas\n",
        "\n",
        "Operações booleanas são formas de realizar comparações, pois quando se compara algo a resposta tende a ser \"Verdadeiro\" ou \"Falso\".\n",
        "\n",
        "Para mais exemplos veja [este vídeo](https://www.youtube.com/watch?v=JN1jHtlRqLA&ab_channel=eXcript)."
      ]
    },
    {
      "cell_type": "code",
      "metadata": {
        "id": "9kXkeaPBMums"
      },
      "source": [
        "a = 3\n",
        "b = 4\n",
        "\n",
        "c = a < b   # c recebe o valor da comparação a < b\n",
        "d = a > b   # d recebe o valor da comparação a > b\n",
        "e = a == b  # e recebe o valor da comparação a == b\n",
        "\n",
        "print(\"Valor de c: \", c)\n",
        "print(\"Valor de d: \", d)\n",
        "print(\"Valor de e: \", e)\n"
      ],
      "execution_count": null,
      "outputs": []
    },
    {
      "cell_type": "markdown",
      "metadata": {
        "id": "mzlqvaykbH1b"
      },
      "source": [
        "#### Exercício!"
      ]
    },
    {
      "cell_type": "code",
      "metadata": {
        "id": "9-Anls5PMvRJ"
      },
      "source": [
        "# Use este espaço para testar alguma operação booleana\n",
        "... "
      ],
      "execution_count": null,
      "outputs": []
    },
    {
      "cell_type": "markdown",
      "metadata": {
        "id": "XZCfHQSGbfPH"
      },
      "source": [
        "### Lógicas\n",
        "\n",
        "O Python nos fornece uma lista de operadores lógicos para que nós possamos de forma mais fácil, verificar várias condições. Por exemplo, se eu quero saber se \n",
        " é maior que quatro ou menor que quatro, podemos utilizar operações lógicas.\n",
        "\n",
        "Operadores:\n",
        "\n",
        "* and = e\n",
        "* or = ou\n",
        "* not = negação\n",
        "* is not = não é\n",
        "* in = está contido\n",
        "* not in = não está contido\n",
        "\n",
        "\n"
      ]
    },
    {
      "cell_type": "markdown",
      "metadata": {
        "id": "XQyUpe07IW41"
      },
      "source": [
        "#### Operador ```in```\n",
        "\n",
        "Esse operador serve para verificarmos se determinado valor está contido dentro de um certo conjunto de valores. \n",
        "\n",
        "Por exemplo, dado um conjunto de números de 1 a 100, eu quero saber se o valor 102 está no conjunto. Nesse caso eu receberia um \"False\", porque o conjunto vai até 100, apenas."
      ]
    },
    {
      "cell_type": "code",
      "metadata": {
        "colab": {
          "base_uri": "https://localhost:8080/"
        },
        "id": "jG9oA_tJInn1",
        "outputId": "8533efed-6e01-430b-a132-3c27149c06d6"
      },
      "source": [
        "conjunto = [1,2,3,4,5]\n",
        "\n",
        "print(6 in conjunto)"
      ],
      "execution_count": 3,
      "outputs": [
        {
          "output_type": "stream",
          "text": [
            "False\n"
          ],
          "name": "stdout"
        }
      ]
    },
    {
      "cell_type": "markdown",
      "metadata": {
        "id": "CUtfBDYeIuyU"
      },
      "source": [
        "#### Operador ```not in```\n",
        "\n",
        "Esse operador serve para verificarmos se determinado valor NÃO está contido dentro de um certo conjunto de valores. \n",
        "\n",
        "Pensando no mesmo exemplo anterior, onde foi dado um conjunto de números de 1 a 100, se eu quero saber se o valor 102 está no conjunto, dessa vez eu receberia um \"True\", porque 102 realmente não estará no conjunto."
      ]
    },
    {
      "cell_type": "code",
      "metadata": {
        "colab": {
          "base_uri": "https://localhost:8080/"
        },
        "id": "Y-x2wAq0JCQ9",
        "outputId": "56f60430-ac9a-4b81-c953-99508767bf48"
      },
      "source": [
        "conjunto2 = [10,20,30,40,50]\n",
        "\n",
        "print(5 not in conjunto)"
      ],
      "execution_count": 4,
      "outputs": [
        {
          "output_type": "stream",
          "text": [
            "False\n"
          ],
          "name": "stdout"
        }
      ]
    },
    {
      "cell_type": "markdown",
      "metadata": {
        "id": "yKj-7uEP7CLx"
      },
      "source": [
        "#### Outros operadores lógicos \n",
        "\n",
        "Cada um funciona de forma diferente, e explicá-los e testá-los um por um demoraria um pouco. Para se aprofundar em todos os operadores e como cada um deles funciona, é só dar uma olhada [neste vídeo](https://www.youtube.com/watch?v=czW7I2CCcUM&ab_channel=eXcript). "
      ]
    },
    {
      "cell_type": "markdown",
      "metadata": {
        "id": "8sGlRaB6FJyu"
      },
      "source": [
        "## Condicionais\n",
        "\n",
        "No nosso dia a dia, é comum executarmos comportamentos diferentes para condições diferentes, certo? Vamos examinar a seguinte frase:\n",
        "\n",
        "   - **Se** chover amanhã, leve um guarda chuva, **caso contrário**, leve um óculos de sol\n",
        "\n",
        "De maneira análoga, frequentemente quando formos criar programas, vamos querer que o computador execute um dado comando apenas quando uma certa condição for verdade. Para isso, vamos usar o comando `if` e `else`: "
      ]
    },
    {
      "cell_type": "code",
      "metadata": {
        "id": "vVj97GWkFJyu"
      },
      "source": [
        "chuva = True\n",
        "\n",
        "if chuva:\n",
        "    print('Devo levar um guarda chuva!')\n",
        "else:\n",
        "    print('Devo levar um óculos de sol!')"
      ],
      "execution_count": null,
      "outputs": []
    },
    {
      "cell_type": "markdown",
      "metadata": {
        "id": "e3m5VRQJFJyu"
      },
      "source": [
        "Além do `if` e do `else` também podemos aninhar outras condicionais entre esses comandos com o `elif`(abreviação de else if). Não há limites para números de `elif`s que podem ser adicionados. \n",
        "A sintaxe das condicionais vai ser a seguinte: \n",
        "\n",
        "``` python\n",
        "if CONDIÇÃO_1:\n",
        "    COMANDOS_1     # executados se CONDIÇÃO_1 tem valor True\n",
        "\n",
        "elif CONDIÇÃO_2:\n",
        "    COMANDOS_2     # executados se CONDIÇÃO_2 tem valor True\n",
        "\n",
        "else:\n",
        "    COMANDOS_2     # executados se CONDIÇÃO_1 e CONDIÇÃO_2 tem valor False\n",
        "```\n"
      ]
    },
    {
      "cell_type": "markdown",
      "metadata": {
        "id": "P3WxE8x9FJyv"
      },
      "source": [
        "### Exercício 1\n",
        "Escreva um programa que recebe a idade do usuário e, se ele/ela for maior de 18 anos, o computador imprime a mensagem \"Você já pode dirigir!\", caso contrário, o programa deve imprimir \"Você ainda não pode tirar a sua habilitação\". "
      ]
    },
    {
      "cell_type": "code",
      "metadata": {
        "id": "32XJbeu3FJyv"
      },
      "source": [
        "idade = ...\n",
        "\n",
        "if ... :\n",
        "    print(...)\n",
        "\n",
        "else:\n",
        "    print(...)"
      ],
      "execution_count": null,
      "outputs": []
    },
    {
      "cell_type": "markdown",
      "metadata": {
        "id": "xK82-B6wFJyv"
      },
      "source": [
        "### Exercício 2\n",
        "\n",
        "Faça um programa que recebe um número e diz se ele é par ou ímpar"
      ]
    },
    {
      "cell_type": "code",
      "metadata": {
        "id": "GLlYjPhFFJyv"
      },
      "source": [
        "num = ...\n",
        "\n",
        "if ... :\n",
        "    ... \n",
        "\n",
        "else:\n",
        "    ... \n",
        "    "
      ],
      "execution_count": null,
      "outputs": []
    },
    {
      "cell_type": "markdown",
      "metadata": {
        "id": "GvSdmjmtFJyw"
      },
      "source": [
        "### Exercício 3\n",
        "Faça um programa que realiza o cálculo do IMC de uma pessoa e retorna a categoria em que ela se encontra. O cálculo do IMC é dado pela seguinte fórmula:  \n",
        "    $IMC = peso / altura^2$ \n",
        "    (peso em kg e altura em metros)\n",
        "    \n",
        "Use os seguintes indicadores para retornar a categoria da pessoa:  \n",
        "\n",
        "- IMC < 19.99 : Subpeso \n",
        "- IMC 20 a 24.99 : Normal\n",
        "- IMC 25 a 29.99 : Sobrepeso\n",
        "- IMC 30 a 39.99 : Obeso\n",
        "- IMC > 40 : Obeso mórbido"
      ]
    },
    {
      "cell_type": "code",
      "metadata": {
        "id": "YsbevjQGFJyw"
      },
      "source": [
        "peso = ...\n",
        "altura = ...\n",
        "\n",
        "if ...:\n",
        "\n",
        "...\n",
        "\n",
        "else:\n",
        "    ... "
      ],
      "execution_count": null,
      "outputs": []
    },
    {
      "cell_type": "markdown",
      "metadata": {
        "id": "hfxOOyp8FJyw"
      },
      "source": [
        "## Listas\n",
        "Uma lista em Python é uma sequência ou coleção ordenada de valores. Cada valor na lista é identificado por um índice. As listas são similares a strings, que são uma sequência de caracteres, no entanto, diferentemente de strings, os itens de uma lista podem ser de tipos diferentes."
      ]
    },
    {
      "cell_type": "code",
      "metadata": {
        "id": "UOCtIEBiFJyx"
      },
      "source": [
        "lista = [1, 2, 3, 4, 5]\n",
        "print(lista)\n",
        "print(type(lista))"
      ],
      "execution_count": null,
      "outputs": []
    },
    {
      "cell_type": "code",
      "metadata": {
        "id": "3loCjn0UFJyx"
      },
      "source": [
        "lista2 = [1, 'oi', 3.14, True]\n",
        "print(lista2)\n",
        "print(type(lista2))"
      ],
      "execution_count": null,
      "outputs": []
    },
    {
      "cell_type": "markdown",
      "metadata": {
        "id": "Kl47hz5sFJyx"
      },
      "source": [
        "Podemos até mesmo criar listas dentro de listas: "
      ]
    },
    {
      "cell_type": "code",
      "metadata": {
        "id": "dVNx6IL7FJyx"
      },
      "source": [
        "listas = [[1, 2, 3], [4, 5, 6], [7, 8, 9]]\n",
        "print(listas)\n",
        "print(type(listas))"
      ],
      "execution_count": null,
      "outputs": []
    },
    {
      "cell_type": "markdown",
      "metadata": {
        "id": "VMioB6PNFJyy"
      },
      "source": [
        "Se quisermos saber o comprimento de uma lista, utilizamos a função `len()`"
      ]
    },
    {
      "cell_type": "code",
      "metadata": {
        "id": "43V8ERZaFJyy"
      },
      "source": [
        "print(lista, len(lista))\n",
        "print(lista2, len(lista2))\n",
        "print(listas, len(listas))"
      ],
      "execution_count": null,
      "outputs": []
    },
    {
      "cell_type": "markdown",
      "metadata": {
        "id": "movq4EWPFJyy"
      },
      "source": [
        "**Acessando elementos**\n",
        "\n",
        "A sintaxe para acessar um elemento de uma lista é a mesma usada para acessar um caractere de um string. Nós usamos o operador de indexação - `[]` . A expressão dentro dos colchetes especifica o índice. Lembre-se que o índice do primeiro elemento é 0!"
      ]
    },
    {
      "cell_type": "code",
      "metadata": {
        "id": "BCq7IyZyFJyy"
      },
      "source": [
        "lista[0]"
      ],
      "execution_count": null,
      "outputs": []
    },
    {
      "cell_type": "code",
      "metadata": {
        "id": "immiKy1IFJyz"
      },
      "source": [
        "lista2[1:3]"
      ],
      "execution_count": null,
      "outputs": []
    },
    {
      "cell_type": "code",
      "metadata": {
        "id": "K9DDYGLlFJyz"
      },
      "source": [
        "listas[-1]"
      ],
      "execution_count": null,
      "outputs": []
    },
    {
      "cell_type": "code",
      "metadata": {
        "id": "Wu_PdDkVFJyz"
      },
      "source": [
        "# Selecione o último elemento da última sublista em 'listas'\n"
      ],
      "execution_count": null,
      "outputs": []
    },
    {
      "cell_type": "markdown",
      "metadata": {
        "id": "9QCiZ_8IFJyz"
      },
      "source": [
        "**Pertinência em uma lista**\n",
        "\n",
        "Podemos usar os operadores booleanos `in` e `not in` para verificar se um elemento pertence a uma lista ou não:\n"
      ]
    },
    {
      "cell_type": "code",
      "metadata": {
        "id": "XYJpuXS-FJy0"
      },
      "source": [
        "compras = ['leite', 'batata', 'manteiga', 'ovos', 'cenoura']"
      ],
      "execution_count": null,
      "outputs": []
    },
    {
      "cell_type": "code",
      "metadata": {
        "id": "zgiqhUbyFJy0"
      },
      "source": [
        "'banana' in compras"
      ],
      "execution_count": null,
      "outputs": []
    },
    {
      "cell_type": "code",
      "metadata": {
        "id": "98BZ0pWZFJy0"
      },
      "source": [
        "'manteiga' in compras"
      ],
      "execution_count": null,
      "outputs": []
    },
    {
      "cell_type": "code",
      "metadata": {
        "id": "8oXCXSAeFJy0"
      },
      "source": [
        "'ovos' not in compras"
      ],
      "execution_count": null,
      "outputs": []
    },
    {
      "cell_type": "markdown",
      "metadata": {
        "id": "dx1lImu-FJy1"
      },
      "source": [
        "**`.append()`**\n",
        "\n",
        "Podemos facilmente inserir novos itens em uma lista utilizando o método `append`. Esse método vai se mostrar muito útil quando estivermos trabalhando com loops.\n"
      ]
    },
    {
      "cell_type": "code",
      "metadata": {
        "id": "_2A19ElSFJy1"
      },
      "source": [
        "estados_sudeste = ['SP', 'RJ', 'MG']"
      ],
      "execution_count": null,
      "outputs": []
    },
    {
      "cell_type": "code",
      "metadata": {
        "id": "UTYBfamnFJy2"
      },
      "source": [
        "estados_sudeste.append('ES')"
      ],
      "execution_count": null,
      "outputs": []
    },
    {
      "cell_type": "code",
      "metadata": {
        "id": "DLcSsiL2FJy3"
      },
      "source": [
        "estados_sudeste"
      ],
      "execution_count": null,
      "outputs": []
    },
    {
      "cell_type": "markdown",
      "metadata": {
        "id": "4nTw3zdDFJy4"
      },
      "source": [
        "### Atenção! Listas são mutáveis! \n",
        "Uma propriedade importante das listas é que elas são mutáveis, ou seja, podemos alterar um item de uma lista acessando-o diretamente como parte do comando de atribuição. Vamos ver isso na prática: "
      ]
    },
    {
      "cell_type": "code",
      "metadata": {
        "id": "COd8uL-SFJy4"
      },
      "source": [
        "exemplo = [1, 2, 3, 4, 5, 6, 7, 8, 9, 10]"
      ],
      "execution_count": null,
      "outputs": []
    },
    {
      "cell_type": "code",
      "metadata": {
        "id": "yTgF7uoxFJy4"
      },
      "source": [
        "exemplo[2]"
      ],
      "execution_count": null,
      "outputs": []
    },
    {
      "cell_type": "code",
      "metadata": {
        "id": "JMSKBA99FJy5"
      },
      "source": [
        "exemplo[2] = 3678964"
      ],
      "execution_count": null,
      "outputs": []
    },
    {
      "cell_type": "code",
      "metadata": {
        "id": "uVthTNdAFJy5"
      },
      "source": [
        "exemplo"
      ],
      "execution_count": null,
      "outputs": []
    },
    {
      "cell_type": "markdown",
      "metadata": {
        "id": "oeQjEwtjFJy5"
      },
      "source": [
        "Se quisermos \"preservar\" a lista original podemos criar um *clone* da lista e então alterar apenas essa versão: "
      ]
    },
    {
      "cell_type": "code",
      "metadata": {
        "id": "30q5jgheFJy5"
      },
      "source": [
        "exemplo = [1, 2, 3, 4, 5, 6, 7, 8, 9, 10]"
      ],
      "execution_count": null,
      "outputs": []
    },
    {
      "cell_type": "code",
      "metadata": {
        "id": "wiefxU8VFJy6"
      },
      "source": [
        "clone = exemplo[:]"
      ],
      "execution_count": null,
      "outputs": []
    },
    {
      "cell_type": "code",
      "metadata": {
        "id": "r4xFQQ7eFJy6"
      },
      "source": [
        "clone[2] = 3678964"
      ],
      "execution_count": null,
      "outputs": []
    },
    {
      "cell_type": "code",
      "metadata": {
        "id": "gWc6Dq8PFJy6"
      },
      "source": [
        "print(exemplo)\n",
        "print(clone)"
      ],
      "execution_count": null,
      "outputs": []
    },
    {
      "cell_type": "markdown",
      "metadata": {
        "id": "uFJ971ViFJy6"
      },
      "source": [
        "### Exercício 1 \n",
        "Faça um programa que recebe um item e verifica se ele já foi colocado na lista de compras ou não "
      ]
    },
    {
      "cell_type": "code",
      "metadata": {
        "id": "ZLPazsp5FJy7"
      },
      "source": [
        "novo_item = ...\n",
        "lista_de_compras = ['ovos', 'manteiga', 'leite', 'laranja']\n",
        "\n",
        "if ...:\n",
        "    ...\n",
        "else:\n",
        "    ..."
      ],
      "execution_count": null,
      "outputs": []
    },
    {
      "cell_type": "markdown",
      "metadata": {
        "id": "GEQ-EHjxFJy8"
      },
      "source": [
        "### Exercício 2 \n",
        "Altere o programa anterior para inserir o novo item caso ele não esteja na lista ainda"
      ]
    },
    {
      "cell_type": "code",
      "metadata": {
        "id": "1Ggb1JFaFJy8"
      },
      "source": [
        ""
      ],
      "execution_count": null,
      "outputs": []
    },
    {
      "cell_type": "markdown",
      "metadata": {
        "id": "cCK93K2GFJy9"
      },
      "source": [
        "## Range"
      ]
    },
    {
      "cell_type": "markdown",
      "metadata": {
        "id": "LypGcPUnFJy9"
      },
      "source": [
        "O range não é nada mais do que uma forma rápida de criar uma sequência de números dentro de um determinado intervalo. Essa função aceita até 3 argumentos e, a partir deles, podemos decidir em que número a série começará, em qual ela terminará e qual será a diferença entre os números da série."
      ]
    },
    {
      "cell_type": "code",
      "metadata": {
        "id": "uTHzfdspFJy-"
      },
      "source": [
        "exemplo1 = list(range(1,10,2))\n",
        "print(exemplo1)"
      ],
      "execution_count": null,
      "outputs": []
    },
    {
      "cell_type": "markdown",
      "metadata": {
        "id": "re5wWGkrFJy-"
      },
      "source": [
        "Na ausência dos argumentos de número inicial e intervalo entre os números, por padrão, o programa considera que o número inicial será o 0 e irá aumentando de 1 em 1."
      ]
    },
    {
      "cell_type": "code",
      "metadata": {
        "id": "j8XZzjBSFJy-"
      },
      "source": [
        "exemplo2 = list(range(5))\n",
        "print(exemplo2)"
      ],
      "execution_count": null,
      "outputs": []
    },
    {
      "cell_type": "markdown",
      "metadata": {
        "id": "eZWu6uhkFJy-"
      },
      "source": [
        "Atenção: nos exemplos coloquei list() para facilitar a visualização do que ocorre no range. Contudo, a função range() não é uma variável do tipo lista"
      ]
    },
    {
      "cell_type": "code",
      "metadata": {
        "id": "HIHcUiLCFJy_"
      },
      "source": [
        "print(range(5))\n",
        "print(type(range(5)))"
      ],
      "execution_count": null,
      "outputs": []
    },
    {
      "cell_type": "markdown",
      "metadata": {
        "id": "gLt3lqdfFJy_"
      },
      "source": [
        "#### Exercício"
      ]
    },
    {
      "cell_type": "markdown",
      "metadata": {
        "id": "NWOqnw9IFJy_"
      },
      "source": [
        "Usando a função range, crie e dê print() em uma lista com uma sequência de números que aumentam de 2 em 2, que começa com o número 0 e termina com o número 16."
      ]
    },
    {
      "cell_type": "code",
      "metadata": {
        "id": "0m4jj9PxFJy_"
      },
      "source": [
        "exercicio = list(range(...))\n",
        "print(...)"
      ],
      "execution_count": null,
      "outputs": []
    },
    {
      "cell_type": "markdown",
      "metadata": {
        "id": "BEMkwQF_FJzA"
      },
      "source": [
        "## Loops"
      ]
    },
    {
      "cell_type": "markdown",
      "metadata": {
        "id": "zkzx3OBGFJzA"
      },
      "source": [
        "Os loops são utilizados para quando queremos que uma série de comandos de códigos seja feita repetidamente até uma certa condição ou número de repetições ser satisfeita"
      ]
    },
    {
      "cell_type": "markdown",
      "metadata": {
        "id": "flCqW33qFJzA"
      },
      "source": [
        "### While Loops\n",
        "Os loops while são usados para repetir os comandos até uma determinada condição booleana ser satisfeita. Vale destacar que se essa condição não é inicialmente satisfeita, o loop while não roda."
      ]
    },
    {
      "cell_type": "code",
      "metadata": {
        "id": "jdOggEryFJzA"
      },
      "source": [
        "#Exemplo 1\n",
        "n = 1\n",
        "while n <= 5:\n",
        "    print(n)\n",
        "    n += 1 # isso é o mesmo que escrever n = n + 1"
      ],
      "execution_count": null,
      "outputs": []
    },
    {
      "cell_type": "code",
      "metadata": {
        "id": "AwybeFTqFJzB"
      },
      "source": [
        "#Exemplo 2\n",
        "n = 6\n",
        "while n <= 5:\n",
        "    print(n)\n",
        "    n += 1"
      ],
      "execution_count": null,
      "outputs": []
    },
    {
      "cell_type": "markdown",
      "metadata": {
        "id": "HnJbinFuFJzB"
      },
      "source": [
        "Agora vamos testar uma aplicação um pouco mais robusta. Utilizando o loop while, calcularemos o fatorial de um número. Lembrando que o fatorial é a multiplicação do número pelo número imediatamente anterior e assim sucessivamente até chegar no número 1. Ex.: 3! = 3x2x1"
      ]
    },
    {
      "cell_type": "code",
      "metadata": {
        "id": "LjELezRYFJzB"
      },
      "source": [
        "#Fatorial\n",
        "num = int(input('Escolha um número! '))\n",
        "multiplicador = num\n",
        "fatorial = 1\n",
        "while multiplicador > 1: \n",
        "    fatorial *= multiplicador\n",
        "    multiplicador -= 1\n",
        "print(\"O fatorial de %d é %d\"%(num,fatorial))"
      ],
      "execution_count": null,
      "outputs": []
    },
    {
      "cell_type": "markdown",
      "metadata": {
        "id": "L8f34DlfFJzB"
      },
      "source": [
        "####  Exercício \n",
        "Vamos supor que você queira dar uma sequência de números, que terminará em 0, e obter como output a soma desses números. Faça um código que te permita fazê-lo utilizando um while loop."
      ]
    },
    {
      "cell_type": "code",
      "metadata": {
        "id": "y4nfwBMQFJzC"
      },
      "source": [
        "...\n",
        "while ....:\n",
        "    num = ...\n",
        "    print(...)"
      ],
      "execution_count": null,
      "outputs": []
    },
    {
      "cell_type": "markdown",
      "metadata": {
        "id": "jC6EWzjIFJzC"
      },
      "source": [
        "### For loops\n",
        "Os loops com \"for\" iteram dentro de uma dada sequência. Normalmente, é usado quando queremos que uma série de comandos sejam repetidos por uma quantidade de vezes específica. "
      ]
    },
    {
      "cell_type": "code",
      "metadata": {
        "id": "lAhTME0PFJzC"
      },
      "source": [
        "#Exemplo 1 - Queremos criar uma lista com os nomes de um determinado número de alunos\n",
        "num = int(input(\"Insira o número de alunos: \"))\n",
        "lista = []\n",
        "for i in range(num):\n",
        "    nome = input(\"Insira o nome do aluno: \")\n",
        "    lista.append(nome)\n",
        "print(lista)"
      ],
      "execution_count": null,
      "outputs": []
    },
    {
      "cell_type": "markdown",
      "metadata": {
        "id": "AhMLF_sZFJzD"
      },
      "source": [
        "Outra aplicação é para iterar em uma lista. "
      ]
    },
    {
      "cell_type": "code",
      "metadata": {
        "id": "NzEgrwTWFJzD"
      },
      "source": [
        "# Vamos fazer um código que devolve os números pares de uma lista de números dados\n",
        "numeros = [4,0,8,17,58,29]\n",
        "for num in numeros:\n",
        "    if num % 2 == 0:\n",
        "        print(num)"
      ],
      "execution_count": null,
      "outputs": []
    },
    {
      "cell_type": "markdown",
      "metadata": {
        "id": "bvsZ_axKFJzD"
      },
      "source": [
        "#### Exercício\n",
        "Faça um código que dê como output quantos números entre 1 e 5.000.000 são divisíveis por 2, 37 e 49"
      ]
    },
    {
      "cell_type": "code",
      "metadata": {
        "id": "XDT6IjUBFJzE"
      },
      "source": [
        "for ...\n",
        "...\n",
        "print(...)"
      ],
      "execution_count": null,
      "outputs": []
    },
    {
      "cell_type": "markdown",
      "metadata": {
        "id": "_9xXticCFJzE"
      },
      "source": [
        "### Elementos Break e Continue\n",
        "Tem algumas funções que podem nos ajudar a controlar o fluxo dos nossos loops. O \"continue\" faz com que pulemos o bloco de comando e voltemos para o comando do loop. Já o \"break\" é usado para quebrar o loop e, portanto, sair dele."
      ]
    },
    {
      "cell_type": "code",
      "metadata": {
        "id": "XuFijqzEFJzE"
      },
      "source": [
        "#Exemplo 1: um código que printa os números impares entre 0 e 10.\n",
        "for i in range(10):\n",
        "    if i % 2 == 0:\n",
        "        continue #se o número for par, o código voltará para o \"for\" e o número não será printado\n",
        "    print(i)"
      ],
      "execution_count": null,
      "outputs": []
    },
    {
      "cell_type": "code",
      "metadata": {
        "id": "g_RnXJZJFJzF"
      },
      "source": [
        "#Exemplo 2: printar todos os números entre 1 e 10 que são menores que 5\n",
        "for i in range(10):\n",
        "    if i == 5:\n",
        "        break\n",
        "    print(i)"
      ],
      "execution_count": null,
      "outputs": []
    },
    {
      "cell_type": "markdown",
      "metadata": {
        "id": "e81EyI0wFJzF"
      },
      "source": [
        "#### Exercício\n",
        "Faça um código que crie e printe uma lista com todos os números pares da lista dada (numbers) que aparecem na lista antes do número 237"
      ]
    },
    {
      "cell_type": "code",
      "metadata": {
        "id": "pbL-QCjhFJzG"
      },
      "source": [
        "numbers = [\n",
        "    951, 402, 984, 651, 360, 69, 408, 319, 601, 485, 980, 507, 725, 547, 544,\n",
        "    615, 83, 165, 141, 501, 263, 617, 865, 575, 219, 390, 984, 592, 236, 105, 942, 941,\n",
        "    386, 462, 47, 418, 907, 344, 236, 375, 823, 566, 597, 978, 328, 615, 953, 345,\n",
        "    399, 162, 758, 219, 918, 237, 412, 566, 826, 248, 866, 950, 626, 949, 687, 217,\n",
        "    815, 67, 104, 58, 512, 24, 892, 894, 767, 553, 81, 379, 843, 831, 445, 742, 717,\n",
        "    958, 609, 842, 451, 688, 753, 854, 685, 93, 857, 440, 380, 126, 721, 328, 753, 470,\n",
        "    743, 527\n",
        "]\n",
        "...\n",
        "for ...\n",
        "...\n",
        "print(...)"
      ],
      "execution_count": null,
      "outputs": []
    },
    {
      "cell_type": "markdown",
      "metadata": {
        "id": "BBgJJUUfFJzG"
      },
      "source": [
        "### Loop dentro de loop\n",
        "Há casos em que podemos precisar colocar vários loops encadeados. "
      ]
    },
    {
      "cell_type": "code",
      "metadata": {
        "id": "pfRuAuspFJzH"
      },
      "source": [
        "#Exemplo 1: vamos criar um código que recebe uma lista com listas e retorna uma lista com os \n",
        "#números presentes em todas essas listas sem repetição\n",
        "lista = [[1,2,3,4], [2,5,7],[15,2,20],[15,10,62]]\n",
        "lista_sep = []\n",
        "for i in lista:\n",
        "    for j in i:\n",
        "        if j not in lista_sep:\n",
        "            lista_sep.append(j)\n",
        "print(lista_sep)"
      ],
      "execution_count": null,
      "outputs": []
    },
    {
      "cell_type": "markdown",
      "metadata": {
        "id": "hq1qszoGFJzI"
      },
      "source": [
        "#### Exercício\n",
        "Faça um código que retorne uma lista com os números primos de 1 a 50."
      ]
    },
    {
      "cell_type": "code",
      "metadata": {
        "id": "C8ARFLapFJzJ"
      },
      "source": [
        "primos = []\n",
        "for ...\n",
        "    ...\n",
        "    for ...\n",
        "        if ...:\n",
        "            ...\n",
        "    if ...:\n",
        "        ...\n",
        "print(primos)"
      ],
      "execution_count": null,
      "outputs": []
    },
    {
      "cell_type": "markdown",
      "metadata": {
        "id": "Blrvm3q_FJzJ"
      },
      "source": [
        "### Cuidado!!\n",
        "Cuidado para não criar loops infinitos. Eles ocorrem principalmente nos for loops, quando a condição para a quebra do looping nunca ocorre, fazendo o código rodar infinitamente."
      ]
    },
    {
      "cell_type": "code",
      "metadata": {
        "id": "OvAd0A5hFJzK"
      },
      "source": [
        "#Exemplo de loop infinito\n",
        "i = 0\n",
        "while i < 5:\n",
        "    if i % 2 != 0:\n",
        "        print(\"%d é ímpar\"%(i))"
      ],
      "execution_count": null,
      "outputs": []
    },
    {
      "cell_type": "markdown",
      "metadata": {
        "id": "VPL0WB58FJzK"
      },
      "source": [
        "#### Saindo um pouco dos exemplos numéricos..."
      ]
    },
    {
      "cell_type": "code",
      "metadata": {
        "id": "6Y0znSjpFJzL"
      },
      "source": [
        "consoantes = [\"q\",'w','r','t','y','p','s','d','f','g','h','j','k','l','z','x','c','v','b','n','m']\n",
        "vogais = ['e','i','u','o','a']\n",
        "nome = input(\"Insira seu nome: \")\n",
        "num_vog = 0\n",
        "num_cons = 0\n",
        "letras = []\n",
        "for letra in nome.lower():\n",
        "    if letra in letras:\n",
        "        continue\n",
        "    letras.append(letra)\n",
        "for letra in letras:\n",
        "    if letra in vogais:\n",
        "        num_vog +=1\n",
        "    if letra in consoantes:\n",
        "        num_cons +=1\n",
        "print(\"Consoantes: %d e vogais: %d\"%(num_cons, num_vog))"
      ],
      "execution_count": null,
      "outputs": []
    },
    {
      "cell_type": "markdown",
      "metadata": {
        "id": "QeD0j3qlFJzL"
      },
      "source": [
        "# Funções\n",
        "## O que são Funções?\n",
        "\n",
        "Uma função é um bloco de código que contém uma sequência de comandos que executa alguma tarefa. São utilizadas para executar determinadas tarefas que normalmente precisam ser executadas diversas vezes dentro de uma aplicação. Dessa forma, não é necessário repetir as mesmas linhas de código sempre que se quiser realizar determinada tarefa! "
      ]
    },
    {
      "cell_type": "markdown",
      "metadata": {
        "id": "XH_XbU_qFJzM"
      },
      "source": [
        "## E como é a estrutura de uma função?\n",
        "\n",
        "A função pode apenas manipular os valores...\n",
        "\n",
        "```\n",
        "def NOME (PARAMETROS):\n",
        "  COMANDOS\n",
        "```\n",
        "\n",
        "ou retornar algum valor (usando a palavra reservada return)..\n",
        "\n",
        "```\n",
        "def NOME (PARAMETROS):\n",
        "  COMANDOS\n",
        "  return VALOR_DESEJADO\n",
        "```"
      ]
    },
    {
      "cell_type": "markdown",
      "metadata": {
        "id": "HlUXpKirFJzM"
      },
      "source": [
        "## Alguns exemplos\n",
        "#### Primeiro vamos ver uma função simples e como chama-la no nosso código"
      ]
    },
    {
      "cell_type": "code",
      "metadata": {
        "id": "KyzooCNRFJzM"
      },
      "source": [
        "def apresenta (nome, idade):\n",
        "  print (\"Olá amigos, meu nome é\", nome, \"e eu tenho\", idade, \"anos\")"
      ],
      "execution_count": null,
      "outputs": []
    },
    {
      "cell_type": "code",
      "metadata": {
        "id": "ZFbVnL3dFJzM"
      },
      "source": [
        "nome_usuario=input(\"Qual o seu nome?\")\n",
        "idade_usuario=input(\"E qual a sua idade?\")\n",
        "apresenta(nome_usuario, idade_usuario)"
      ],
      "execution_count": null,
      "outputs": []
    },
    {
      "cell_type": "code",
      "metadata": {
        "id": "Vrw3xcYwFJzN"
      },
      "source": [
        "#Crie uma função que receba o nome e a idade do usuário e imprima\n",
        "#\"$$Nome$$ é maior de 18 anos\" ou\n",
        "#\"$$Nome$$ é menor de 18 anos\"\n",
        "#dependendo da idade dele\n",
        "\n"
      ],
      "execution_count": null,
      "outputs": []
    },
    {
      "cell_type": "code",
      "metadata": {
        "id": "fSywON-7FJzN"
      },
      "source": [
        "#Chame a função no seu programa\n",
        "\n"
      ],
      "execution_count": null,
      "outputs": []
    },
    {
      "cell_type": "markdown",
      "metadata": {
        "id": "LJhFJL45FJzN"
      },
      "source": [
        "#### Função com return\n",
        "Como a gente falou anteriormente, apesar de ser interessante manipular nossos dados com funções, muitas vezes precisamos que algum valor seja devolvido por ela. Para isso, usamos a palavra reservada return.\n",
        "Para ficar mais claro, observe o exemplo abaixo."
      ]
    },
    {
      "cell_type": "code",
      "metadata": {
        "id": "3aRlaHJ9FJzN"
      },
      "source": [
        "def maior (a, b):\n",
        "  if(a>b):\n",
        "    return a\n",
        "  else:\n",
        "    return b"
      ],
      "execution_count": null,
      "outputs": []
    },
    {
      "cell_type": "markdown",
      "metadata": {
        "id": "Q_ZwCkaHFJzO"
      },
      "source": [
        "O objetivo dela é retornar o maior valor entre dois números. Veja que o comando return aqui, será o respondável por me devolver o valor da função, quando ela for chamada no meu programa. Vamos ver como fica isso."
      ]
    },
    {
      "cell_type": "code",
      "metadata": {
        "id": "NmrEBd2OFJzO"
      },
      "source": [
        "print(\"digite dois números e eu vou te dizer o maior entre eles \\n\")\n",
        "x= input()\n",
        "y= input()\n",
        "aux = maior(x, y)\n",
        "print(\"O maior número é\", aux)"
      ],
      "execution_count": null,
      "outputs": []
    },
    {
      "cell_type": "code",
      "metadata": {
        "id": "CFOr5GKZFJzO"
      },
      "source": [
        "##Também posso chamar uma função dentro de outra função\n",
        "print(\"digite dois números e eu vou te dizer o maior entre eles \\n\")\n",
        "e= input()\n",
        "f= input()\n",
        "print(\"O maior número é\", maior(e, f))"
      ],
      "execution_count": null,
      "outputs": []
    },
    {
      "cell_type": "code",
      "metadata": {
        "id": "5vr5tsArFJzP"
      },
      "source": [
        "#Crie uma função que execute a subtração de dois números e retorne o resultado"
      ],
      "execution_count": null,
      "outputs": []
    },
    {
      "cell_type": "code",
      "metadata": {
        "id": "BWNZTSyKFJzP"
      },
      "source": [
        "#Chame a função no seu programa, guarde o valor que ela retornou em uma variável\n",
        "#e imprima essa variável\n",
        "\n",
        "\n",
        "\n",
        "#Agora, chame a função dentro da funçã print e imprima o valor que a função retornou"
      ],
      "execution_count": null,
      "outputs": []
    },
    {
      "cell_type": "markdown",
      "metadata": {
        "id": "vysI7JQqFJzP"
      },
      "source": [
        "## Funções sem parâmetros\n",
        "Funções podem ter infinitos parâmetros ou não ter parâmetro nenhum! Podem ter até parâmetros opcionais(spoiler)."
      ]
    },
    {
      "cell_type": "code",
      "metadata": {
        "id": "do3ejhAgFJzP"
      },
      "source": [
        "def spam():\n",
        "    for i in range(20): \n",
        "        print (\"amendoim é bom\")"
      ],
      "execution_count": null,
      "outputs": []
    },
    {
      "cell_type": "code",
      "metadata": {
        "id": "e-AFjo1GFJzQ"
      },
      "source": [
        "spam()"
      ],
      "execution_count": null,
      "outputs": []
    },
    {
      "cell_type": "markdown",
      "metadata": {
        "id": "4xoxRjeGFJzQ"
      },
      "source": [
        "## Parâmetros opcionais e Parâmetros pré definidos\n",
        "\n",
        "#### Parâmetros opcionais\n",
        "Algumas vezes você quer usar diferentes parâmetros para diferentes propósitos, porém dentro da mesma função. As vezes você não quer usar todos os parâmetros. Existem n motivos pelos quais você pode querer fazer um parâmetro ser opcional.\n",
        "\n",
        "##### Mas como a gente faz isso?\n",
        "\n",
        "Quando estamos escrevendo a função, declaramos o parâmetro como ```**kwargs```. Por convenção, utiliza-se a palavra kwargs, mas pode-se utilizar qualquer uma, desde que coloque-se os ``**`` antes dela!\n",
        "Além disso, é necessário se atribuir o valor dos parâmetros opcionais à variáveis dentro da função. A estrutura fica assim então:\n",
        "\n",
        "```` \n",
        "def nome(parametro_obrigatorio, **kwargs):\n",
        "    opcional1=kwargs.get('opcional1')\n",
        "    opcional2=kwargs.get('opcional2')\n",
        "    ##resto da função... \n",
        "````\n",
        "\n",
        "##### Legal, mas como eu chamo uma função com argumentos opcionais??\n",
        "\n",
        "Posso chamar só com o parâmetro obrigatório, como uma função normal\n",
        "\n",
        "``nome(parametro_obrigatorio)``\n",
        "\n",
        "Posso chamar com um parâmetro opcional. Nesse caso, observe que tive que declarar que o parâmetro a mais que estava colocando na chamada da função, se refere ao parâmetro opcional1.\n",
        "\n",
        "``nome(parametro_obrigatorio, opcional1=\"amendoim\")``\n",
        "\n",
        "E, por fim, posso chamar com todos os parânetros! Sem esquecer é claro, de separa-los e identifica-los.\n",
        "\n",
        "``nome(parametro_obrigatorio, opcional1=\"amendoim\", opcional2=\"chuchu\")``\n",
        "\n",
        "#### Parâmetros pré-definidos\n",
        "Existem casos em que você está lidando com uma situação que acontece com muita frequência, mas não pode assumir que vai acontecer sempre. Uma solução para economizar tempo nessas situações, é pré-definir um valor para um parâmetro da sua função. Dessa forma, o usuário pode preencher o campo desse parâmetro, caso ele não seja seu caso padrão, ou ele pode não preencher nada caso se encaixe.\n",
        "\n",
        "##### Na declaração da função\n",
        "\n",
        "```` \n",
        "def nome(parametro_obrigatorio, parametro_padronizado = 3):\n",
        "    ##resto da função... \n",
        "````\n",
        "##### Na chamada da função\n",
        "Posso chamar a função sem colocar nada no lugar do parametro pré definido, e nesse caso a função irá utilizar o valor pré definido\n",
        "``nome(parametro_obrigatorio)``\n",
        "Mas também posso querer mudar o valor, nesse caso a função é chamada dessa forma:\n",
        "``nome(parametro_obrigatorio, 5)``"
      ]
    },
    {
      "cell_type": "markdown",
      "metadata": {
        "id": "j_6bstsaFJzQ"
      },
      "source": [
        "### Um exemplo"
      ]
    },
    {
      "cell_type": "code",
      "metadata": {
        "id": "xFRqYQnPFJzR"
      },
      "source": [
        "def amizade(nome, mode=\"amigos\", **kwargs):\n",
        "  obs1=kwargs.get('obs1')\n",
        "  obs2=kwargs.get('obs2')\n",
        "  if mode == \"amigos\":\n",
        "    print(\"Oi,\", nome, \"somos bons amigos\")\n",
        "    if obs1 != None:\n",
        "      print(obs1)\n",
        "    if obs2!= None:\n",
        "      print(obs2)\n",
        "  elif mode == \"namorados\":\n",
        "    print (\"oi amor, te amo, quero ter\", nome, \"gravado na minha aliança\")\n",
        "    if obs1 != None:\n",
        "      print(obs1)\n",
        "    if obs2!= None:\n",
        "      print(obs2)\n",
        "  elif mode == \"inimigos\":\n",
        "    print (\"sai daqui,\",nome, \"ninguem gosta de você\")\n",
        "    if obs1 != None:\n",
        "      print(obs1)\n",
        "    if obs2!= None:\n",
        "      print(obs2)"
      ],
      "execution_count": null,
      "outputs": []
    },
    {
      "cell_type": "code",
      "metadata": {
        "id": "rnXVZZCCFJzR"
      },
      "source": [
        "#Caso em que coloco os dois parâmetros opcionais, aqui é utilizado o valor\n",
        "#pré definido para o parâmetro 'mode'\n",
        "\n",
        "amizade(\"vick\", obs1=\"você é cheirosa\", obs2=\"você é muito dedicada\")"
      ],
      "execution_count": null,
      "outputs": []
    },
    {
      "cell_type": "code",
      "metadata": {
        "id": "kMMtF-akFJzR"
      },
      "source": [
        "#Caso sem nenhum parâmetro opcional, aqui o valor\n",
        "#pré definido para o parâmetro 'mode' é alterado\n",
        "amizade(\"chuchu\", \"namorados\")"
      ],
      "execution_count": null,
      "outputs": []
    },
    {
      "cell_type": "code",
      "metadata": {
        "id": "MF9r0ETDFJzR"
      },
      "source": [
        "#Caso em que coloco apenas um parâmetro opcional, aqui o valor\n",
        "#pré definido para o parâmetro 'mode'é alterado\n",
        "amizade(\"menino que não fez nada no meu trabalho de mecânica\", \"inimigos\", obs1=\"VOCÊ NEM RESPONDEU MINHAS MENSAGENS NO WPP\")"
      ],
      "execution_count": null,
      "outputs": []
    }
  ]
}