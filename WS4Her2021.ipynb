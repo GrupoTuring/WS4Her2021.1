{
 "cells": [
  {
   "cell_type": "markdown",
   "metadata": {
    "id": "gNqf774JA6IW"
   },
   "source": [
    "# 👩💻 WS4Her2021.1 - Notebook\n",
    "\n",
    "## Tema: Introdução à Programção em Python\n",
    "\n",
    "### Conteúdos:\n",
    "1. Print, input, output\n",
    "2. Variáveis\n",
    "3. Operações (aritméticas, booleanas e lógicas)\n",
    "4. Condicionais\n",
    "5. Listas\n",
    "6. Range\n",
    "7. Loops\n",
    "8. Funções\n",
    "9. Aplicação final: chatbot 'Eliza'\n",
    "\n"
   ]
  },
  {
   "cell_type": "markdown",
   "metadata": {
    "id": "cQu9hpt7gkf3"
   },
   "source": [
    "## Print\n",
    "\n",
    "\"Printar\" algo é dar ao seu código o comando de fazer algo aparecer na tela. Fazemos isso utilizando a função ```print``` do python.\n",
    "\n",
    "Neste primeiro caso vamos utilizar aspas (' ') porque o que queremos printar é um texto (string), e no python é necessário que textos estejam sempre dessa forma."
   ]
  },
  {
   "cell_type": "code",
   "execution_count": null,
   "metadata": {
    "id": "W9XG_6JOPC2M"
   },
   "outputs": [],
   "source": [
    "print('Meu namorado é mó otário')"
   ]
  },
  {
   "cell_type": "code",
   "execution_count": null,
   "metadata": {
    "id": "o8fQsvikhcRM"
   },
   "outputs": [],
   "source": [
    "texto = 'Ele lava minhas calcinhas'\n",
    "\n",
    "print(texto)"
   ]
  },
  {
   "cell_type": "markdown",
   "metadata": {
    "id": "Creis2QlZLOZ"
   },
   "source": [
    "### Exercício!"
   ]
  },
  {
   "cell_type": "code",
   "execution_count": null,
   "metadata": {
    "id": "bg1O-vf2hg52"
   },
   "outputs": [],
   "source": [
    "print('Digite aqui sua própria frase') # não esquece das aspas, ein?"
   ]
  },
  {
   "cell_type": "markdown",
   "metadata": {
    "id": "56GlvKl8hnt5"
   },
   "source": [
    "## Input e Output\n",
    "\n",
    "Inputs são as informações dadas ao computador, por exemplo, ao fornecer um nome para ser printado na tela.\n",
    "\n",
    "Outputs são as informações que seu computador gera, por exemplo, o resultado de uma conta.\n",
    "\n"
   ]
  },
  {
   "cell_type": "code",
   "execution_count": null,
   "metadata": {
    "colab": {
     "base_uri": "https://localhost:8080/"
    },
    "id": "shfPBKy5izwl",
    "outputId": "258456ad-ab0a-42f4-bb59-4611ba5b8078"
   },
   "outputs": [],
   "source": [
    "nome = input('Qual seu nome? ')\n",
    "\n",
    "print(nome)"
   ]
  },
  {
   "cell_type": "code",
   "execution_count": null,
   "metadata": {
    "colab": {
     "base_uri": "https://localhost:8080/"
    },
    "id": "ETXOuISAi9qB",
    "outputId": "d1b8b247-1817-4624-99b4-f6abb93c2955"
   },
   "outputs": [],
   "source": [
    "idade = input('Qual sua idade? ')\n",
    "\n",
    "print('Sua idade é ' + idade)"
   ]
  },
  {
   "cell_type": "code",
   "execution_count": null,
   "metadata": {
    "colab": {
     "base_uri": "https://localhost:8080/"
    },
    "id": "azmu7aYGidvk",
    "outputId": "b624a106-a45e-4406-f2a0-fbcf2eb2c4ed"
   },
   "outputs": [],
   "source": [
    "dia = input ('Que dia você nasceu? ')\n",
    "mês = input ('Que mês você nasceu? ' )\n",
    "ano = input ('Que ano você nasceu? ')\n",
    "print('Você nasceu no dia ' + dia + ' de ' + mês + ' de ' + ano + '. Correto?')"
   ]
  },
  {
   "cell_type": "markdown",
   "metadata": {
    "id": "0-0WPQKNjOdn"
   },
   "source": [
    "### Exercício!\n",
    "\n",
    "Escreva um input que pergunta o nome da mãe e do pai de uma pessoa e depois printa a frase \"Sua mãe chama x e seu pai chama y\" na tela."
   ]
  },
  {
   "cell_type": "code",
   "execution_count": null,
   "metadata": {
    "id": "f2oPwfLqjNEV"
   },
   "outputs": [],
   "source": [
    "# complete\n",
    "mãe = ... \n",
    "pai = ...\n",
    "..."
   ]
  },
  {
   "cell_type": "markdown",
   "metadata": {
    "id": "eK2XBg2H_Q83"
   },
   "source": [
    "## Variáveis e seus tipos\n",
    "\n",
    "Variáveis são um dos recursos mais básicos das linguagens de programação. Utilizadas para armazenar valores em memória, elas nos permitem gravar e ler esses dados com facilidade a partir de um nome definido por nós. \n",
    "\n",
    "Por exemplo, você já atribuiu várias variáveis desde que esse workshop começou, por exemplo as variáveis \"mãe\" e \"pai\" acima!"
   ]
  },
  {
   "cell_type": "code",
   "execution_count": null,
   "metadata": {
    "colab": {
     "base_uri": "https://localhost:8080/"
    },
    "id": "yEzi8mxp_qBQ",
    "outputId": "e7818ae2-ddf0-493d-cc68-1196018f6b58"
   },
   "outputs": [],
   "source": [
    "nome = 'Felipe'\n",
    "idade = 15 \n",
    "altura = 2.90\n",
    "confere_altura = altura == 2.91\n",
    "\n",
    "print(type(nome))\n",
    "print(type(idade))\n",
    "print(type(altura))\n",
    "print(type(confere_idade))"
   ]
  },
  {
   "cell_type": "code",
   "execution_count": null,
   "metadata": {
    "colab": {
     "base_uri": "https://localhost:8080/"
    },
    "id": "gxGkWOML__hW",
    "outputId": "6bf23ebd-71a2-4d40-8681-6cdcb8234bcf"
   },
   "outputs": [],
   "source": [
    "print(confere_altura)"
   ]
  },
  {
   "cell_type": "code",
   "execution_count": null,
   "metadata": {
    "colab": {
     "base_uri": "https://localhost:8080/"
    },
    "id": "B-eyzQ1GArp5",
    "outputId": "5ea53dc1-1db3-4990-929e-177336df94f0"
   },
   "outputs": [],
   "source": [
    "print(altura == 2.90)"
   ]
  },
  {
   "cell_type": "markdown",
   "metadata": {
    "id": "dPEAwAAdB5oi"
   },
   "source": [
    "### Exercício! \n",
    "\n",
    "Vamos falar sobre arquitetura! Atribua valores a quatro variáveis: `ambiente` (O tipo de cômodo), `altura` (a altura do cômodo), `metros` (quantos metros quadrados tem o ambiente) e `afirmação` (alguma afirmação a respeito de qualquer uma das variáveis atribuídas, depois printe os tipos de cada uma."
   ]
  },
  {
   "cell_type": "code",
   "execution_count": null,
   "metadata": {
    "id": "kMZ3Jg3xDNNJ"
   },
   "outputs": [],
   "source": [
    "# atribua os valores às variáveis \n",
    "ambiente = ... \n",
    "altura...\n",
    "...\n",
    "...\n",
    "\n",
    "# printe os tipos\n",
    "print(type(...))\n",
    "...\n",
    "...\n",
    "...\n",
    "..."
   ]
  },
  {
   "cell_type": "markdown",
   "metadata": {
    "id": "4cn4J_6kY_hP"
   },
   "source": [
    "## Operações \n"
   ]
  },
  {
   "cell_type": "markdown",
   "metadata": {
    "id": "7IaNmtNaMVAf"
   },
   "source": [
    "### Aritméticas\n",
    "As operações aritméticas podem ser feitas pelo Python assim como você faria numa calculadora, só precisamos decorar qual o equivalente de cada sinal da operação, já que sabemos que, por exemplo, o sinal de \"=\" no python não significa \"igual\", certo?\n",
    "\n",
    "Os sinais para operações no Python: \n",
    "\n",
    "``` \n",
    "== igual\n",
    "+ adição\n",
    "- subtração\n",
    "* multiplicação\n",
    "/ divisão\n",
    "% resto de uma divisão \n",
    "** exponenciação\n",
    "```\n",
    "\n",
    "Vamos fazer algumas operações:"
   ]
  },
  {
   "cell_type": "code",
   "execution_count": null,
   "metadata": {
    "colab": {
     "base_uri": "https://localhost:8080/"
    },
    "id": "iBRNWg6SWU54",
    "outputId": "9295ed45-56b1-4c02-eb45-76adaee795ef"
   },
   "outputs": [],
   "source": [
    "soma = 1 + 3\n",
    "subtracao = 50 - 25\n",
    "multiplicacao = 10 * 5\n",
    "divisao = 30 / 3\n",
    "expo = 2**4\n",
    "\n",
    "print(soma)\n",
    "print(subtracao)\n",
    "print(multiplicacao)\n",
    "print(divisao)\n",
    "print(expo)"
   ]
  },
  {
   "cell_type": "code",
   "execution_count": null,
   "metadata": {
    "colab": {
     "base_uri": "https://localhost:8080/"
    },
    "id": "lwjnRVm6YCjl",
    "outputId": "a7c565e8-e21b-402f-d47c-8e2c8e1ad27a"
   },
   "outputs": [],
   "source": [
    "# resto da divisão\n",
    "resto = 56 % 3 \n",
    "print(resto)"
   ]
  },
  {
   "cell_type": "markdown",
   "metadata": {
    "id": "jQ7_iPFdYLZc"
   },
   "source": [
    "Também podemos realizar operações com os números recebidos pelas variáveis:"
   ]
  },
  {
   "cell_type": "code",
   "execution_count": null,
   "metadata": {
    "colab": {
     "base_uri": "https://localhost:8080/"
    },
    "id": "LSsa7doHXViv",
    "outputId": "bd5b557e-2688-42da-fe05-efd7f1ab61f7"
   },
   "outputs": [],
   "source": [
    "num1 = 10\n",
    "num2 = 21 \n",
    "\n",
    "num3 = num1 * num2\n",
    "print(num3)"
   ]
  },
  {
   "cell_type": "markdown",
   "metadata": {
    "id": "prLhWk7ua7nm"
   },
   "source": [
    "#### Exercício"
   ]
  },
  {
   "cell_type": "code",
   "execution_count": null,
   "metadata": {
    "id": "1Nowot1Wa0Nj"
   },
   "outputs": [],
   "source": [
    "# Use este espaço para testar alguma operação!\n",
    "... "
   ]
  },
  {
   "cell_type": "markdown",
   "metadata": {
    "id": "8ReLs4sPZR3_"
   },
   "source": [
    "### Booleanas\n",
    "\n",
    "Operações booleanas são formas de realizar comparações, pois quando se compara algo a resposta tende a ser \"Verdadeiro\" ou \"Falso\""
   ]
  },
  {
   "cell_type": "code",
   "execution_count": null,
   "metadata": {
    "colab": {
     "base_uri": "https://localhost:8080/"
    },
    "id": "9kXkeaPBMums",
    "outputId": "34fd6f25-522c-45a9-f13a-0aed526359ff"
   },
   "outputs": [],
   "source": [
    "a = 3\n",
    "b = 4\n",
    "\n",
    "c = a < b   # c recebe o valor da comparação a < b\n",
    "d = a > b   # d recebe o valor da comparação a > b\n",
    "e = a == b  # e recebe o valor da comparação a == b\n",
    "\n",
    "print(\"Valor de c: \", c)\n",
    "print(\"Valor de d: \", d)\n",
    "print(\"Valor de e: \", e)\n"
   ]
  },
  {
   "cell_type": "markdown",
   "metadata": {
    "id": "mzlqvaykbH1b"
   },
   "source": [
    "#### Exercício!"
   ]
  },
  {
   "cell_type": "code",
   "execution_count": null,
   "metadata": {
    "id": "9-Anls5PMvRJ"
   },
   "outputs": [],
   "source": [
    "# Use este espaço para testar alguma operação booleana\n",
    "... "
   ]
  },
  {
   "cell_type": "markdown",
   "metadata": {
    "id": "XZCfHQSGbfPH"
   },
   "source": [
    "### Lógicas\n",
    "\n",
    "O Python nos fornece uma lista de operadores lógicos para que nós possamos de forma mais fácil, verificar várias condições. Por exemplo, se eu quero saber se \n",
    " é maior que quatro ou menor que quatro, podemos utilizar operações lógicas.\n",
    "\n",
    "Operadores:\n",
    "\n",
    "* and = e\n",
    "* or = ou\n",
    "* not = negação\n",
    "* is not = não é\n",
    "* in = está contido\n",
    "* not in = não está contido\n",
    "\n",
    "\n"
   ]
  },
  {
   "cell_type": "markdown",
   "metadata": {
    "id": "VVKp_nR64WKy"
   },
   "source": [
    "#### Operador ```and```\n",
    "\n",
    "Usamos o ```and``` quando queremos verificar se duas afirmações são verdadeiras. Ao usá-lo, todas as condições precisam ser verdadeiras, se não é retornado \"False\"."
   ]
  },
  {
   "cell_type": "code",
   "execution_count": null,
   "metadata": {
    "colab": {
     "base_uri": "https://localhost:8080/"
    },
    "id": "k526Tcn533f6",
    "outputId": "51aa02cf-d52f-47a7-9a43-813cbb3a58a6"
   },
   "outputs": [],
   "source": [
    "# 2 é maior que 4 E 2 é menor que 4 \n",
    "2 > 4 and 2 < 4 "
   ]
  },
  {
   "cell_type": "code",
   "execution_count": null,
   "metadata": {
    "colab": {
     "base_uri": "https://localhost:8080/"
    },
    "id": "OUqHy0MH37M_",
    "outputId": "41bf34b5-b481-4f9a-8fdb-b2e958785322"
   },
   "outputs": [],
   "source": [
    "4 > 2 and 2 < 4 # aqui ambas são verdade, por isso é retornado \"True\""
   ]
  },
  {
   "cell_type": "markdown",
   "metadata": {
    "id": "k0Qu2gur4lIn"
   },
   "source": [
    "#### Operador ```or```\n",
    "\n",
    "Usamos o operador ```or``` quando queremos saber se uma afirmação OU outra é verdadeira. Se a nossa primeira afirmação for verdadeira OU se a segunda for, será retornado \"True\", ou seja, se só uma das condições for verdade o programa retorna \"True\", mesmo que uma delas não seja. Ele só dirá que é falso se ambas forem falsas."
   ]
  },
  {
   "cell_type": "code",
   "execution_count": null,
   "metadata": {
    "colab": {
     "base_uri": "https://localhost:8080/"
    },
    "id": "pFtxNUHY4QUR",
    "outputId": "acc50704-8bff-4368-c4c9-ff65eba52f0a"
   },
   "outputs": [],
   "source": [
    "2 == 5 or 2 < 5"
   ]
  },
  {
   "cell_type": "markdown",
   "metadata": {
    "id": "82a36EdJ53jU"
   },
   "source": [
    "Apenas a segunda afirmação é verdade, portanto nosso programa retornou \"True\"."
   ]
  },
  {
   "cell_type": "code",
   "execution_count": null,
   "metadata": {
    "colab": {
     "base_uri": "https://localhost:8080/"
    },
    "id": "9LyeDENO52LW",
    "outputId": "bcbc7a25-da6c-46b1-b9bb-757c32b2471c"
   },
   "outputs": [],
   "source": [
    "2 >= 4 or 3 == 6"
   ]
  },
  {
   "cell_type": "markdown",
   "metadata": {
    "id": "Zfqkop7r6Daw"
   },
   "source": [
    "Nesse caso ambas as afirmações estão erradas, portanto temos como resposta \"False\"."
   ]
  },
  {
   "cell_type": "markdown",
   "metadata": {
    "id": "XQyUpe07IW41"
   },
   "source": [
    "#### Operador ```not```\n",
    "\n",
    "Esse operador tem a característica de transformar outras afirmações no seu oposto, por exemplo, transforma uma condição verdadeira em não-verdadeira (falsa)."
   ]
  },
  {
   "cell_type": "code",
   "execution_count": null,
   "metadata": {
    "colab": {
     "base_uri": "https://localhost:8080/"
    },
    "id": "jG9oA_tJInn1",
    "outputId": "e5844756-4d2e-4ba8-d29f-3bab04a48f64"
   },
   "outputs": [],
   "source": [
    "not(2 < 4 and 4 > 2 )"
   ]
  },
  {
   "cell_type": "markdown",
   "metadata": {
    "id": "yKj-7uEP7CLx"
   },
   "source": [
    "#### Outros operadores lógicos \n",
    "\n",
    "Cada um funciona de forma diferente, e explicá-los e testá-los um por um demoraria um pouco. Para se aprofundar em todos os operadores e como cada um deles funciona, é só dar uma olhada [neste vídeo](https://https://www.youtube.com/watch?v=czW7I2CCcUM&ab_channel=eXcript). "
   ]
  },
  {
   "cell_type": "markdown",
   "metadata": {
    "id": "ghLtEORN_BPl"
   },
   "source": [
    "#### Exercício!\n",
    "\n",
    "Use o espaço abaixo para testar algum dos operadores lógicos que vimos:"
   ]
  },
  {
   "cell_type": "code",
   "execution_count": null,
   "metadata": {
    "id": "q5pQsz7z_PD3"
   },
   "outputs": [],
   "source": [
    "# testa aqui!\n",
    "..."
   ]
  },
  {
   "cell_type": "markdown",
   "metadata": {},
   "source": [
    "## Condicionais\n",
    "\n",
    "No nosso dia a dia, é comum executarmos comportamentos diferentes para condições diferentes, certo? Vamos examinar a seguinte frase:\n",
    "\n",
    "   - **Se** chover amanhã, leve um guarda chuva, **caso contrário**, leve um óculos de sol\n",
    "\n",
    "De maneira análoga, frequentemente quando formos criar programas, vamos querer que o computador execute um dado comando apenas quando uma certa condição for verdade. Para isso, vamos usar o comando `if` e `else`: "
   ]
  },
  {
   "cell_type": "code",
   "execution_count": null,
   "metadata": {},
   "outputs": [],
   "source": [
    "chuva = True\n",
    "\n",
    "if chuva:\n",
    "    print('Devo levar um guarda chuva!')\n",
    "else:\n",
    "    print('Devo levar um óculos de sol!')"
   ]
  },
  {
   "cell_type": "markdown",
   "metadata": {},
   "source": [
    "Além do `if` e do `else` também podemos aninhar outras condicionais entre esses comandos com o `elif`(abreviação de else if). Não há limites para números de `elif`s que podem ser adicionados. \n",
    "A sintaxe das condicionais vai ser a seguinte: \n",
    "\n",
    "``` python\n",
    "if CONDIÇÃO_1:\n",
    "    COMANDOS_1     # executados se CONDIÇÃO_1 tem valor True\n",
    "\n",
    "elif CONDIÇÃO_2:\n",
    "    COMANDOS_2     # executados se CONDIÇÃO_2 tem valor True\n",
    "\n",
    "else:\n",
    "    COMANDOS_2     # executados se CONDIÇÃO_1 e CONDIÇÃO_2 tem valor False\n",
    "```\n"
   ]
  },
  {
   "cell_type": "markdown",
   "metadata": {},
   "source": [
    "### Exercício 1\n",
    "Escreva um programa que recebe a idade do usuário e, se ele/ela for maior de 18 anos, o computador imprime a mensagem \"Você já pode dirigir!\", caso contrário, o programa deve imprimir \"Você ainda não pode tirar a sua habilitação\". "
   ]
  },
  {
   "cell_type": "code",
   "execution_count": null,
   "metadata": {},
   "outputs": [],
   "source": [
    "idade = ...\n",
    "\n",
    "if ... :\n",
    "    print(...)\n",
    "\n",
    "else:\n",
    "    print(...)"
   ]
  },
  {
   "cell_type": "markdown",
   "metadata": {},
   "source": [
    "### Exercício 2\n",
    "\n",
    "Faça um programa que recebe um número e diz se ele é par ou ímpar"
   ]
  },
  {
   "cell_type": "code",
   "execution_count": null,
   "metadata": {},
   "outputs": [],
   "source": [
    "num = ...\n",
    "\n",
    "if ... :\n",
    "    ... \n",
    "\n",
    "else:\n",
    "    ... \n",
    "    "
   ]
  },
  {
   "cell_type": "markdown",
   "metadata": {},
   "source": [
    "### Exercício 3\n",
    "Faça um programa que realiza o cálculo do IMC de uma pessoa e retorna a categoria em que ela se encontra. O cálculo do IMC é dado pela seguinte fórmula:  \n",
    "    $IMC = peso / altura^2$ \n",
    "    (peso em kg e altura em metros)\n",
    "    \n",
    "Use os seguintes indicadores para retornar a categoria da pessoa:  \n",
    "\n",
    "- IMC < 19.99 : Subpeso \n",
    "- IMC 20 a 24.99 : Normal\n",
    "- IMC 25 a 29.99 : Sobrepeso\n",
    "- IMC 30 a 39.99 : Obeso\n",
    "- IMC > 40 : Obeso mórbido"
   ]
  },
  {
   "cell_type": "code",
   "execution_count": null,
   "metadata": {},
   "outputs": [],
   "source": [
    "peso = ...\n",
    "altura = ...\n",
    "\n",
    "if ...:\n",
    "\n",
    "...\n",
    "\n",
    "else:\n",
    "    ... "
   ]
  },
  {
   "cell_type": "markdown",
   "metadata": {},
   "source": [
    "## Listas\n",
    "Uma lista em Python é uma sequência ou coleção ordenada de valores. Cada valor na lista é identificado por um índice. As listas são similares a strings, que são uma sequência de caracteres, no entanto, diferentemente de strings, os itens de uma lista podem ser de tipos diferentes."
   ]
  },
  {
   "cell_type": "code",
   "execution_count": null,
   "metadata": {},
   "outputs": [],
   "source": [
    "lista = [1, 2, 3, 4, 5]\n",
    "print(lista)\n",
    "print(type(lista))"
   ]
  },
  {
   "cell_type": "code",
   "execution_count": null,
   "metadata": {},
   "outputs": [],
   "source": [
    "lista2 = [1, 'oi', 3.14, True]\n",
    "print(lista2)\n",
    "print(type(lista2))"
   ]
  },
  {
   "cell_type": "markdown",
   "metadata": {},
   "source": [
    "Podemos até mesmo criar listas dentro de listas: "
   ]
  },
  {
   "cell_type": "code",
   "execution_count": null,
   "metadata": {},
   "outputs": [],
   "source": [
    "listas = [[1, 2, 3], [4, 5, 6], [7, 8, 9]]\n",
    "print(listas)\n",
    "print(type(listas))"
   ]
  },
  {
   "cell_type": "markdown",
   "metadata": {},
   "source": [
    "Se quisermos saber o comprimento de uma lista, utilizamos a função `len()`"
   ]
  },
  {
   "cell_type": "code",
   "execution_count": null,
   "metadata": {},
   "outputs": [],
   "source": [
    "print(lista, len(lista))\n",
    "print(lista2, len(lista2))\n",
    "print(listas, len(listas))"
   ]
  },
  {
   "cell_type": "markdown",
   "metadata": {},
   "source": [
    "**Acessando elementos**\n",
    "\n",
    "A sintaxe para acessar um elemento de uma lista é a mesma usada para acessar um caractere de um string. Nós usamos o operador de indexação - `[]` . A expressão dentro dos colchetes especifica o índice. Lembre-se que o índice do primeiro elemento é 0!"
   ]
  },
  {
   "cell_type": "code",
   "execution_count": null,
   "metadata": {},
   "outputs": [],
   "source": [
    "lista[0]"
   ]
  },
  {
   "cell_type": "code",
   "execution_count": null,
   "metadata": {},
   "outputs": [],
   "source": [
    "lista2[1:3]"
   ]
  },
  {
   "cell_type": "code",
   "execution_count": null,
   "metadata": {},
   "outputs": [],
   "source": [
    "listas[-1]"
   ]
  },
  {
   "cell_type": "code",
   "execution_count": null,
   "metadata": {},
   "outputs": [],
   "source": [
    "# Selecione o último elemento da última sublista em 'listas'\n"
   ]
  },
  {
   "cell_type": "markdown",
   "metadata": {},
   "source": [
    "**Pertinência em uma lista**\n",
    "\n",
    "Podemos usar os operadores booleanos `in` e `not in` para verificar se um elemento pertence a uma lista ou não:\n"
   ]
  },
  {
   "cell_type": "code",
   "execution_count": null,
   "metadata": {},
   "outputs": [],
   "source": [
    "compras = ['leite', 'batata', 'manteiga', 'ovos', 'cenoura']"
   ]
  },
  {
   "cell_type": "code",
   "execution_count": null,
   "metadata": {},
   "outputs": [],
   "source": [
    "'banana' in compras"
   ]
  },
  {
   "cell_type": "code",
   "execution_count": null,
   "metadata": {},
   "outputs": [],
   "source": [
    "'manteiga' in compras"
   ]
  },
  {
   "cell_type": "code",
   "execution_count": null,
   "metadata": {},
   "outputs": [],
   "source": [
    "'ovos' not in compras"
   ]
  },
  {
   "cell_type": "markdown",
   "metadata": {},
   "source": [
    "**`.append()`**\n",
    "\n",
    "Podemos facilmente inserir novos itens em uma lista utilizando o método `append`. Esse método vai se mostrar muito útil quando estivermos trabalhando com loops.\n"
   ]
  },
  {
   "cell_type": "code",
   "execution_count": null,
   "metadata": {},
   "outputs": [],
   "source": [
    "estados_sudeste = ['SP', 'RJ', 'MG']"
   ]
  },
  {
   "cell_type": "code",
   "execution_count": null,
   "metadata": {},
   "outputs": [],
   "source": [
    "estados_sudeste.append('ES')"
   ]
  },
  {
   "cell_type": "code",
   "execution_count": null,
   "metadata": {},
   "outputs": [],
   "source": [
    "estados_sudeste"
   ]
  },
  {
   "cell_type": "markdown",
   "metadata": {},
   "source": [
    "### Atenção! Listas são mutáveis! \n",
    "Uma propriedade importante das listas é que elas são mutáveis, ou seja, podemos alterar um item de uma lista acessando-o diretamente como parte do comando de atribuição. Vamos ver isso na prática: "
   ]
  },
  {
   "cell_type": "code",
   "execution_count": null,
   "metadata": {},
   "outputs": [],
   "source": [
    "exemplo = [1, 2, 3, 4, 5, 6, 7, 8, 9, 10]"
   ]
  },
  {
   "cell_type": "code",
   "execution_count": null,
   "metadata": {},
   "outputs": [],
   "source": [
    "exemplo[2]"
   ]
  },
  {
   "cell_type": "code",
   "execution_count": null,
   "metadata": {},
   "outputs": [],
   "source": [
    "exemplo[2] = 3678964"
   ]
  },
  {
   "cell_type": "code",
   "execution_count": null,
   "metadata": {},
   "outputs": [],
   "source": [
    "exemplo"
   ]
  },
  {
   "cell_type": "markdown",
   "metadata": {},
   "source": [
    "Se quisermos \"preservar\" a lista original podemos criar um *clone* da lista e então alterar apenas essa versão: "
   ]
  },
  {
   "cell_type": "code",
   "execution_count": null,
   "metadata": {},
   "outputs": [],
   "source": [
    "exemplo = [1, 2, 3, 4, 5, 6, 7, 8, 9, 10]"
   ]
  },
  {
   "cell_type": "code",
   "execution_count": null,
   "metadata": {},
   "outputs": [],
   "source": [
    "clone = exemplo[:]"
   ]
  },
  {
   "cell_type": "code",
   "execution_count": null,
   "metadata": {},
   "outputs": [],
   "source": [
    "clone[2] = 3678964"
   ]
  },
  {
   "cell_type": "code",
   "execution_count": null,
   "metadata": {},
   "outputs": [],
   "source": [
    "print(exemplo)\n",
    "print(clone)"
   ]
  },
  {
   "cell_type": "markdown",
   "metadata": {},
   "source": [
    "### Exercício 1 \n",
    "Faça um programa que recebe um item e verifica se ele já foi colocado na lista de compras ou não "
   ]
  },
  {
   "cell_type": "code",
   "execution_count": null,
   "metadata": {},
   "outputs": [],
   "source": [
    "novo_item = ...\n",
    "lista_de_compras = ['ovos', 'manteiga', 'leite', 'laranja']\n",
    "\n",
    "if ...:\n",
    "    ...\n",
    "else:\n",
    "    ..."
   ]
  },
  {
   "cell_type": "markdown",
   "metadata": {},
   "source": [
    "### Exercício 2 \n",
    "Altere o programa anterior para inserir o novo item caso ele não esteja na lista ainda"
   ]
  },
  {
   "cell_type": "code",
   "execution_count": null,
   "metadata": {},
   "outputs": [],
   "source": []
  },
  {
   "cell_type": "markdown",
   "metadata": {},
   "source": [
    "## Range"
   ]
  },
  {
   "cell_type": "markdown",
   "metadata": {},
   "source": [
    "O range não é nada mais do que uma forma rápida de criar uma sequência de números dentro de um determinado intervalo. Essa função aceita até 3 argumentos e, a partir deles, podemos decidir em que número a série começará, em qual ela terminará e qual será a diferença entre os números da série."
   ]
  },
  {
   "cell_type": "code",
   "execution_count": null,
   "metadata": {},
   "outputs": [],
   "source": [
    "exemplo1 = list(range(1,10,2))\n",
    "print(exemplo1)"
   ]
  },
  {
   "cell_type": "markdown",
   "metadata": {},
   "source": [
    "Na ausência dos argumentos de número inicial e intervalo entre os números, por padrão, o programa considera que o número inicial será o 0 e irá aumentando de 1 em 1."
   ]
  },
  {
   "cell_type": "code",
   "execution_count": null,
   "metadata": {},
   "outputs": [],
   "source": [
    "exemplo2 = list(range(5))\n",
    "print(exemplo2)"
   ]
  },
  {
   "cell_type": "markdown",
   "metadata": {},
   "source": [
    "Atenção: nos exemplos coloquei list() para facilitar a visualização do que ocorre no range. Contudo, a função range() não é uma variável do tipo lista"
   ]
  },
  {
   "cell_type": "code",
   "execution_count": null,
   "metadata": {},
   "outputs": [],
   "source": [
    "print(range(5))\n",
    "print(type(range(5)))"
   ]
  },
  {
   "cell_type": "markdown",
   "metadata": {},
   "source": [
    "#### Exercício"
   ]
  },
  {
   "cell_type": "markdown",
   "metadata": {},
   "source": [
    "Usando a função range, crie e dê print() em uma lista com uma sequência de números que aumentam de 2 em 2, que começa com o número 0 e termina com o número 16."
   ]
  },
  {
   "cell_type": "code",
   "execution_count": null,
   "metadata": {},
   "outputs": [],
   "source": [
    "exercicio = list(range(...))\n",
    "print(...)"
   ]
  },
  {
   "cell_type": "markdown",
   "metadata": {},
   "source": [
    "## Loops"
   ]
  },
  {
   "cell_type": "markdown",
   "metadata": {},
   "source": [
    "Os loops são utilizados para quando queremos que uma série de comandos de códigos seja feita repetidamente até uma certa condição ou número de repetições ser satisfeita"
   ]
  },
  {
   "cell_type": "markdown",
   "metadata": {},
   "source": [
    "### While Loops\n",
    "Os loops while são usados para repetir os comandos até uma determinada condição booleana ser satisfeita. Vale destacar que se essa condição não é inicialmente satisfeita, o loop while não roda."
   ]
  },
  {
   "cell_type": "code",
   "execution_count": null,
   "metadata": {},
   "outputs": [],
   "source": [
    "#Exemplo 1\n",
    "n = 1\n",
    "while n <= 5:\n",
    "    print(n)\n",
    "    n += 1 # isso é o mesmo que escrever n = n + 1"
   ]
  },
  {
   "cell_type": "code",
   "execution_count": null,
   "metadata": {},
   "outputs": [],
   "source": [
    "#Exemplo 2\n",
    "n = 6\n",
    "while n <= 5:\n",
    "    print(n)\n",
    "    n += 1"
   ]
  },
  {
   "cell_type": "markdown",
   "metadata": {},
   "source": [
    "Agora vamos testar uma aplicação um pouco mais robusta. Utilizando o loop while, calcularemos o fatorial de um número. Lembrando que o fatorial é a multiplicação do número pelo número imediatamente anterior e assim sucessivamente até chegar no número 1. Ex.: 3! = 3x2x1"
   ]
  },
  {
   "cell_type": "code",
   "execution_count": null,
   "metadata": {},
   "outputs": [],
   "source": [
    "#Fatorial\n",
    "num = int(input('Escolha um número! '))\n",
    "multiplicador = num\n",
    "fatorial = 1\n",
    "while multiplicador > 1: \n",
    "    fatorial *= multiplicador\n",
    "    multiplicador -= 1\n",
    "print(\"O fatorial de %d é %d\"%(num,fatorial))"
   ]
  },
  {
   "cell_type": "markdown",
   "metadata": {},
   "source": [
    "####  Exercício \n",
    "Vamos supor que você queira dar uma sequência de números, que terminará em 0, e obter como output a soma desses números. Faça um código que te permita fazê-lo utilizando um while loop."
   ]
  },
  {
   "cell_type": "code",
   "execution_count": null,
   "metadata": {},
   "outputs": [],
   "source": [
    "...\n",
    "while ....:\n",
    "    num = ...\n",
    "    print(...)"
   ]
  },
  {
   "cell_type": "markdown",
   "metadata": {},
   "source": [
    "### For loops\n",
    "Os loops com \"for\" iteram dentro de uma dada sequência. Normalmente, é usado quando queremos que uma série de comandos sejam repetidos por uma quantidade de vezes específica. "
   ]
  },
  {
   "cell_type": "code",
   "execution_count": null,
   "metadata": {},
   "outputs": [],
   "source": [
    "#Exemplo 1 - Queremos criar uma lista com os nomes de um determinado número de alunos\n",
    "num = int(input(\"Insira o número de alunos: \"))\n",
    "lista = []\n",
    "for i in range(num):\n",
    "    nome = input(\"Insira o nome do aluno: \")\n",
    "    lista.append(nome)\n",
    "print(lista)"
   ]
  },
  {
   "cell_type": "markdown",
   "metadata": {},
   "source": [
    "Outra aplicação é para iterar em uma lista. "
   ]
  },
  {
   "cell_type": "code",
   "execution_count": null,
   "metadata": {},
   "outputs": [],
   "source": [
    "# Vamos fazer um código que devolve os números pares de uma lista de números dados\n",
    "numeros = [4,0,8,17,58,29]\n",
    "for num in numeros:\n",
    "    if num % 2 == 0:\n",
    "        print(num)"
   ]
  },
  {
   "cell_type": "markdown",
   "metadata": {},
   "source": [
    "#### Exercício\n",
    "Faça um código que dê como output quantos números entre 1 e 5.000.000 são divisíveis por 2, 37 e 49"
   ]
  },
  {
   "cell_type": "code",
   "execution_count": null,
   "metadata": {},
   "outputs": [],
   "source": [
    "for ...\n",
    "...\n",
    "print(...)"
   ]
  },
  {
   "cell_type": "markdown",
   "metadata": {},
   "source": [
    "### Elementos Break e Continue\n",
    "Tem algumas funções que podem nos ajudar a controlar o fluxo dos nossos loops. O \"continue\" faz com que pulemos o bloco de comando e voltemos para o comando do loop. Já o \"break\" é usado para quebrar o loop e, portanto, sair dele."
   ]
  },
  {
   "cell_type": "code",
   "execution_count": null,
   "metadata": {},
   "outputs": [],
   "source": [
    "#Exemplo 1: um código que printa os números impares entre 0 e 10.\n",
    "for i in range(10):\n",
    "    if i % 2 == 0:\n",
    "        continue #se o número for par, o código voltará para o \"for\" e o número não será printado\n",
    "    print(i)"
   ]
  },
  {
   "cell_type": "code",
   "execution_count": null,
   "metadata": {},
   "outputs": [],
   "source": [
    "#Exemplo 2: printar todos os números entre 1 e 10 que são menores que 5\n",
    "for i in range(10):\n",
    "    if i == 5:\n",
    "        break\n",
    "    print(i)"
   ]
  },
  {
   "cell_type": "markdown",
   "metadata": {},
   "source": [
    "#### Exercício\n",
    "Faça um código que crie e printe uma lista com todos os números pares da lista dada (numbers) que aparecem na lista antes do número 237"
   ]
  },
  {
   "cell_type": "code",
   "execution_count": null,
   "metadata": {},
   "outputs": [],
   "source": [
    "numbers = [\n",
    "    951, 402, 984, 651, 360, 69, 408, 319, 601, 485, 980, 507, 725, 547, 544,\n",
    "    615, 83, 165, 141, 501, 263, 617, 865, 575, 219, 390, 984, 592, 236, 105, 942, 941,\n",
    "    386, 462, 47, 418, 907, 344, 236, 375, 823, 566, 597, 978, 328, 615, 953, 345,\n",
    "    399, 162, 758, 219, 918, 237, 412, 566, 826, 248, 866, 950, 626, 949, 687, 217,\n",
    "    815, 67, 104, 58, 512, 24, 892, 894, 767, 553, 81, 379, 843, 831, 445, 742, 717,\n",
    "    958, 609, 842, 451, 688, 753, 854, 685, 93, 857, 440, 380, 126, 721, 328, 753, 470,\n",
    "    743, 527\n",
    "]\n",
    "...\n",
    "for ...\n",
    "...\n",
    "print(...)"
   ]
  },
  {
   "cell_type": "markdown",
   "metadata": {},
   "source": [
    "### Loop dentro de loop\n",
    "Há casos em que podemos precisar colocar vários loops encadeados. "
   ]
  },
  {
   "cell_type": "code",
   "execution_count": null,
   "metadata": {},
   "outputs": [],
   "source": [
    "#Exemplo 1: vamos criar um código que recebe uma lista com listas e retorna uma lista com os \n",
    "#números presentes em todas essas listas sem repetição\n",
    "lista = [[1,2,3,4], [2,5,7],[15,2,20],[15,10,62]]\n",
    "lista_sep = []\n",
    "for i in lista:\n",
    "    for j in i:\n",
    "        if j not in lista_sep:\n",
    "            lista_sep.append(j)\n",
    "print(lista_sep)"
   ]
  },
  {
   "cell_type": "markdown",
   "metadata": {},
   "source": [
    "#### Exercício\n",
    "Faça um código que retorne uma lista com os números primos de 1 a 50."
   ]
  },
  {
   "cell_type": "code",
   "execution_count": null,
   "metadata": {},
   "outputs": [],
   "source": [
    "primos = []\n",
    "for ...\n",
    "    ...\n",
    "    for ...\n",
    "        if ...:\n",
    "            ...\n",
    "    if ...:\n",
    "        ...\n",
    "print(primos)"
   ]
  },
  {
   "cell_type": "markdown",
   "metadata": {},
   "source": [
    "### Cuidado!!\n",
    "Cuidado para não criar loops infinitos. Eles ocorrem principalmente nos for loops, quando a condição para a quebra do looping nunca ocorre, fazendo o código rodar infinitamente."
   ]
  },
  {
   "cell_type": "code",
   "execution_count": null,
   "metadata": {},
   "outputs": [],
   "source": [
    "#Exemplo de loop infinito\n",
    "i = 0\n",
    "while i < 5:\n",
    "    if i % 2 != 0:\n",
    "        print(\"%d é ímpar\"%(i))"
   ]
  },
  {
   "cell_type": "markdown",
   "metadata": {},
   "source": [
    "#### Saindo um pouco dos exemplos numéricos..."
   ]
  },
  {
   "cell_type": "code",
   "execution_count": null,
   "metadata": {},
   "outputs": [],
   "source": [
    "consoantes = [\"q\",'w','r','t','y','p','s','d','f','g','h','j','k','l','z','x','c','v','b','n','m']\n",
    "vogais = ['e','i','u','o','a']\n",
    "nome = input(\"Insira seu nome: \")\n",
    "num_vog = 0\n",
    "num_cons = 0\n",
    "letras = []\n",
    "for letra in nome.lower():\n",
    "    if letra in letras:\n",
    "        continue\n",
    "    letras.append(letra)\n",
    "for letra in letras:\n",
    "    if letra in vogais:\n",
    "        num_vog +=1\n",
    "    if letra in consoantes:\n",
    "        num_cons +=1\n",
    "print(\"Consoantes: %d e vogais: %d\"%(num_cons, num_vog))"
   ]
  }
 ],
 "metadata": {
  "colab": {
   "name": "WS4Her2021.ipynb",
   "provenance": []
  },
  "kernelspec": {
   "display_name": "Python 3",
   "language": "python",
   "name": "python3"
  },
  "language_info": {
   "codemirror_mode": {
    "name": "ipython",
    "version": 3
   },
   "file_extension": ".py",
   "mimetype": "text/x-python",
   "name": "python",
   "nbconvert_exporter": "python",
   "pygments_lexer": "ipython3",
   "version": "3.8.2"
  }
 },
 "nbformat": 4,
 "nbformat_minor": 4
}
