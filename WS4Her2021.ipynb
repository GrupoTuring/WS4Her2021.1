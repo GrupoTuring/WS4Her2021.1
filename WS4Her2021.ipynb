{
 "cells": [
  {
   "cell_type": "markdown",
   "metadata": {
    "id": "gNqf774JA6IW"
   },
   "source": [
    "# 👩💻 WS4Her2021.1 - Notebook\n",
    "\n",
    "## Tema: Introdução à Programação em Python\n",
    "\n",
    "### Conteúdos:\n",
    "1. Print, input, output\n",
    "2. Variáveis\n",
    "3. Operações (aritméticas, booleanas e lógicas)\n",
    "4. Condicionais\n",
    "5. Listas\n",
    "6. Range\n",
    "7. Loops\n",
    "8. Funções\n",
    "9. Aplicação final: chatbot 'Eliza'\n",
    "\n"
   ]
  },
  {
   "cell_type": "markdown",
   "metadata": {
    "id": "cQu9hpt7gkf3"
   },
   "source": [
    "## Print\n",
    "\n",
    "\"Printar\" algo é dar ao seu código o comando de fazer algo aparecer na tela. Fazemos isso utilizando a função ```print``` do python.\n",
    "\n",
    "Neste primeiro caso vamos utilizar aspas (' ') porque o que queremos printar é um texto (string), e no python é necessário que textos estejam sempre dessa forma."
   ]
  },
  {
   "cell_type": "code",
   "execution_count": null,
   "metadata": {
    "id": "W9XG_6JOPC2M"
   },
   "outputs": [],
   "source": [
    "print('Meu namorado é mó otário')"
   ]
  },
  {
   "cell_type": "code",
   "execution_count": null,
   "metadata": {
    "id": "o8fQsvikhcRM"
   },
   "outputs": [],
   "source": [
    "texto = 'Ele lava minhas calcinhas'\n",
    "\n",
    "print(texto)"
   ]
  },
  {
   "cell_type": "markdown",
   "metadata": {
    "id": "Creis2QlZLOZ"
   },
   "source": [
    "### Exercício!"
   ]
  },
  {
   "cell_type": "code",
   "execution_count": null,
   "metadata": {
    "id": "bg1O-vf2hg52"
   },
   "outputs": [],
   "source": [
    "print('Digite aqui sua própria frase') # não esquece das aspas, ein?"
   ]
  },
  {
   "cell_type": "markdown",
   "metadata": {
    "id": "56GlvKl8hnt5"
   },
   "source": [
    "## Input e Output\n",
    "\n",
    "Inputs são as informações dadas ao computador, por exemplo, ao fornecer um nome para ser printado na tela.\n",
    "\n",
    "Outputs são as informações que seu computador gera, por exemplo, o resultado de uma conta.\n",
    "\n"
   ]
  },
  {
   "cell_type": "code",
   "execution_count": null,
   "metadata": {
    "id": "shfPBKy5izwl"
   },
   "outputs": [],
   "source": [
    "nome = input('Qual seu nome? ')\n",
    "\n",
    "print(nome)"
   ]
  },
  {
   "cell_type": "code",
   "execution_count": null,
   "metadata": {
    "id": "ETXOuISAi9qB"
   },
   "outputs": [],
   "source": [
    "idade = input('Qual sua idade? ')\n",
    "\n",
    "print('Sua idade é ' + idade)"
   ]
  },
  {
   "cell_type": "code",
   "execution_count": null,
   "metadata": {
    "id": "azmu7aYGidvk"
   },
   "outputs": [],
   "source": [
    "dia = input ('Que dia você nasceu? ')\n",
    "mês = input ('Que mês você nasceu? ' )\n",
    "ano = input ('Que ano você nasceu? ')\n",
    "print('Você nasceu no dia ' + dia + ' de ' + mês + ' de ' + ano + '. Correto?')"
   ]
  },
  {
   "cell_type": "markdown",
   "metadata": {
    "id": "0-0WPQKNjOdn"
   },
   "source": [
    "### Exercício!\n",
    "\n",
    "Escreva um input que pergunta o nome da mãe e do pai de uma pessoa e depois printa a frase \"Sua mãe chama x e seu pai chama y\" na tela."
   ]
  },
  {
   "cell_type": "code",
   "execution_count": null,
   "metadata": {
    "id": "f2oPwfLqjNEV"
   },
   "outputs": [],
   "source": [
    "# complete\n",
    "mãe = ... \n",
    "pai = ...\n",
    "..."
   ]
  },
  {
   "cell_type": "markdown",
   "metadata": {
    "id": "eK2XBg2H_Q83"
   },
   "source": [
    "## Variáveis e seus tipos\n",
    "\n",
    "Variáveis são um dos recursos mais básicos das linguagens de programação. Utilizadas para armazenar valores em memória, elas nos permitem gravar e ler esses dados com facilidade a partir de um nome definido por nós. \n",
    "\n",
    "Por exemplo, você já atribuiu várias variáveis desde que esse workshop começou, por exemplo as variáveis \"mãe\" e \"pai\" acima!"
   ]
  },
  {
   "cell_type": "code",
   "execution_count": null,
   "metadata": {
    "id": "yEzi8mxp_qBQ"
   },
   "outputs": [],
   "source": [
    "nome = 'Felipe'\n",
    "idade = 15 \n",
    "altura = 2.90\n",
    "confere_altura = altura == 2.91\n",
    "\n",
    "print(type(nome))\n",
    "print(type(idade))\n",
    "print(type(altura))\n",
    "print(type(confere_idade))"
   ]
  },
  {
   "cell_type": "code",
   "execution_count": null,
   "metadata": {
    "id": "gxGkWOML__hW"
   },
   "outputs": [],
   "source": [
    "print(confere_altura)"
   ]
  },
  {
   "cell_type": "code",
   "execution_count": null,
   "metadata": {
    "id": "B-eyzQ1GArp5"
   },
   "outputs": [],
   "source": [
    "print(altura == 2.90)"
   ]
  },
  {
   "cell_type": "markdown",
   "metadata": {
    "id": "dPEAwAAdB5oi"
   },
   "source": [
    "### Exercício! \n",
    "\n",
    "Vamos falar sobre arquitetura! Atribua valores a quatro variáveis: `ambiente` (O tipo de cômodo), `altura` (a altura do cômodo), `metros` (quantos metros quadrados tem o ambiente) e `afirmação` (alguma afirmação a respeito de qualquer uma das variáveis atribuídas, depois printe os tipos de cada uma."
   ]
  },
  {
   "cell_type": "code",
   "execution_count": null,
   "metadata": {
    "id": "kMZ3Jg3xDNNJ"
   },
   "outputs": [],
   "source": [
    "# atribua os valores às variáveis \n",
    "ambiente = ... \n",
    "altura...\n",
    "...\n",
    "...\n",
    "\n",
    "# printe os tipos\n",
    "print(type(...))\n",
    "...\n",
    "...\n",
    "...\n",
    "..."
   ]
  },
  {
   "cell_type": "markdown",
   "metadata": {
    "id": "4cn4J_6kY_hP"
   },
   "source": [
    "## Operações \n"
   ]
  },
  {
   "cell_type": "markdown",
   "metadata": {
    "id": "7IaNmtNaMVAf"
   },
   "source": [
    "### Aritméticas\n",
    "As operações aritméticas podem ser feitas pelo Python assim como você faria numa calculadora, só precisamos decorar qual o equivalente de cada sinal da operação, já que sabemos que, por exemplo, o sinal de \"=\" no python não significa \"igual\", certo?\n",
    "\n",
    "Os sinais para operações no Python: \n",
    "\n",
    "``` \n",
    "== igual\n",
    "+ adição\n",
    "- subtração\n",
    "* multiplicação\n",
    "/ divisão\n",
    "% resto de uma divisão \n",
    "** exponenciação\n",
    "```\n",
    "\n",
    "Vamos fazer algumas operações:"
   ]
  },
  {
   "cell_type": "code",
   "execution_count": null,
   "metadata": {
    "id": "iBRNWg6SWU54"
   },
   "outputs": [],
   "source": [
    "soma = 1 + 3\n",
    "subtracao = 50 - 25\n",
    "multiplicacao = 10 * 5\n",
    "divisao = 30 / 3\n",
    "expo = 2**4\n",
    "\n",
    "print(soma)\n",
    "print(subtracao)\n",
    "print(multiplicacao)\n",
    "print(divisao)\n",
    "print(expo)"
   ]
  },
  {
   "cell_type": "code",
   "execution_count": null,
   "metadata": {
    "id": "lwjnRVm6YCjl"
   },
   "outputs": [],
   "source": [
    "# resto da divisão\n",
    "resto = 56 % 3 \n",
    "print(resto)"
   ]
  },
  {
   "cell_type": "markdown",
   "metadata": {
    "id": "jQ7_iPFdYLZc"
   },
   "source": [
    "Também podemos realizar operações com os números recebidos pelas variáveis:"
   ]
  },
  {
   "cell_type": "code",
   "execution_count": null,
   "metadata": {
    "id": "LSsa7doHXViv"
   },
   "outputs": [],
   "source": [
    "num1 = 10\n",
    "num2 = 21 \n",
    "\n",
    "num3 = num1 * num2\n",
    "print(num3)"
   ]
  },
  {
   "cell_type": "markdown",
   "metadata": {
    "id": "prLhWk7ua7nm"
   },
   "source": [
    "#### Exercício"
   ]
  },
  {
   "cell_type": "code",
   "execution_count": null,
   "metadata": {
    "id": "1Nowot1Wa0Nj"
   },
   "outputs": [],
   "source": [
    "# Use este espaço para testar alguma operação!\n",
    "... "
   ]
  },
  {
   "cell_type": "markdown",
   "metadata": {
    "id": "8ReLs4sPZR3_"
   },
   "source": [
    "### Booleanas\n",
    "\n",
    "Operações booleanas são formas de realizar comparações, pois quando se compara algo a resposta tende a ser \"Verdadeiro\" ou \"Falso\".\n",
    "\n",
    "Para mais exemplos veja [este vídeo](https://www.youtube.com/watch?v=JN1jHtlRqLA&ab_channel=eXcript)."
   ]
  },
  {
   "cell_type": "code",
   "execution_count": null,
   "metadata": {
    "id": "9kXkeaPBMums"
   },
   "outputs": [],
   "source": [
    "a = 3\n",
    "b = 4\n",
    "\n",
    "c = a < b   # c recebe o valor da comparação a < b\n",
    "d = a > b   # d recebe o valor da comparação a > b\n",
    "e = a == b  # e recebe o valor da comparação a == b\n",
    "\n",
    "print(\"Valor de c: \", c)\n",
    "print(\"Valor de d: \", d)\n",
    "print(\"Valor de e: \", e)\n"
   ]
  },
  {
   "cell_type": "markdown",
   "metadata": {
    "id": "mzlqvaykbH1b"
   },
   "source": [
    "#### Exercício!"
   ]
  },
  {
   "cell_type": "code",
   "execution_count": null,
   "metadata": {
    "id": "9-Anls5PMvRJ"
   },
   "outputs": [],
   "source": [
    "# Use este espaço para testar alguma operação booleana\n",
    "... "
   ]
  },
  {
   "cell_type": "markdown",
   "metadata": {
    "id": "XZCfHQSGbfPH"
   },
   "source": [
    "### Lógicas\n",
    "\n",
    "O Python nos fornece uma lista de operadores lógicos para que nós possamos de forma mais fácil, verificar várias condições. Por exemplo, se eu quero saber se \n",
    " é maior que quatro ou menor que quatro, podemos utilizar operações lógicas.\n",
    "\n",
    "Operadores:\n",
    "\n",
    "* and = e\n",
    "* or = ou\n",
    "* not = negação\n",
    "* is not = não é\n",
    "* in = está contido\n",
    "* not in = não está contido\n",
    "\n",
    "\n"
   ]
  },
  {
   "cell_type": "markdown",
   "metadata": {
    "id": "XQyUpe07IW41"
   },
   "source": [
    "#### Operador ```in```\n",
    "\n",
    "Esse operador serve para verificarmos se determinado valor está contido dentro de um certo conjunto de valores. \n",
    "\n",
    "Por exemplo, dado um conjunto de números de 1 a 100, eu quero saber se o valor 102 está no conjunto. Nesse caso eu receberia um \"False\", porque o conjunto vai até 100, apenas."
   ]
  },
  {
   "cell_type": "code",
   "execution_count": null,
   "metadata": {
    "colab": {
     "base_uri": "https://localhost:8080/"
    },
    "id": "jG9oA_tJInn1",
    "outputId": "8533efed-6e01-430b-a132-3c27149c06d6"
   },
   "outputs": [
    {
     "name": "stdout",
     "output_type": "stream",
     "text": [
      "False\n"
     ]
    }
   ],
   "source": [
    "conjunto = [1,2,3,4,5]\n",
    "\n",
    "print(6 in conjunto)"
   ]
  },
  {
   "cell_type": "markdown",
   "metadata": {
    "id": "CUtfBDYeIuyU"
   },
   "source": [
    "#### Operador ```not in```\n",
    "\n",
    "Esse operador serve para verificarmos se determinado valor NÃO está contido dentro de um certo conjunto de valores. \n",
    "\n",
    "Pensando no mesmo exemplo anterior, onde foi dado um conjunto de números de 1 a 100, se eu quero saber se o valor 102 está no conjunto, dessa vez eu receberia um \"True\", porque 102 realmente não estará no conjunto."
   ]
  },
  {
   "cell_type": "code",
   "execution_count": null,
   "metadata": {
    "colab": {
     "base_uri": "https://localhost:8080/"
    },
    "id": "Y-x2wAq0JCQ9",
    "outputId": "56f60430-ac9a-4b81-c953-99508767bf48"
   },
   "outputs": [
    {
     "name": "stdout",
     "output_type": "stream",
     "text": [
      "False\n"
     ]
    }
   ],
   "source": [
    "conjunto2 = [10,20,30,40,50]\n",
    "\n",
    "print(5 not in conjunto)"
   ]
  },
  {
   "cell_type": "markdown",
   "metadata": {
    "id": "yKj-7uEP7CLx"
   },
   "source": [
    "#### Outros operadores lógicos \n",
    "\n",
    "Cada um funciona de forma diferente, e explicá-los e testá-los um por um demoraria um pouco. Para se aprofundar em todos os operadores e como cada um deles funciona, é só dar uma olhada [neste vídeo](https://www.youtube.com/watch?v=czW7I2CCcUM&ab_channel=eXcript). "
   ]
  },
  {
   "cell_type": "markdown",
   "metadata": {
    "id": "8sGlRaB6FJyu"
   },
   "source": [
    "## Condicionais\n",
    "\n",
    "No nosso dia a dia, é comum executarmos comportamentos diferentes para condições diferentes, certo? Vamos examinar a seguinte frase:\n",
    "\n",
    "   - **Se** chover amanhã, leve um guarda chuva, **caso contrário**, leve um óculos de sol\n",
    "\n",
    "De maneira análoga, frequentemente quando formos criar programas, vamos querer que o computador execute um dado comando apenas quando uma certa condição for verdade. Para isso, vamos usar o comando `if` e `else`: "
   ]
  },
  {
   "cell_type": "code",
   "execution_count": null,
   "metadata": {
    "id": "vVj97GWkFJyu"
   },
   "outputs": [],
   "source": [
    "chuva = True\n",
    "\n",
    "if chuva:\n",
    "    print('Devo levar um guarda chuva!')\n",
    "else:\n",
    "    print('Devo levar um óculos de sol!')"
   ]
  },
  {
   "cell_type": "markdown",
   "metadata": {
    "id": "e3m5VRQJFJyu"
   },
   "source": [
    "Além do `if` e do `else` também podemos aninhar outras condicionais entre esses comandos com o `elif`(abreviação de else if). Não há limites para números de `elif`s que podem ser adicionados. \n",
    "A sintaxe das condicionais vai ser a seguinte: \n",
    "\n",
    "``` python\n",
    "if CONDIÇÃO_1:\n",
    "    COMANDOS_1     # executados se CONDIÇÃO_1 tem valor True\n",
    "\n",
    "elif CONDIÇÃO_2:\n",
    "    COMANDOS_2     # executados se CONDIÇÃO_2 tem valor True\n",
    "\n",
    "else:\n",
    "    COMANDOS_2     # executados se CONDIÇÃO_1 e CONDIÇÃO_2 tem valor False\n",
    "```\n"
   ]
  },
  {
   "cell_type": "markdown",
   "metadata": {
    "id": "P3WxE8x9FJyv"
   },
   "source": [
    "### Exercício 1\n",
    "Escreva um programa que recebe a idade do usuário e, se ele/ela for maior de 18 anos, o computador imprime a mensagem \"Você já pode dirigir!\", caso contrário, o programa deve imprimir \"Você ainda não pode tirar a sua habilitação\". "
   ]
  },
  {
   "cell_type": "code",
   "execution_count": null,
   "metadata": {
    "id": "32XJbeu3FJyv"
   },
   "outputs": [],
   "source": [
    "idade = ...\n",
    "\n",
    "if ... :\n",
    "    print(...)\n",
    "\n",
    "else:\n",
    "    print(...)"
   ]
  },
  {
   "cell_type": "markdown",
   "metadata": {
    "id": "xK82-B6wFJyv"
   },
   "source": [
    "### Exercício 2\n",
    "\n",
    "Faça um programa que recebe um número e diz se ele é par ou ímpar"
   ]
  },
  {
   "cell_type": "code",
   "execution_count": null,
   "metadata": {
    "id": "GLlYjPhFFJyv"
   },
   "outputs": [],
   "source": [
    "num = ...\n",
    "\n",
    "if ... :\n",
    "    ... \n",
    "\n",
    "else:\n",
    "    ... \n",
    "    "
   ]
  },
  {
   "cell_type": "markdown",
   "metadata": {
    "id": "GvSdmjmtFJyw"
   },
   "source": [
    "### Exercício 3\n",
    "Faça um programa que realiza o cálculo do IMC de uma pessoa e retorna a categoria em que ela se encontra. O cálculo do IMC é dado pela seguinte fórmula:  \n",
    "    $IMC = peso / altura^2$ \n",
    "    (peso em kg e altura em metros)\n",
    "    \n",
    "Use os seguintes indicadores para retornar a categoria da pessoa:  \n",
    "\n",
    "- IMC < 19.99 : Subpeso \n",
    "- IMC 20 a 24.99 : Normal\n",
    "- IMC 25 a 29.99 : Sobrepeso\n",
    "- IMC 30 a 39.99 : Obeso\n",
    "- IMC > 40 : Obeso mórbido"
   ]
  },
  {
   "cell_type": "code",
   "execution_count": null,
   "metadata": {
    "id": "YsbevjQGFJyw"
   },
   "outputs": [],
   "source": [
    "peso = ...\n",
    "altura = ...\n",
    "\n",
    "if ...:\n",
    "\n",
    "...\n",
    "\n",
    "else:\n",
    "    ... "
   ]
  },
  {
   "cell_type": "markdown",
   "metadata": {
    "id": "hfxOOyp8FJyw"
   },
   "source": [
    "## Listas\n",
    "Uma lista em Python é uma sequência ou coleção ordenada de valores. Cada valor na lista é identificado por um índice. As listas são similares a strings, que são uma sequência de caracteres, no entanto, diferentemente de strings, os itens de uma lista podem ser de tipos diferentes."
   ]
  },
  {
   "cell_type": "code",
   "execution_count": null,
   "metadata": {
    "id": "UOCtIEBiFJyx"
   },
   "outputs": [],
   "source": [
    "lista = [1, 2, 3, 4, 5]\n",
    "print(lista)\n",
    "print(type(lista))"
   ]
  },
  {
   "cell_type": "code",
   "execution_count": null,
   "metadata": {
    "id": "3loCjn0UFJyx"
   },
   "outputs": [],
   "source": [
    "lista2 = [1, 'oi', 3.14, True]\n",
    "print(lista2)\n",
    "print(type(lista2))"
   ]
  },
  {
   "cell_type": "markdown",
   "metadata": {
    "id": "Kl47hz5sFJyx"
   },
   "source": [
    "Podemos até mesmo criar listas dentro de listas: "
   ]
  },
  {
   "cell_type": "code",
   "execution_count": null,
   "metadata": {
    "id": "dVNx6IL7FJyx"
   },
   "outputs": [],
   "source": [
    "listas = [[1, 2, 3], [4, 5, 6], [7, 8, 9]]\n",
    "print(listas)\n",
    "print(type(listas))"
   ]
  },
  {
   "cell_type": "markdown",
   "metadata": {
    "id": "VMioB6PNFJyy"
   },
   "source": [
    "Se quisermos saber o comprimento de uma lista, utilizamos a função `len()`"
   ]
  },
  {
   "cell_type": "code",
   "execution_count": null,
   "metadata": {
    "id": "43V8ERZaFJyy"
   },
   "outputs": [],
   "source": [
    "print(lista, len(lista))\n",
    "print(lista2, len(lista2))\n",
    "print(listas, len(listas))"
   ]
  },
  {
   "cell_type": "markdown",
   "metadata": {
    "id": "movq4EWPFJyy"
   },
   "source": [
    "**Acessando elementos**\n",
    "\n",
    "A sintaxe para acessar um elemento de uma lista é a mesma usada para acessar um caractere de um string. Nós usamos o operador de indexação - `[]` . A expressão dentro dos colchetes especifica o índice. Lembre-se que o índice do primeiro elemento é 0!"
   ]
  },
  {
   "cell_type": "code",
   "execution_count": null,
   "metadata": {
    "id": "BCq7IyZyFJyy"
   },
   "outputs": [],
   "source": [
    "lista[0]"
   ]
  },
  {
   "cell_type": "code",
   "execution_count": null,
   "metadata": {
    "id": "immiKy1IFJyz"
   },
   "outputs": [],
   "source": [
    "lista2[1:3]"
   ]
  },
  {
   "cell_type": "code",
   "execution_count": null,
   "metadata": {
    "id": "K9DDYGLlFJyz"
   },
   "outputs": [],
   "source": [
    "listas[-1]"
   ]
  },
  {
   "cell_type": "code",
   "execution_count": null,
   "metadata": {
    "id": "Wu_PdDkVFJyz"
   },
   "outputs": [],
   "source": [
    "# Selecione o último elemento da última sublista em 'listas'\n"
   ]
  },
  {
   "cell_type": "markdown",
   "metadata": {
    "id": "9QCiZ_8IFJyz"
   },
   "source": [
    "**Pertinência em uma lista**\n",
    "\n",
    "Podemos usar os operadores booleanos `in` e `not in` para verificar se um elemento pertence a uma lista ou não:\n"
   ]
  },
  {
   "cell_type": "code",
   "execution_count": null,
   "metadata": {
    "id": "XYJpuXS-FJy0"
   },
   "outputs": [],
   "source": [
    "compras = ['leite', 'batata', 'manteiga', 'ovos', 'cenoura']"
   ]
  },
  {
   "cell_type": "code",
   "execution_count": null,
   "metadata": {
    "id": "zgiqhUbyFJy0"
   },
   "outputs": [],
   "source": [
    "'banana' in compras"
   ]
  },
  {
   "cell_type": "code",
   "execution_count": null,
   "metadata": {
    "id": "98BZ0pWZFJy0"
   },
   "outputs": [],
   "source": [
    "'manteiga' in compras"
   ]
  },
  {
   "cell_type": "code",
   "execution_count": null,
   "metadata": {
    "id": "8oXCXSAeFJy0"
   },
   "outputs": [],
   "source": [
    "'ovos' not in compras"
   ]
  },
  {
   "cell_type": "markdown",
   "metadata": {
    "id": "dx1lImu-FJy1"
   },
   "source": [
    "**`.append()`**\n",
    "\n",
    "Podemos facilmente inserir novos itens em uma lista utilizando o método `append`. Esse método vai se mostrar muito útil quando estivermos trabalhando com loops.\n"
   ]
  },
  {
   "cell_type": "code",
   "execution_count": null,
   "metadata": {
    "id": "_2A19ElSFJy1"
   },
   "outputs": [],
   "source": [
    "estados_sudeste = ['SP', 'RJ', 'MG']"
   ]
  },
  {
   "cell_type": "code",
   "execution_count": null,
   "metadata": {
    "id": "UTYBfamnFJy2"
   },
   "outputs": [],
   "source": [
    "estados_sudeste.append('ES')"
   ]
  },
  {
   "cell_type": "code",
   "execution_count": null,
   "metadata": {
    "id": "DLcSsiL2FJy3"
   },
   "outputs": [],
   "source": [
    "estados_sudeste"
   ]
  },
  {
   "cell_type": "markdown",
   "metadata": {
    "id": "4nTw3zdDFJy4"
   },
   "source": [
    "### Atenção! Listas são mutáveis! \n",
    "Uma propriedade importante das listas é que elas são mutáveis, ou seja, podemos alterar um item de uma lista acessando-o diretamente como parte do comando de atribuição. Vamos ver isso na prática: "
   ]
  },
  {
   "cell_type": "code",
   "execution_count": null,
   "metadata": {
    "id": "COd8uL-SFJy4"
   },
   "outputs": [],
   "source": [
    "exemplo = [1, 2, 3, 4, 5, 6, 7, 8, 9, 10]"
   ]
  },
  {
   "cell_type": "code",
   "execution_count": null,
   "metadata": {
    "id": "yTgF7uoxFJy4"
   },
   "outputs": [],
   "source": [
    "exemplo[2]"
   ]
  },
  {
   "cell_type": "code",
   "execution_count": null,
   "metadata": {
    "id": "JMSKBA99FJy5"
   },
   "outputs": [],
   "source": [
    "exemplo[2] = 3678964"
   ]
  },
  {
   "cell_type": "code",
   "execution_count": null,
   "metadata": {
    "id": "uVthTNdAFJy5"
   },
   "outputs": [],
   "source": [
    "exemplo"
   ]
  },
  {
   "cell_type": "markdown",
   "metadata": {
    "id": "oeQjEwtjFJy5"
   },
   "source": [
    "Se quisermos \"preservar\" a lista original podemos criar um *clone* da lista e então alterar apenas essa versão: "
   ]
  },
  {
   "cell_type": "code",
   "execution_count": null,
   "metadata": {
    "id": "30q5jgheFJy5"
   },
   "outputs": [],
   "source": [
    "exemplo = [1, 2, 3, 4, 5, 6, 7, 8, 9, 10]"
   ]
  },
  {
   "cell_type": "code",
   "execution_count": null,
   "metadata": {
    "id": "wiefxU8VFJy6"
   },
   "outputs": [],
   "source": [
    "clone = exemplo[:]"
   ]
  },
  {
   "cell_type": "code",
   "execution_count": null,
   "metadata": {
    "id": "r4xFQQ7eFJy6"
   },
   "outputs": [],
   "source": [
    "clone[2] = 3678964"
   ]
  },
  {
   "cell_type": "code",
   "execution_count": null,
   "metadata": {
    "id": "gWc6Dq8PFJy6"
   },
   "outputs": [],
   "source": [
    "print(exemplo)\n",
    "print(clone)"
   ]
  },
  {
   "cell_type": "markdown",
   "metadata": {
    "id": "uFJ971ViFJy6"
   },
   "source": [
    "### Exercício 1 \n",
    "Faça um programa que recebe um item e verifica se ele já foi colocado na lista de compras ou não "
   ]
  },
  {
   "cell_type": "code",
   "execution_count": null,
   "metadata": {
    "id": "ZLPazsp5FJy7"
   },
   "outputs": [],
   "source": [
    "novo_item = ...\n",
    "lista_de_compras = ['ovos', 'manteiga', 'leite', 'laranja']\n",
    "\n",
    "if ...:\n",
    "    ...\n",
    "else:\n",
    "    ..."
   ]
  },
  {
   "cell_type": "markdown",
   "metadata": {
    "id": "GEQ-EHjxFJy8"
   },
   "source": [
    "### Exercício 2 \n",
    "Altere o programa anterior para inserir o novo item caso ele não esteja na lista ainda"
   ]
  },
  {
   "cell_type": "code",
   "execution_count": null,
   "metadata": {
    "id": "1Ggb1JFaFJy8"
   },
   "outputs": [],
   "source": []
  },
  {
   "cell_type": "markdown",
   "metadata": {
    "id": "cCK93K2GFJy9"
   },
   "source": [
    "## Range"
   ]
  },
  {
   "cell_type": "markdown",
   "metadata": {
    "id": "LypGcPUnFJy9"
   },
   "source": [
    "O range não é nada mais do que uma forma rápida de criar uma sequência de números dentro de um determinado intervalo. Essa função aceita até 3 argumentos e, a partir deles, podemos decidir em que número a série começará, em qual ela terminará e qual será a diferença entre os números da série."
   ]
  },
  {
   "cell_type": "code",
   "execution_count": null,
   "metadata": {
    "id": "uTHzfdspFJy-"
   },
   "outputs": [],
   "source": [
    "exemplo1 = list(range(1,10,2))\n",
    "print(exemplo1)"
   ]
  },
  {
   "cell_type": "markdown",
   "metadata": {
    "id": "re5wWGkrFJy-"
   },
   "source": [
    "Na ausência dos argumentos de número inicial e intervalo entre os números, por padrão, o programa considera que o número inicial será o 0 e irá aumentando de 1 em 1."
   ]
  },
  {
   "cell_type": "code",
   "execution_count": null,
   "metadata": {
    "id": "j8XZzjBSFJy-"
   },
   "outputs": [],
   "source": [
    "exemplo2 = list(range(5))\n",
    "print(exemplo2)"
   ]
  },
  {
   "cell_type": "markdown",
   "metadata": {
    "id": "eZWu6uhkFJy-"
   },
   "source": [
    "Atenção: nos exemplos coloquei list() para facilitar a visualização do que ocorre no range. Contudo, a função range() não é uma variável do tipo lista"
   ]
  },
  {
   "cell_type": "code",
   "execution_count": null,
   "metadata": {
    "id": "HIHcUiLCFJy_"
   },
   "outputs": [],
   "source": [
    "print(range(5))\n",
    "print(type(range(5)))"
   ]
  },
  {
   "cell_type": "markdown",
   "metadata": {
    "id": "gLt3lqdfFJy_"
   },
   "source": [
    "#### Exercício"
   ]
  },
  {
   "cell_type": "markdown",
   "metadata": {
    "id": "NWOqnw9IFJy_"
   },
   "source": [
    "Usando a função range, crie e dê print() em uma lista com uma sequência de números que aumentam de 2 em 2, que começa com o número 0 e termina com o número 16."
   ]
  },
  {
   "cell_type": "code",
   "execution_count": null,
   "metadata": {
    "id": "0m4jj9PxFJy_"
   },
   "outputs": [],
   "source": [
    "exercicio = list(range(...))\n",
    "print(...)"
   ]
  },
  {
   "cell_type": "markdown",
   "metadata": {
    "id": "BEMkwQF_FJzA"
   },
   "source": [
    "## Loops"
   ]
  },
  {
   "cell_type": "markdown",
   "metadata": {
    "id": "zkzx3OBGFJzA"
   },
   "source": [
    "Os loops são utilizados para quando queremos que uma série de comandos de códigos seja feita repetidamente até uma certa condição ou número de repetições ser satisfeita"
   ]
  },
  {
   "cell_type": "markdown",
   "metadata": {
    "id": "flCqW33qFJzA"
   },
   "source": [
    "### While Loops\n",
    "Os loops while são usados para repetir os comandos até uma determinada condição booleana ser satisfeita. Vale destacar que se essa condição não é inicialmente satisfeita, o loop while não roda."
   ]
  },
  {
   "cell_type": "code",
   "execution_count": null,
   "metadata": {
    "id": "jdOggEryFJzA"
   },
   "outputs": [],
   "source": [
    "#Exemplo 1\n",
    "n = 1\n",
    "while n <= 5:\n",
    "    print(n)\n",
    "    n += 1 # isso é o mesmo que escrever n = n + 1"
   ]
  },
  {
   "cell_type": "code",
   "execution_count": null,
   "metadata": {
    "id": "AwybeFTqFJzB"
   },
   "outputs": [],
   "source": [
    "#Exemplo 2\n",
    "n = 6\n",
    "while n <= 5:\n",
    "    print(n)\n",
    "    n += 1"
   ]
  },
  {
   "cell_type": "markdown",
   "metadata": {
    "id": "HnJbinFuFJzB"
   },
   "source": [
    "Agora vamos testar uma aplicação um pouco mais robusta. Utilizando o loop while, calcularemos o fatorial de um número. Lembrando que o fatorial é a multiplicação do número pelo número imediatamente anterior e assim sucessivamente até chegar no número 1. Ex.: 3! = 3x2x1"
   ]
  },
  {
   "cell_type": "code",
   "execution_count": null,
   "metadata": {
    "id": "LjELezRYFJzB"
   },
   "outputs": [],
   "source": [
    "#Fatorial\n",
    "num = int(input('Escolha um número! '))\n",
    "multiplicador = num\n",
    "fatorial = 1\n",
    "while multiplicador > 1: \n",
    "    fatorial *= multiplicador\n",
    "    multiplicador -= 1\n",
    "print(\"O fatorial de %d é %d\"%(num,fatorial))"
   ]
  },
  {
   "cell_type": "markdown",
   "metadata": {
    "id": "L8f34DlfFJzB"
   },
   "source": [
    "####  Exercício \n",
    "Vamos supor que você queira dar uma sequência de números, que terminará em 0, e obter como output a soma desses números. Faça um código que te permita fazê-lo utilizando um while loop."
   ]
  },
  {
   "cell_type": "code",
   "execution_count": null,
   "metadata": {
    "id": "y4nfwBMQFJzC"
   },
   "outputs": [],
   "source": [
    "...\n",
    "while ....:\n",
    "    num = ...\n",
    "    print(...)"
   ]
  },
  {
   "cell_type": "markdown",
   "metadata": {
    "id": "jC6EWzjIFJzC"
   },
   "source": [
    "### For loops\n",
    "Os loops com \"for\" iteram dentro de uma dada sequência. Normalmente, é usado quando queremos que uma série de comandos sejam repetidos por uma quantidade de vezes específica. "
   ]
  },
  {
   "cell_type": "code",
   "execution_count": null,
   "metadata": {
    "id": "lAhTME0PFJzC"
   },
   "outputs": [],
   "source": [
    "#Exemplo 1 - Queremos criar uma lista com os nomes de um determinado número de alunos\n",
    "num = int(input(\"Insira o número de alunos: \"))\n",
    "lista = []\n",
    "for i in range(num):\n",
    "    nome = input(\"Insira o nome do aluno: \")\n",
    "    lista.append(nome)\n",
    "print(lista)"
   ]
  },
  {
   "cell_type": "markdown",
   "metadata": {
    "id": "AhMLF_sZFJzD"
   },
   "source": [
    "Outra aplicação é para iterar em uma lista. "
   ]
  },
  {
   "cell_type": "code",
   "execution_count": null,
   "metadata": {
    "id": "NzEgrwTWFJzD"
   },
   "outputs": [],
   "source": [
    "# Vamos fazer um código que devolve os números pares de uma lista de números dados\n",
    "numeros = [4,0,8,17,58,29]\n",
    "for num in numeros:\n",
    "    if num % 2 == 0:\n",
    "        print(num)"
   ]
  },
  {
   "cell_type": "markdown",
   "metadata": {
    "id": "bvsZ_axKFJzD"
   },
   "source": [
    "#### Exercício\n",
    "Faça um código que dê como output quantos números entre 1 e 5.000.000 são divisíveis por 2, 37 e 49"
   ]
  },
  {
   "cell_type": "code",
   "execution_count": null,
   "metadata": {
    "id": "XDT6IjUBFJzE"
   },
   "outputs": [],
   "source": [
    "for ...\n",
    "...\n",
    "print(...)"
   ]
  },
  {
   "cell_type": "markdown",
   "metadata": {
    "id": "_9xXticCFJzE"
   },
   "source": [
    "### Elementos Break e Continue\n",
    "Tem algumas funções que podem nos ajudar a controlar o fluxo dos nossos loops. O \"continue\" faz com que pulemos o bloco de comando e voltemos para o comando do loop. Já o \"break\" é usado para quebrar o loop e, portanto, sair dele."
   ]
  },
  {
   "cell_type": "code",
   "execution_count": null,
   "metadata": {
    "id": "XuFijqzEFJzE"
   },
   "outputs": [],
   "source": [
    "#Exemplo 1: um código que printa os números impares entre 0 e 10.\n",
    "for i in range(10):\n",
    "    if i % 2 == 0:\n",
    "        continue #se o número for par, o código voltará para o \"for\" e o número não será printado\n",
    "    print(i)"
   ]
  },
  {
   "cell_type": "code",
   "execution_count": null,
   "metadata": {
    "id": "g_RnXJZJFJzF"
   },
   "outputs": [],
   "source": [
    "#Exemplo 2: printar todos os números entre 1 e 10 que são menores que 5\n",
    "for i in range(10):\n",
    "    if i == 5:\n",
    "        break\n",
    "    print(i)"
   ]
  },
  {
   "cell_type": "markdown",
   "metadata": {
    "id": "e81EyI0wFJzF"
   },
   "source": [
    "#### Exercício\n",
    "Faça um código que crie e printe uma lista com todos os números pares da lista dada (numbers) que aparecem na lista antes do número 237"
   ]
  },
  {
   "cell_type": "code",
   "execution_count": null,
   "metadata": {
    "id": "pbL-QCjhFJzG"
   },
   "outputs": [],
   "source": [
    "numbers = [\n",
    "    951, 402, 984, 651, 360, 69, 408, 319, 601, 485, 980, 507, 725, 547, 544,\n",
    "    615, 83, 165, 141, 501, 263, 617, 865, 575, 219, 390, 984, 592, 236, 105, 942, 941,\n",
    "    386, 462, 47, 418, 907, 344, 236, 375, 823, 566, 597, 978, 328, 615, 953, 345,\n",
    "    399, 162, 758, 219, 918, 237, 412, 566, 826, 248, 866, 950, 626, 949, 687, 217,\n",
    "    815, 67, 104, 58, 512, 24, 892, 894, 767, 553, 81, 379, 843, 831, 445, 742, 717,\n",
    "    958, 609, 842, 451, 688, 753, 854, 685, 93, 857, 440, 380, 126, 721, 328, 753, 470,\n",
    "    743, 527\n",
    "]\n",
    "...\n",
    "for ...\n",
    "...\n",
    "print(...)"
   ]
  },
  {
   "cell_type": "markdown",
   "metadata": {
    "id": "BBgJJUUfFJzG"
   },
   "source": [
    "### Loop dentro de loop\n",
    "Há casos em que podemos precisar colocar vários loops encadeados. "
   ]
  },
  {
   "cell_type": "code",
   "execution_count": null,
   "metadata": {
    "id": "pfRuAuspFJzH"
   },
   "outputs": [],
   "source": [
    "#Exemplo 1: vamos criar um código que recebe uma lista com listas e retorna uma lista com os \n",
    "#números presentes em todas essas listas sem repetição\n",
    "lista = [[1,2,3,4], [2,5,7],[15,2,20],[15,10,62]]\n",
    "lista_sep = []\n",
    "for i in lista:\n",
    "    for j in i:\n",
    "        if j not in lista_sep:\n",
    "            lista_sep.append(j)\n",
    "print(lista_sep)"
   ]
  },
  {
   "cell_type": "markdown",
   "metadata": {
    "id": "hq1qszoGFJzI"
   },
   "source": [
    "#### Exercício\n",
    "Faça um código que retorne uma lista com os números primos de 1 a 50."
   ]
  },
  {
   "cell_type": "code",
   "execution_count": null,
   "metadata": {
    "id": "C8ARFLapFJzJ"
   },
   "outputs": [],
   "source": [
    "primos = []\n",
    "for ...\n",
    "    ...\n",
    "    for ...\n",
    "        if ...:\n",
    "            ...\n",
    "    if ...:\n",
    "        ...\n",
    "print(primos)"
   ]
  },
  {
   "cell_type": "markdown",
   "metadata": {
    "id": "Blrvm3q_FJzJ"
   },
   "source": [
    "### Cuidado!!\n",
    "Cuidado para não criar loops infinitos. Eles ocorrem principalmente nos for loops, quando a condição para a quebra do looping nunca ocorre, fazendo o código rodar infinitamente."
   ]
  },
  {
   "cell_type": "code",
   "execution_count": null,
   "metadata": {
    "id": "OvAd0A5hFJzK"
   },
   "outputs": [],
   "source": [
    "#Exemplo de loop infinito\n",
    "i = 0\n",
    "while i < 5:\n",
    "    if i % 2 != 0:\n",
    "        print(\"%d é ímpar\"%(i))"
   ]
  },
  {
   "cell_type": "markdown",
   "metadata": {
    "id": "VPL0WB58FJzK"
   },
   "source": [
    "#### Saindo um pouco dos exemplos numéricos..."
   ]
  },
  {
   "cell_type": "code",
   "execution_count": null,
   "metadata": {
    "id": "6Y0znSjpFJzL"
   },
   "outputs": [],
   "source": [
    "consoantes = [\"q\",'w','r','t','y','p','s','d','f','g','h','j','k','l','z','x','c','v','b','n','m']\n",
    "vogais = ['e','i','u','o','a']\n",
    "nome = input(\"Insira seu nome: \")\n",
    "num_vog = 0\n",
    "num_cons = 0\n",
    "letras = []\n",
    "for letra in nome.lower():\n",
    "    if letra in letras:\n",
    "        continue\n",
    "    letras.append(letra)\n",
    "for letra in letras:\n",
    "    if letra in vogais:\n",
    "        num_vog +=1\n",
    "    if letra in consoantes:\n",
    "        num_cons +=1\n",
    "print(\"Consoantes: %d e vogais: %d\"%(num_cons, num_vog))"
   ]
  },
  {
   "cell_type": "markdown",
   "metadata": {
    "id": "QeD0j3qlFJzL"
   },
   "source": [
    "# Funções\n",
    "## O que são Funções?\n",
    "\n",
    "Uma função é um bloco de código que contém uma sequência de comandos que executa alguma tarefa. São utilizadas para executar determinadas tarefas que normalmente precisam ser executadas diversas vezes dentro de uma aplicação. Dessa forma, não é necessário repetir as mesmas linhas de código sempre que se quiser realizar determinada tarefa! "
   ]
  },
  {
   "cell_type": "markdown",
   "metadata": {
    "id": "XH_XbU_qFJzM"
   },
   "source": [
    "## E como é a estrutura de uma função?\n",
    "\n",
    "A função pode apenas manipular os valores...\n",
    "\n",
    "```\n",
    "def NOME (PARAMETROS):\n",
    "  COMANDOS\n",
    "```\n",
    "\n",
    "ou retornar algum valor (usando a palavra reservada return)..\n",
    "\n",
    "```\n",
    "def NOME (PARAMETROS):\n",
    "  COMANDOS\n",
    "  return VALOR_DESEJADO\n",
    "```"
   ]
  },
  {
   "cell_type": "markdown",
   "metadata": {
    "id": "HlUXpKirFJzM"
   },
   "source": [
    "## Alguns exemplos\n",
    "#### Primeiro vamos ver uma função simples e como chama-la no nosso código"
   ]
  },
  {
   "cell_type": "code",
   "execution_count": null,
   "metadata": {
    "id": "KyzooCNRFJzM"
   },
   "outputs": [],
   "source": [
    "def apresenta (nome, idade):\n",
    "  print (\"Olá amigos, meu nome é\", nome, \"e eu tenho\", idade, \"anos\")"
   ]
  },
  {
   "cell_type": "code",
   "execution_count": null,
   "metadata": {
    "id": "ZFbVnL3dFJzM"
   },
   "outputs": [],
   "source": [
    "nome_usuario=input(\"Qual o seu nome?\")\n",
    "idade_usuario=input(\"E qual a sua idade?\")\n",
    "apresenta(nome_usuario, idade_usuario)"
   ]
  },
  {
   "cell_type": "code",
   "execution_count": null,
   "metadata": {
    "id": "Vrw3xcYwFJzN"
   },
   "outputs": [],
   "source": [
    "#Crie uma função que receba o nome e a idade do usuário e imprima\n",
    "#\"$$Nome$$ é maior de 18 anos\" ou\n",
    "#\"$$Nome$$ é menor de 18 anos\"\n",
    "#dependendo da idade dele\n",
    "\n"
   ]
  },
  {
   "cell_type": "code",
   "execution_count": null,
   "metadata": {
    "id": "fSywON-7FJzN"
   },
   "outputs": [],
   "source": [
    "#Chame a função no seu programa\n",
    "\n"
   ]
  },
  {
   "cell_type": "markdown",
   "metadata": {
    "id": "LJhFJL45FJzN"
   },
   "source": [
    "#### Função com return\n",
    "Como a gente falou anteriormente, apesar de ser interessante manipular nossos dados com funções, muitas vezes precisamos que algum valor seja devolvido por ela. Para isso, usamos a palavra reservada return.\n",
    "Para ficar mais claro, observe o exemplo abaixo."
   ]
  },
  {
   "cell_type": "code",
   "execution_count": null,
   "metadata": {
    "id": "3aRlaHJ9FJzN"
   },
   "outputs": [],
   "source": [
    "def maior (a, b):\n",
    "  if(a>b):\n",
    "    return a\n",
    "  else:\n",
    "    return b"
   ]
  },
  {
   "cell_type": "markdown",
   "metadata": {
    "id": "Q_ZwCkaHFJzO"
   },
   "source": [
    "O objetivo dela é retornar o maior valor entre dois números. Veja que o comando return aqui, será o respondável por me devolver o valor da função, quando ela for chamada no meu programa. Vamos ver como fica isso."
   ]
  },
  {
   "cell_type": "code",
   "execution_count": null,
   "metadata": {
    "id": "NmrEBd2OFJzO"
   },
   "outputs": [],
   "source": [
    "print(\"digite dois números e eu vou te dizer o maior entre eles \\n\")\n",
    "x= input()\n",
    "y= input()\n",
    "aux = maior(x, y)\n",
    "print(\"O maior número é\", aux)"
   ]
  },
  {
   "cell_type": "code",
   "execution_count": null,
   "metadata": {
    "id": "CFOr5GKZFJzO"
   },
   "outputs": [],
   "source": [
    "##Também posso chamar uma função dentro de outra função\n",
    "print(\"digite dois números e eu vou te dizer o maior entre eles \\n\")\n",
    "e= input()\n",
    "f= input()\n",
    "print(\"O maior número é\", maior(e, f))"
   ]
  },
  {
   "cell_type": "code",
   "execution_count": null,
   "metadata": {
    "id": "5vr5tsArFJzP"
   },
   "outputs": [],
   "source": [
    "#Crie uma função que execute a subtração de dois números e retorne o resultado"
   ]
  },
  {
   "cell_type": "code",
   "execution_count": null,
   "metadata": {
    "id": "BWNZTSyKFJzP"
   },
   "outputs": [],
   "source": [
    "#Chame a função no seu programa, guarde o valor que ela retornou em uma variável\n",
    "#e imprima essa variável\n",
    "\n",
    "\n",
    "\n",
    "#Agora, chame a função dentro da funçã print e imprima o valor que a função retornou"
   ]
  },
  {
   "cell_type": "markdown",
   "metadata": {
    "id": "vysI7JQqFJzP"
   },
   "source": [
    "## Funções sem parâmetros\n",
    "Funções podem ter infinitos parâmetros ou não ter parâmetro nenhum! Podem ter até parâmetros opcionais(spoiler)."
   ]
  },
  {
   "cell_type": "code",
   "execution_count": null,
   "metadata": {
    "id": "do3ejhAgFJzP"
   },
   "outputs": [],
   "source": [
    "def spam():\n",
    "    for i in range(20): \n",
    "        print (\"amendoim é bom\")"
   ]
  },
  {
   "cell_type": "code",
   "execution_count": null,
   "metadata": {
    "id": "e-AFjo1GFJzQ"
   },
   "outputs": [],
   "source": [
    "spam()"
   ]
  },
  {
   "cell_type": "markdown",
   "metadata": {
    "id": "4xoxRjeGFJzQ"
   },
   "source": [
    "## Parâmetros opcionais e Parâmetros pré definidos\n",
    "\n",
    "#### Parâmetros opcionais\n",
    "Algumas vezes você quer usar diferentes parâmetros para diferentes propósitos, porém dentro da mesma função. As vezes você não quer usar todos os parâmetros. Existem n motivos pelos quais você pode querer fazer um parâmetro ser opcional.\n",
    "\n",
    "##### Mas como a gente faz isso?\n",
    "\n",
    "Quando estamos escrevendo a função, declaramos o parâmetro como ```**kwargs```. Por convenção, utiliza-se a palavra kwargs, mas pode-se utilizar qualquer uma, desde que coloque-se os ``**`` antes dela!\n",
    "Além disso, é necessário se atribuir o valor dos parâmetros opcionais à variáveis dentro da função. A estrutura fica assim então:\n",
    "\n",
    "```` \n",
    "def nome(parametro_obrigatorio, **kwargs):\n",
    "    opcional1=kwargs.get('opcional1')\n",
    "    opcional2=kwargs.get('opcional2')\n",
    "    ##resto da função... \n",
    "````\n",
    "\n",
    "##### Legal, mas como eu chamo uma função com argumentos opcionais??\n",
    "\n",
    "Posso chamar só com o parâmetro obrigatório, como uma função normal\n",
    "\n",
    "``nome(parametro_obrigatorio)``\n",
    "\n",
    "Posso chamar com um parâmetro opcional. Nesse caso, observe que tive que declarar que o parâmetro a mais que estava colocando na chamada da função, se refere ao parâmetro opcional1.\n",
    "\n",
    "``nome(parametro_obrigatorio, opcional1=\"amendoim\")``\n",
    "\n",
    "E, por fim, posso chamar com todos os parânetros! Sem esquecer é claro, de separa-los e identifica-los.\n",
    "\n",
    "``nome(parametro_obrigatorio, opcional1=\"amendoim\", opcional2=\"chuchu\")``\n",
    "\n",
    "#### Parâmetros pré-definidos\n",
    "Existem casos em que você está lidando com uma situação que acontece com muita frequência, mas não pode assumir que vai acontecer sempre. Uma solução para economizar tempo nessas situações, é pré-definir um valor para um parâmetro da sua função. Dessa forma, o usuário pode preencher o campo desse parâmetro, caso ele não seja seu caso padrão, ou ele pode não preencher nada caso se encaixe.\n",
    "\n",
    "##### Na declaração da função\n",
    "\n",
    "```` \n",
    "def nome(parametro_obrigatorio, parametro_padronizado = 3):\n",
    "    ##resto da função... \n",
    "````\n",
    "##### Na chamada da função\n",
    "Posso chamar a função sem colocar nada no lugar do parametro pré definido, e nesse caso a função irá utilizar o valor pré definido\n",
    "``nome(parametro_obrigatorio)``\n",
    "Mas também posso querer mudar o valor, nesse caso a função é chamada dessa forma:\n",
    "``nome(parametro_obrigatorio, 5)``"
   ]
  },
  {
   "cell_type": "markdown",
   "metadata": {
    "id": "j_6bstsaFJzQ"
   },
   "source": [
    "### Um exemplo"
   ]
  },
  {
   "cell_type": "code",
   "execution_count": null,
   "metadata": {
    "id": "xFRqYQnPFJzR"
   },
   "outputs": [],
   "source": [
    "def amizade(nome, mode=\"amigos\", **kwargs):\n",
    "  obs1=kwargs.get('obs1')\n",
    "  obs2=kwargs.get('obs2')\n",
    "  if mode == \"amigos\":\n",
    "    print(\"Oi,\", nome, \"somos bons amigos\")\n",
    "    if obs1 != None:\n",
    "      print(obs1)\n",
    "    if obs2!= None:\n",
    "      print(obs2)\n",
    "  elif mode == \"namorados\":\n",
    "    print (\"oi amor, te amo, quero ter\", nome, \"gravado na minha aliança\")\n",
    "    if obs1 != None:\n",
    "      print(obs1)\n",
    "    if obs2!= None:\n",
    "      print(obs2)\n",
    "  elif mode == \"inimigos\":\n",
    "    print (\"sai daqui,\",nome, \"ninguem gosta de você\")\n",
    "    if obs1 != None:\n",
    "      print(obs1)\n",
    "    if obs2!= None:\n",
    "      print(obs2)"
   ]
  },
  {
   "cell_type": "code",
   "execution_count": null,
   "metadata": {
    "id": "rnXVZZCCFJzR"
   },
   "outputs": [],
   "source": [
    "#Caso em que coloco os dois parâmetros opcionais, aqui é utilizado o valor\n",
    "#pré definido para o parâmetro 'mode'\n",
    "\n",
    "amizade(\"vick\", obs1=\"você é cheirosa\", obs2=\"você é muito dedicada\")"
   ]
  },
  {
   "cell_type": "code",
   "execution_count": null,
   "metadata": {
    "id": "kMMtF-akFJzR"
   },
   "outputs": [],
   "source": [
    "#Caso sem nenhum parâmetro opcional, aqui o valor\n",
    "#pré definido para o parâmetro 'mode' é alterado\n",
    "amizade(\"chuchu\", \"namorados\")"
   ]
  },
  {
   "cell_type": "code",
   "execution_count": null,
   "metadata": {
    "id": "MF9r0ETDFJzR"
   },
   "outputs": [],
   "source": [
    "#Caso em que coloco apenas um parâmetro opcional, aqui o valor\n",
    "#pré definido para o parâmetro 'mode'é alterado\n",
    "amizade(\"menino que não fez nada no meu trabalho de mecânica\", \"inimigos\", obs1=\"VOCÊ NEM RESPONDEU MINHAS MENSAGENS NO WPP\")"
   ]
  },
  {
   "cell_type": "markdown",
   "metadata": {},
   "source": [
    "# Aplicação\n",
    "\n",
    "Agora, vamos aplicar tudo o que a gente viu até agora!\n",
    "\n",
    "Faremos um chatbot simples inspirado na ELIZA, o primeiro chatbot da história!\n",
    "\n",
    "Vamos deixar alguns espaços com '...' para vocês completarem."
   ]
  },
  {
   "cell_type": "markdown",
   "metadata": {},
   "source": [
    "## Importando módulos"
   ]
  },
  {
   "cell_type": "code",
   "execution_count": null,
   "metadata": {},
   "outputs": [],
   "source": [
    "import re # regex para fazer matching de padrões no texto\n",
    "import random # para numeros e selecao aleatorios"
   ]
  },
  {
   "cell_type": "markdown",
   "metadata": {},
   "source": [
    "## Definindo constantes\n",
    "\n",
    "Nossa ELIZA irá conversar com o usuário sobre seus sentimentos.\n",
    "\n",
    "Assim, implementamos ela de modo que ela identifique se esse usuário está falando sobre algum sentimento/sensação ou fazendo um desabafo.\n",
    "\n",
    "Definimos nessa primeira parte respostas para cada uma desas situações, além de respostas genéricas para fazê-lo falar mais."
   ]
  },
  {
   "cell_type": "code",
   "execution_count": null,
   "metadata": {},
   "outputs": [],
   "source": [
    "RESPOSTAS_GENERICAS = ['Me fale mais sobre isso.', 'Interessante... elabore.',\n",
    "                       'O que isso te lembra?']\n",
    "\n",
    "RESPOSTAS_SENSACAO = ['Por que você está {}?', 'Para você, como é se sentir {}?',\n",
    "                      'Por que você está {}?']\n",
    "\n",
    "REPOSTAS_DESABAFO = ['O que você pensa sobre {}?', 'Para você, o que é {}?',\n",
    "                     'Como você se sente em relação a {}?']\n",
    "\n",
    "STOPWORDS = ['eu', 'não', 'quero', 'acho', 'e', 'você', 'nós', 'acredito', 'o',\n",
    "             'a', 'os', 'um', 'uns', 'umas', 'as', 'uma', 'me', 'te', 'lhe',\n",
    "             'nos', 'n', 'pq', 'porque']"
   ]
  },
  {
   "cell_type": "markdown",
   "metadata": {},
   "source": [
    "## Funções\n",
    "\n",
    "Para que seja mais fácil pensar, vamos separar nosso programa em blocos usando funções. Assim, resolvemos um problema menor por vez e então juntamos as soluções."
   ]
  },
  {
   "cell_type": "markdown",
   "metadata": {},
   "source": [
    "Nessa primeira função, vamos determinar a intenção de uma frase, ou seja, se é uma sensação ou um desabafo.\n",
    "\n",
    "Para identificar uma sensação, vamos usar regex com o módulo re. O padrão em `padrao_sensacao` identifica se a frase começa com \"eu estou\"/\"eu tô\"/\"to\" e outras variações dessa expressão.\n",
    "\n",
    "`re.search()` identifica esse padrão na frase recebida: se sim, ela devolve um objeto de match; se não, retorna não.\n",
    "\n",
    "Um objeto de match tem valor `True`, enquanto `None` tem valor `False`. Assim, podemos usá-los em expressões condicionais."
   ]
  },
  {
   "cell_type": "code",
   "execution_count": null,
   "metadata": {},
   "outputs": [],
   "source": [
    "def determina_intencao(text):\n",
    "    '''\n",
    "    Funcao que recebe um texto (string), verifica se ha um padrão\n",
    "    que indica sensação. Se houver, ele retorna uma string\n",
    "    'sensacao', se não, retorna 'desabafo'.\n",
    "    '''\n",
    "  \n",
    "    # padrao para identificar 'eu estou' e derivados\n",
    "    padrao_sensacao = \"[Ee]u ([Tt][oô]|estou) |[Tt][oô] |estou \"\n",
    "\n",
    "    # fazer o match do padrao na frase\n",
    "    match = re.search(padrao_sensacao, text) # retorna None se nao houver match\n",
    "\n",
    "    if match:\n",
    "        # se houver match, intencao recebe 'sensacao'\n",
    "        intencao = 'sensacao'\n",
    "        \n",
    "    # caso contrario... \n",
    "    ...\n",
    "    ...\n",
    "\n",
    "    return intencao"
   ]
  },
  {
   "cell_type": "markdown",
   "metadata": {},
   "source": [
    "Agora, fazemos uma função que responde uma mensagem contendo uma sensação.\n",
    "\n",
    "`re.search(padrao_sensacao, text).group(0)` retorna o trecho na frase que deu match com o padrão.\n",
    "\n",
    "`\"texto\".find(\"trecho\")` retorna o índice da primeira ocorrência do trecho no texto.\n",
    "\n",
    "`random.choice()` recebe uma lista e retorna um item aleatório desta.\n",
    "\n",
    "`resposta.format(\"trecho\")` preenche {} na resposta com \"trecho\"."
   ]
  },
  {
   "cell_type": "code",
   "execution_count": null,
   "metadata": {},
   "outputs": [],
   "source": [
    "def responde_sensacao(text):\n",
    "    '''\n",
    "    Funcao que recebe um texto que possua \"eu estou\" ou variações,\n",
    "    armazena o resto da frase, seleciona uma resposta aleatoria\n",
    "    das lista RESPOSAS_SENSACAO e retorna essa resposta com o\n",
    "    trecho armazenado inserido.\n",
    "    '''\n",
    "\n",
    "    padrao_sensacao = \"[Ee]u ([Tt][oô]|estou) |[Tt][oô] |estou \"\n",
    "    # sensacao recebe a parte do texto que deu match com o padrao\n",
    "    sensacao = re.search(padrao_sensacao, text).group(0)\n",
    "\n",
    "    # resto_frase recebe o trecho que vem depois da parte que deu match\n",
    "    resto_frase = text[text.find(sensacao)+len(sensacao):]\n",
    "\n",
    "    # escolhe uma resposta da lista RESPOSTAS_SENSACAO aleatoriamente\n",
    "    resposta = random.choice(RESPOSTAS_SENSACAO)\n",
    "\n",
    "    # retorna a resposta escolhida com resto_frase no lugar de {}\n",
    "    return resposta.format(resto_frase)"
   ]
  },
  {
   "cell_type": "markdown",
   "metadata": {},
   "source": [
    "Agora, a função que responde um desabafo.\n",
    "\n",
    "`text.split()` separa uma string em palavras e retorna uma lista com elas\n",
    "\n",
    "`string.lower()` deixa o texto da string em letras todas minúsculas."
   ]
  },
  {
   "cell_type": "code",
   "execution_count": null,
   "metadata": {},
   "outputs": [],
   "source": [
    "def responde_desabafo(text):\n",
    "    '''\n",
    "    Funcao que recebe um texto de desabafo, seleciona uma resposta\n",
    "    aleatoria de RESPOSTAS_DESABAFO, completa ela com\n",
    "    uma palavra significativa do texto e retorna essa resposta.\n",
    "    Caso nao haja palavras significativas no texto, a resposta\n",
    "    sera 'Hm...'.\n",
    "    '''\n",
    "  \n",
    "    # escolhe uma resposta da lista RESPOSTAS_DESABAFO aleatoriamente\n",
    "    resposta = random.choice(REPOSTAS_DESABAFO)\n",
    "\n",
    "    # cria uma lista com cada palavra no texto\n",
    "    lista_de_palavras = text.split()\n",
    "\n",
    "    # cria uma lista vazia\n",
    "    lista_de_palavras_minusculas_validas = []\n",
    "\n",
    "    # vamos percorrer a lista_de_palavras\n",
    "    for palavra ...:\n",
    "\n",
    "        # deixa a palavra toda em letras minusculas\n",
    "        palavra = palavra.lower()\n",
    "    \n",
    "        # se a palavra nao estiver em STOPWORDS, adiciona na lista_de_palavras_minusculas_validas\n",
    "        if ...:\n",
    "            ...\n",
    "\n",
    "    num_palavras_validas = len(lista_de_palavras_minusculas_validas)\n",
    "    \n",
    "    # se houver mais de uma palavra na lista_de_palavras_minusculas_validas\n",
    "    # escolhe uma palavra aleatoria dessa lista e armazena em tema\n",
    "    if  num_palavras_validas > 1:\n",
    "        tema = random.choice(lista_de_palavras_minusculas_validas)\n",
    "        # e entao insere tema na resposta\n",
    "        resposta = resposta.format(tema)\n",
    "\n",
    "    # caso haja apenas uma palavra na lista, ela sera inserida na resposta     \n",
    "    ...\n",
    "        tema = ...\n",
    "        resposta = resposta.format(tema)\n",
    "\n",
    "    # se nao ha palavras na lista, a resposta sera 'hm...'\n",
    "    ...\n",
    "        resposta = 'Hm...'\n",
    "\n",
    "    return ..."
   ]
  },
  {
   "cell_type": "markdown",
   "metadata": {},
   "source": [
    "Agora, definimos a função `responder`, que irá identificar a intenção e retornar a resposta.\n",
    "\n",
    "Além das repostas de sensação e desabafo, há também a chance da Eliza responder com uma resposta genérica. Vamos estabelecer que isso ocorre com probabilidade 30%, ou seja, 3 em cada 10 vezes.\n",
    "\n",
    "`random.random()` gera um número real entre 0 e 1."
   ]
  },
  {
   "cell_type": "code",
   "execution_count": null,
   "metadata": {},
   "outputs": [],
   "source": [
    "def responder(mensagem):\n",
    "    '''\n",
    "    Funcao que recebe uma mensagem, determina sua intencao e retorna uma\n",
    "    resposta de acordo com essa intencao ou responde genericamente com\n",
    "    probabilidade de 30%.\n",
    "    '''\n",
    "\n",
    "    # gera um float aleatorio entre 0 e 1\n",
    "    numero_aleatorizador  = random.random()\n",
    "\n",
    "    # se esse numero for menor que 0.3,\n",
    "    # a resposta sera aleatoriamente escolhida entre as RESPOSTAS_GENERICAS\n",
    "    ...:\n",
    "        resposta = random.choice(RESPOSTAS_GENERICAS)\n",
    "\n",
    "    # caso contrario, determina a intencao da mensagem\n",
    "    ...:\n",
    "        intencao = ...\n",
    "        \n",
    "        # atribui uma resposta de acordo com essa intencao\n",
    "        if intencao == 'desabafo':\n",
    "            resposta = ...\n",
    "\n",
    "        ...\n",
    "            resposta = ...\n",
    "\n",
    "    return ..."
   ]
  },
  {
   "cell_type": "markdown",
   "metadata": {},
   "source": [
    "## Juntando tudo"
   ]
  },
  {
   "cell_type": "code",
   "execution_count": null,
   "metadata": {},
   "outputs": [],
   "source": [
    "def main():\n",
    "    \n",
    "    # a primeira mensagem da Eliza sera uma saudacao\n",
    "    print(\"Olá! Eu sou a Eliza.\\nComo você está se sentindo hoje? Sobre o que gostaria de falar?\")\n",
    "\n",
    "    # loop que se repetira 6 vezes\n",
    "    ...:\n",
    "        # recebe uma mensagem do usuario\n",
    "        mensagem = ...\n",
    "\n",
    "        # gera uma resposta\n",
    "        resposta = ...\n",
    "\n",
    "        # printa a resposta\n",
    "        print(resposta)\n",
    "\n",
    "    # recebe ultima mensagem do usuario\n",
    "    mensagem = ..."
   ]
  },
  {
   "cell_type": "markdown",
   "metadata": {},
   "source": [
    "## Testando"
   ]
  },
  {
   "cell_type": "code",
   "execution_count": null,
   "metadata": {},
   "outputs": [],
   "source": [
    "main()"
   ]
  }
 ],
 "metadata": {
  "colab": {
   "name": "WS4Her2021.ipynb",
   "provenance": []
  },
  "kernelspec": {
   "display_name": "Python 3",
   "language": "python",
   "name": "python3"
  },
  "language_info": {
   "codemirror_mode": {
    "name": "ipython",
    "version": 3
   },
   "file_extension": ".py",
   "mimetype": "text/x-python",
   "name": "python",
   "nbconvert_exporter": "python",
   "pygments_lexer": "ipython3",
   "version": "3.8.3"
  }
 },
 "nbformat": 4,
 "nbformat_minor": 1
}
