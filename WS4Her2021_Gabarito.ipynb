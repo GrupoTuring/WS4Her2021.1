{
  "nbformat": 4,
  "nbformat_minor": 0,
  "metadata": {
    "colab": {
      "name": "WS4Her2021 - Gabarito.ipynb",
      "provenance": []
    },
    "kernelspec": {
      "display_name": "Python 3",
      "language": "python",
      "name": "python3"
    },
    "language_info": {
      "codemirror_mode": {
        "name": "ipython",
        "version": 3
      },
      "file_extension": ".py",
      "mimetype": "text/x-python",
      "name": "python",
      "nbconvert_exporter": "python",
      "pygments_lexer": "ipython3",
      "version": "3.7.6"
    }
  },
  "cells": [
    {
      "cell_type": "markdown",
      "metadata": {
        "id": "gNqf774JA6IW"
      },
      "source": [
        "# 👩💻 WS4Her2021.1 - Gabarito\n",
        "\n",
        "Olá, meninas! A seguir está o notebook com o gabarito de todos os exercícios feitos durante os dias de workshop. Lembre-se que se tiver qualquer dúvida, é só procurar alguma organizadora.\n",
        "\n"
      ]
    },
    {
      "cell_type": "markdown",
      "metadata": {
        "id": "cQu9hpt7gkf3"
      },
      "source": [
        "## Print\n",
        "\n",
        "\"Printar\" algo é dar ao seu código o comando de fazer algo aparecer na tela. Fazemos isso utilizando a função ```print``` do python.\n",
        "\n",
        "Neste primeiro caso vamos utilizar aspas (' ') porque o que queremos printar é um texto (string), e no python é necessário que textos estejam sempre dessa forma."
      ]
    },
    {
      "cell_type": "code",
      "metadata": {
        "id": "W9XG_6JOPC2M",
        "colab": {
          "base_uri": "https://localhost:8080/"
        },
        "outputId": "1ea339be-6cd9-4548-a71d-6189a346af0d"
      },
      "source": [
        "print('Meu namorado é mó otário')"
      ],
      "execution_count": null,
      "outputs": [
        {
          "output_type": "stream",
          "text": [
            "Meu namorado é mó otário\n"
          ],
          "name": "stdout"
        }
      ]
    },
    {
      "cell_type": "code",
      "metadata": {
        "id": "o8fQsvikhcRM",
        "colab": {
          "base_uri": "https://localhost:8080/"
        },
        "outputId": "b1d72cdf-51bf-448c-814a-0070e39eecfc"
      },
      "source": [
        "texto = 'Ele lava minhas calcinhas'\n",
        "\n",
        "print(texto)"
      ],
      "execution_count": null,
      "outputs": [
        {
          "output_type": "stream",
          "text": [
            "Ele lava minhas calcinhas\n"
          ],
          "name": "stdout"
        }
      ]
    },
    {
      "cell_type": "markdown",
      "metadata": {
        "id": "Creis2QlZLOZ"
      },
      "source": [
        "### Exercício!"
      ]
    },
    {
      "cell_type": "code",
      "metadata": {
        "id": "bg1O-vf2hg52",
        "colab": {
          "base_uri": "https://localhost:8080/"
        },
        "outputId": "8accd9a3-4061-4cae-e4ba-985b894d14c9"
      },
      "source": [
        "print('Essa é sua frase!') # não esquece das aspas, ein?"
      ],
      "execution_count": null,
      "outputs": [
        {
          "output_type": "stream",
          "text": [
            "Essa é sua frase!\n"
          ],
          "name": "stdout"
        }
      ]
    },
    {
      "cell_type": "markdown",
      "metadata": {
        "id": "56GlvKl8hnt5"
      },
      "source": [
        "## Input e Output\n",
        "\n",
        "Inputs são as informações dadas ao computador, por exemplo, ao fornecer um nome para ser printado na tela.\n",
        "\n",
        "Outputs são as informações que seu computador gera, por exemplo, o resultado de uma conta.\n",
        "\n"
      ]
    },
    {
      "cell_type": "code",
      "metadata": {
        "id": "shfPBKy5izwl",
        "colab": {
          "base_uri": "https://localhost:8080/"
        },
        "outputId": "d1f70419-f9ca-404c-d902-37672041f5e6"
      },
      "source": [
        "nome = input('Qual seu nome? ')\n",
        "\n",
        "print(nome)"
      ],
      "execution_count": null,
      "outputs": [
        {
          "output_type": "stream",
          "text": [
            "Qual seu nome? Beyonce\n",
            "Beyonce\n"
          ],
          "name": "stdout"
        }
      ]
    },
    {
      "cell_type": "code",
      "metadata": {
        "id": "ETXOuISAi9qB",
        "colab": {
          "base_uri": "https://localhost:8080/"
        },
        "outputId": "fa53805b-8cd9-4ee6-8b6c-a3a2abe28a7e"
      },
      "source": [
        "idade = input('Qual sua idade? ')\n",
        "\n",
        "print('Sua idade é ' + idade)"
      ],
      "execution_count": null,
      "outputs": [
        {
          "output_type": "stream",
          "text": [
            "Qual sua idade? 21\n",
            "Sua idade é 21\n"
          ],
          "name": "stdout"
        }
      ]
    },
    {
      "cell_type": "code",
      "metadata": {
        "id": "azmu7aYGidvk",
        "colab": {
          "base_uri": "https://localhost:8080/"
        },
        "outputId": "802174a5-9fbe-4e19-db81-51e6da40e61f"
      },
      "source": [
        "dia = input('Que dia você nasceu? ')\n",
        "mês = input('Que mês você nasceu? ' )\n",
        "ano = input('Que ano você nasceu? ')\n",
        "print('Você nasceu no dia ' + dia + ' de ' + mês + ' de ' + ano + '. Correto?')  # explicar o +"
      ],
      "execution_count": null,
      "outputs": [
        {
          "output_type": "stream",
          "text": [
            "Que dia você nasceu? 27\n",
            "Que mês você nasceu? julho\n",
            "Que ano você nasceu? 1999\n",
            "Você nasceu no dia 27 de julho de 1999. Correto?\n"
          ],
          "name": "stdout"
        }
      ]
    },
    {
      "cell_type": "markdown",
      "metadata": {
        "id": "0-0WPQKNjOdn"
      },
      "source": [
        "### Exercício!\n",
        "\n",
        "Escreva um input que pergunta o nome da mãe e do pai de uma pessoa e depois printa a frase \"Sua mãe chama x e seu pai chama y\" na tela."
      ]
    },
    {
      "cell_type": "code",
      "metadata": {
        "id": "f2oPwfLqjNEV",
        "colab": {
          "base_uri": "https://localhost:8080/"
        },
        "outputId": "aabc25a3-edb6-4a6d-8b29-04866d17e3c0"
      },
      "source": [
        "# complete\n",
        "mãe = input('Qual o nome da sua mãe? ')\n",
        "pai = input('Qual o nome do seu pai? ')\n",
        "\n",
        "print('Sua mãe chama '+ mãe + ' e seu pai chama ' + pai)"
      ],
      "execution_count": null,
      "outputs": [
        {
          "output_type": "stream",
          "text": [
            "Qual o nome da sua mãe? Claudia\n",
            "Qual o nome do seu pai? Carlos\n",
            "Sua mãe chama Claudia e seu pai chama Carlos\n"
          ],
          "name": "stdout"
        }
      ]
    },
    {
      "cell_type": "markdown",
      "metadata": {
        "id": "eK2XBg2H_Q83"
      },
      "source": [
        "## Variáveis e seus tipos\n",
        "\n",
        "Variáveis são um dos recursos mais básicos das linguagens de programação. Utilizadas para armazenar valores em memória, elas nos permitem gravar e ler esses dados com facilidade a partir de um nome definido por nós. \n",
        "\n",
        "Por exemplo, você já atribuiu várias variáveis desde que esse workshop começou, por exemplo as variáveis \"mãe\" e \"pai\" acima!"
      ]
    },
    {
      "cell_type": "code",
      "metadata": {
        "id": "yEzi8mxp_qBQ",
        "colab": {
          "base_uri": "https://localhost:8080/"
        },
        "outputId": "6aa2d3f5-dcbc-4335-8b67-82cb3f819881"
      },
      "source": [
        "nome = 'Felipe'\n",
        "idade = 15 \n",
        "altura = 2.90\n",
        "confere_altura = altura == 2.91\n",
        "\n",
        "print(type(nome))\n",
        "print(type(idade))\n",
        "print(type(altura))\n",
        "print(type(confere_altura))"
      ],
      "execution_count": null,
      "outputs": [
        {
          "output_type": "stream",
          "text": [
            "<class 'str'>\n",
            "<class 'int'>\n",
            "<class 'float'>\n",
            "<class 'bool'>\n"
          ],
          "name": "stdout"
        }
      ]
    },
    {
      "cell_type": "code",
      "metadata": {
        "id": "gxGkWOML__hW",
        "colab": {
          "base_uri": "https://localhost:8080/"
        },
        "outputId": "278e6540-54e4-4e6d-d654-7ecde5cf3780"
      },
      "source": [
        "print(confere_altura)"
      ],
      "execution_count": null,
      "outputs": [
        {
          "output_type": "stream",
          "text": [
            "False\n"
          ],
          "name": "stdout"
        }
      ]
    },
    {
      "cell_type": "code",
      "metadata": {
        "id": "B-eyzQ1GArp5",
        "colab": {
          "base_uri": "https://localhost:8080/"
        },
        "outputId": "bbb8c6d9-688c-47d4-ddd8-82ca0e166494"
      },
      "source": [
        "print(altura == 2.90)"
      ],
      "execution_count": null,
      "outputs": [
        {
          "output_type": "stream",
          "text": [
            "True\n"
          ],
          "name": "stdout"
        }
      ]
    },
    {
      "cell_type": "markdown",
      "metadata": {
        "id": "dPEAwAAdB5oi"
      },
      "source": [
        "### Exercício! \n",
        "\n",
        "Vamos falar sobre arquitetura! Atribua valores a quatro variáveis: `ambiente` (O tipo de cômodo), `altura` (a altura do cômodo), `metros` (quantos metros quadrados tem o ambiente) e `afirmação` (alguma afirmação a respeito de qualquer uma das variáveis atribuídas) depois printe os tipos de cada uma.\n",
        "\n",
        "OBS: Não coloque acento na sua variável"
      ]
    },
    {
      "cell_type": "code",
      "metadata": {
        "id": "kMZ3Jg3xDNNJ",
        "colab": {
          "base_uri": "https://localhost:8080/"
        },
        "outputId": "7d0362fd-c252-45ff-bd21-4374118c1d99"
      },
      "source": [
        "# atribua os valores às variáveis \n",
        "ambiente = 'quarto'\n",
        "altura = 2.30\n",
        "metros = 10\n",
        "afirmacao = metros == 0\n",
        "\n",
        "# printe os tipos\n",
        "print(type(ambiente))\n",
        "print(type(altura))\n",
        "print(type(metros))\n",
        "print(type(afirmacao))"
      ],
      "execution_count": null,
      "outputs": [
        {
          "output_type": "stream",
          "text": [
            "<class 'str'>\n",
            "<class 'float'>\n",
            "<class 'int'>\n",
            "<class 'bool'>\n"
          ],
          "name": "stdout"
        }
      ]
    },
    {
      "cell_type": "code",
      "metadata": {
        "id": "12h4Iicr8Ati",
        "colab": {
          "base_uri": "https://localhost:8080/"
        },
        "outputId": "55bd83bf-686e-400d-fe29-27e970779346"
      },
      "source": [
        "print(afirmacao)"
      ],
      "execution_count": null,
      "outputs": [
        {
          "output_type": "stream",
          "text": [
            "False\n"
          ],
          "name": "stdout"
        }
      ]
    },
    {
      "cell_type": "markdown",
      "metadata": {
        "id": "4cn4J_6kY_hP"
      },
      "source": [
        "## Operações \n"
      ]
    },
    {
      "cell_type": "markdown",
      "metadata": {
        "id": "7IaNmtNaMVAf"
      },
      "source": [
        "### Aritméticas\n",
        "As operações aritméticas podem ser feitas pelo Python assim como você faria numa calculadora, só precisamos decorar qual o equivalente de cada sinal da operação, já que sabemos que, por exemplo, o sinal de \"=\" no python não significa \"igual\", certo?\n",
        "\n",
        "Os sinais para operações no Python: \n",
        "\n",
        "``` \n",
        "== igual\n",
        "+ adição\n",
        "- subtração\n",
        "* multiplicação\n",
        "/ divisão\n",
        "% resto de uma divisão \n",
        "** exponenciação\n",
        "```\n",
        "\n",
        "Vamos fazer algumas operações:"
      ]
    },
    {
      "cell_type": "code",
      "metadata": {
        "id": "iBRNWg6SWU54",
        "colab": {
          "base_uri": "https://localhost:8080/"
        },
        "outputId": "34861bb4-9374-40f7-c160-a615898a41cd"
      },
      "source": [
        "soma = 1 + 3\n",
        "subtracao = 50 - 25\n",
        "multiplicacao = 10 * 5\n",
        "divisao = 30 / 3\n",
        "expo = 2**4\n",
        "\n",
        "print(soma)\n",
        "print(subtracao)\n",
        "print(multiplicacao)\n",
        "print(divisao)\n",
        "print(expo)"
      ],
      "execution_count": null,
      "outputs": [
        {
          "output_type": "stream",
          "text": [
            "4\n",
            "25\n",
            "50\n",
            "10.0\n",
            "16\n"
          ],
          "name": "stdout"
        }
      ]
    },
    {
      "cell_type": "code",
      "metadata": {
        "id": "lwjnRVm6YCjl",
        "colab": {
          "base_uri": "https://localhost:8080/"
        },
        "outputId": "bfe07124-e555-46a3-977c-48ff85f3dcbd"
      },
      "source": [
        "# resto da divisão\n",
        "resto = 56 % 3 \n",
        "print(resto)"
      ],
      "execution_count": null,
      "outputs": [
        {
          "output_type": "stream",
          "text": [
            "2\n"
          ],
          "name": "stdout"
        }
      ]
    },
    {
      "cell_type": "markdown",
      "metadata": {
        "id": "jQ7_iPFdYLZc"
      },
      "source": [
        "Também podemos realizar operações com os números recebidos pelas variáveis:"
      ]
    },
    {
      "cell_type": "code",
      "metadata": {
        "id": "LSsa7doHXViv",
        "colab": {
          "base_uri": "https://localhost:8080/"
        },
        "outputId": "f0f1d98d-85f1-4ec1-a743-caca8dbb1604"
      },
      "source": [
        "num1 = 10\n",
        "num2 = 21 \n",
        "\n",
        "num3 = num1 * num2\n",
        "print(num3)"
      ],
      "execution_count": null,
      "outputs": [
        {
          "output_type": "stream",
          "text": [
            "210\n"
          ],
          "name": "stdout"
        }
      ]
    },
    {
      "cell_type": "markdown",
      "metadata": {
        "id": "prLhWk7ua7nm"
      },
      "source": [
        "#### Exercício"
      ]
    },
    {
      "cell_type": "code",
      "metadata": {
        "id": "1Nowot1Wa0Nj",
        "colab": {
          "base_uri": "https://localhost:8080/"
        },
        "outputId": "78cf2397-575a-4db8-8d71-430c761822cd"
      },
      "source": [
        "# Use este espaço para testar alguma operação!\n",
        "n1 = 2\n",
        "n2 = 4\n",
        "n3 = 10\n",
        "\n",
        "op = (n1 + n3)**n2\n",
        "\n",
        "print(op)"
      ],
      "execution_count": null,
      "outputs": [
        {
          "output_type": "stream",
          "text": [
            "20736\n"
          ],
          "name": "stdout"
        }
      ]
    },
    {
      "cell_type": "markdown",
      "metadata": {
        "id": "8ReLs4sPZR3_"
      },
      "source": [
        "### Booleanas\n",
        "\n",
        "Operações booleanas são formas de realizar comparações, pois quando se compara algo a resposta tende a ser \"Verdadeiro\" ou \"Falso\".\n",
        "\n",
        "Para mais exemplos veja [este vídeo](https://www.youtube.com/watch?v=JN1jHtlRqLA&ab_channel=eXcript)."
      ]
    },
    {
      "cell_type": "code",
      "metadata": {
        "id": "9kXkeaPBMums",
        "colab": {
          "base_uri": "https://localhost:8080/"
        },
        "outputId": "b25f6fc6-7ebb-4e56-bb83-ae8a4c855b60"
      },
      "source": [
        "a = 3\n",
        "b = 4\n",
        "\n",
        "c = a < b   # c recebe o valor da comparação a < b\n",
        "d = a > b   # d recebe o valor da comparação a > b\n",
        "e = a == b  # e recebe o valor da comparação a == b\n",
        "\n",
        "print(\"Valor de c: \", c)\n",
        "print(\"Valor de d: \", d)\n",
        "print(\"Valor de e: \", e)\n"
      ],
      "execution_count": null,
      "outputs": [
        {
          "output_type": "stream",
          "text": [
            "Valor de c:  True\n",
            "Valor de d:  False\n",
            "Valor de e:  False\n"
          ],
          "name": "stdout"
        }
      ]
    },
    {
      "cell_type": "markdown",
      "metadata": {
        "id": "mzlqvaykbH1b"
      },
      "source": [
        "#### Exercício!"
      ]
    },
    {
      "cell_type": "code",
      "metadata": {
        "id": "9-Anls5PMvRJ",
        "colab": {
          "base_uri": "https://localhost:8080/"
        },
        "outputId": "b7496507-6035-4d55-ed3a-2fd66df8ed9b"
      },
      "source": [
        "# Use este espaço para testar alguma operação booleana\n",
        "\n",
        "# vamos experimentar operações booleanas com strings\n",
        "\n",
        "casa = 'casa' # aqui vou criar a variável casa\n",
        "quarto = 'quarto' # aqui criei a variável quarto\n",
        "\n",
        "# ao printar que 'casa' é maior que 'quarto' eu recebi False\n",
        "# porque o que importa é o número de letras!\n",
        "print(casa > quarto)"
      ],
      "execution_count": null,
      "outputs": [
        {
          "output_type": "stream",
          "text": [
            "False\n"
          ],
          "name": "stdout"
        }
      ]
    },
    {
      "cell_type": "markdown",
      "metadata": {
        "id": "XZCfHQSGbfPH"
      },
      "source": [
        "### Lógicas\n",
        "\n",
        "O Python nos fornece uma lista de operadores lógicos para que nós possamos de forma mais fácil, verificar várias condições. Por exemplo, se eu quero saber se \n",
        " é maior que quatro ou menor que quatro, podemos utilizar operações lógicas.\n",
        "\n",
        "Operadores:\n",
        "\n",
        "* and = e\n",
        "* or = ou\n",
        "* not = negação\n",
        "* is not = não é\n",
        "* in = está contido\n",
        "* not in = não está contido\n",
        "\n",
        "\n"
      ]
    },
    {
      "cell_type": "markdown",
      "metadata": {
        "id": "XQyUpe07IW41"
      },
      "source": [
        "#### Operador ```in```\n",
        "\n",
        "Esse operador serve para verificarmos se determinado valor está contido dentro de um certo conjunto de valores. \n",
        "\n",
        "Por exemplo, dado um conjunto de números de 1 a 100, eu quero saber se o valor 102 está no conjunto. Nesse caso eu receberia um \"False\", porque o conjunto vai até 100, apenas."
      ]
    },
    {
      "cell_type": "code",
      "metadata": {
        "colab": {
          "base_uri": "https://localhost:8080/"
        },
        "id": "jG9oA_tJInn1",
        "outputId": "30756534-2a40-49e7-c7c1-04cd694e218a"
      },
      "source": [
        "conjunto = [1,2,3,4,5]\n",
        "\n",
        "print(6 in conjunto)"
      ],
      "execution_count": null,
      "outputs": [
        {
          "output_type": "stream",
          "text": [
            "False\n"
          ],
          "name": "stdout"
        }
      ]
    },
    {
      "cell_type": "markdown",
      "metadata": {
        "id": "CUtfBDYeIuyU"
      },
      "source": [
        "#### Operador ```not in```\n",
        "\n",
        "Esse operador serve para verificarmos se determinado valor NÃO está contido dentro de um certo conjunto de valores. \n",
        "\n",
        "Pensando no mesmo exemplo anterior, onde foi dado um conjunto de números de 1 a 100, se eu quero saber se o valor 102 está no conjunto, dessa vez eu receberia um \"True\", porque 102 realmente não estará no conjunto."
      ]
    },
    {
      "cell_type": "code",
      "metadata": {
        "colab": {
          "base_uri": "https://localhost:8080/"
        },
        "id": "Y-x2wAq0JCQ9",
        "outputId": "a7a98ad8-a582-4a65-ed91-7d495b172583"
      },
      "source": [
        "conjunto2 = [10,20,30,40,50]\n",
        "\n",
        "print(5 not in conjunto2)"
      ],
      "execution_count": null,
      "outputs": [
        {
          "output_type": "stream",
          "text": [
            "True\n"
          ],
          "name": "stdout"
        }
      ]
    },
    {
      "cell_type": "markdown",
      "metadata": {
        "id": "yKj-7uEP7CLx"
      },
      "source": [
        "#### Outros operadores lógicos \n",
        "\n",
        "Cada um funciona de forma diferente, e explicá-los e testá-los um por um demoraria um pouco. Para se aprofundar em todos os operadores e como cada um deles funciona, é só dar uma olhada [neste vídeo](https://www.youtube.com/watch?v=czW7I2CCcUM&ab_channel=eXcript). "
      ]
    },
    {
      "cell_type": "markdown",
      "metadata": {
        "id": "8sGlRaB6FJyu"
      },
      "source": [
        "## Condicionais\n",
        "\n",
        "No nosso dia a dia, é comum executarmos comportamentos diferentes para condições diferentes, certo? Vamos examinar a seguinte frase:\n",
        "\n",
        "   - **Se** chover amanhã, leve um guarda chuva, **caso contrário**, leve um óculos de sol\n",
        "\n",
        "De maneira análoga, frequentemente quando formos criar programas, vamos querer que o computador execute um dado comando apenas quando uma certa condição for verdade. Para isso, vamos usar o comando `if` e `else`: "
      ]
    },
    {
      "cell_type": "code",
      "metadata": {
        "id": "vVj97GWkFJyu",
        "colab": {
          "base_uri": "https://localhost:8080/"
        },
        "outputId": "3c7fab9f-e070-45ba-870d-de1d43ca2165"
      },
      "source": [
        "chuva = True\n",
        "\n",
        "if chuva:\n",
        "    print('Devo levar um guarda chuva!')\n",
        "else:\n",
        "    print('Devo levar um óculos de sol!')"
      ],
      "execution_count": null,
      "outputs": [
        {
          "output_type": "stream",
          "text": [
            "Devo levar um guarda chuva!\n"
          ],
          "name": "stdout"
        }
      ]
    },
    {
      "cell_type": "markdown",
      "metadata": {
        "id": "e3m5VRQJFJyu"
      },
      "source": [
        "Além do `if` e do `else` também podemos aninhar outras condicionais entre esses comandos com o `elif`(abreviação de else if). Não há limites para números de `elif`s que podem ser adicionados. \n",
        "A sintaxe das condicionais vai ser a seguinte: \n",
        "\n",
        "``` python\n",
        "if CONDIÇÃO_1:\n",
        "    COMANDOS_1     # executados se CONDIÇÃO_1 tem valor True\n",
        "\n",
        "elif CONDIÇÃO_2:\n",
        "    COMANDOS_2     # executados se CONDIÇÃO_2 tem valor True\n",
        "\n",
        "else:\n",
        "    COMANDOS_2     # executados se CONDIÇÃO_1 e CONDIÇÃO_2 tem valor False\n",
        "```\n"
      ]
    },
    {
      "cell_type": "markdown",
      "metadata": {
        "id": "P3WxE8x9FJyv"
      },
      "source": [
        "### Exercício 1\n",
        "Escreva um programa que recebe a idade do usuário e, se ele/ela for maior de 18 anos, o computador imprime a mensagem \"Você já pode dirigir!\", caso contrário, o programa deve imprimir \"Você ainda não pode tirar a sua habilitação\". "
      ]
    },
    {
      "cell_type": "code",
      "metadata": {
        "colab": {
          "base_uri": "https://localhost:8080/"
        },
        "id": "yQDLo4rH7gp0",
        "outputId": "f02d8eb6-f016-45aa-b0a1-b6055123a57a"
      },
      "source": [
        "idade = int(input('Qual sua idade? '))\n",
        "\n",
        "if idade >= 18:\n",
        "  print('Você pode dirigir')\n",
        "\n",
        "else:\n",
        "  print('Você não pode dirigir')"
      ],
      "execution_count": 3,
      "outputs": [
        {
          "output_type": "stream",
          "text": [
            "Qual sua idade? 21\n",
            "Você pode dirigir\n"
          ],
          "name": "stdout"
        }
      ]
    },
    {
      "cell_type": "markdown",
      "metadata": {
        "id": "xK82-B6wFJyv"
      },
      "source": [
        "### Exercício 2\n",
        "\n",
        "Faça um programa que recebe um número e diz se ele é par ou ímpar"
      ]
    },
    {
      "cell_type": "code",
      "metadata": {
        "id": "GLlYjPhFFJyv",
        "colab": {
          "base_uri": "https://localhost:8080/"
        },
        "outputId": "db2021ea-7c03-4833-ed09-473b6a23e176"
      },
      "source": [
        "num = int(input('Digite um número: '))\n",
        "\n",
        "if num % 2 == 0:\n",
        "    print('O número que você digitou é par.') \n",
        "\n",
        "else:\n",
        "    print('O número que você digitou é ímpar') \n",
        "    "
      ],
      "execution_count": null,
      "outputs": [
        {
          "output_type": "stream",
          "text": [
            "Digite um número: 65\n",
            "O número que você digitou é ímpar\n"
          ],
          "name": "stdout"
        }
      ]
    },
    {
      "cell_type": "markdown",
      "metadata": {
        "id": "GvSdmjmtFJyw"
      },
      "source": [
        "### Exercício 3\n",
        "Faça um programa que realiza o cálculo do IMC de uma pessoa e retorna a categoria em que ela se encontra. O cálculo do IMC é dado pela seguinte fórmula:  \n",
        "    $IMC = peso / altura^2$ \n",
        "    (peso em kg e altura em metros)\n",
        "    \n",
        "Use os seguintes indicadores para retornar a categoria da pessoa:  \n",
        "\n",
        "- IMC < 19.99 : Subpeso \n",
        "- IMC 20 a 24.99 : Normal\n",
        "- IMC 25 a 29.99 : Sobrepeso\n",
        "- IMC 30 a 39.99 : Obeso\n",
        "- IMC > 40 : Obeso mórbido"
      ]
    },
    {
      "cell_type": "code",
      "metadata": {
        "id": "YsbevjQGFJyw",
        "colab": {
          "base_uri": "https://localhost:8080/"
        },
        "outputId": "fb68dca1-03a8-431d-9feb-873301a2e721"
      },
      "source": [
        "altura = float(input(\"Qual e a altura? \"))\n",
        "peso = float(input(\"Qual e o peso? \"))\n",
        "\n",
        "imc = peso/altura**2\n",
        "\n",
        "if imc <= 19.99:\n",
        "  print(\"Seu imc é \", imc, \"Subpeso\")\n",
        "\n",
        "elif 20 < imc <= 24.99:\n",
        "  print(\"Seu imc é \", imc,'Normal')\n",
        "\n",
        "elif 25 <= imc <= 29.99:\n",
        "  print(\"Seu imc é \", imc,\"Sobrepeso\")\n",
        "\n",
        "elif  30 <=imc <= 39.99:\n",
        "  print(\"Seu imc é \", imc,\"Obeso\")\n",
        "  \n",
        "else:\n",
        "  print(\"Seu imc é \", imc,\"Obeso Mórbido\")"
      ],
      "execution_count": 18,
      "outputs": [
        {
          "output_type": "stream",
          "text": [
            "Qual e a altura? 1.60\n",
            "Qual e o peso? 63\n",
            "Seu imc é  24.609374999999996 Normal\n"
          ],
          "name": "stdout"
        }
      ]
    },
    {
      "cell_type": "markdown",
      "metadata": {
        "id": "hfxOOyp8FJyw"
      },
      "source": [
        "## Listas\n",
        "Uma lista em Python é uma sequência ou coleção ordenada de valores. Cada valor na lista é identificado por um índice. As listas são similares a strings, que são uma sequência de caracteres, no entanto, diferentemente de strings, os itens de uma lista podem ser de tipos diferentes."
      ]
    },
    {
      "cell_type": "code",
      "metadata": {
        "id": "UOCtIEBiFJyx",
        "colab": {
          "base_uri": "https://localhost:8080/"
        },
        "outputId": "9a7b0b45-7ec0-4896-b538-38eb7a9d6983"
      },
      "source": [
        "lista = [1, 2, 3, 4, 5]\n",
        "print(lista)\n",
        "print(type(lista))"
      ],
      "execution_count": null,
      "outputs": [
        {
          "output_type": "stream",
          "text": [
            "[1, 2, 3, 4, 5]\n",
            "<class 'list'>\n"
          ],
          "name": "stdout"
        }
      ]
    },
    {
      "cell_type": "code",
      "metadata": {
        "id": "3loCjn0UFJyx",
        "colab": {
          "base_uri": "https://localhost:8080/"
        },
        "outputId": "33583fe0-fcd0-4543-ab60-3627bdbd167e"
      },
      "source": [
        "lista2 = [1, 'oi', 3.14, True]\n",
        "print(lista2)\n",
        "print(type(lista2))"
      ],
      "execution_count": null,
      "outputs": [
        {
          "output_type": "stream",
          "text": [
            "[1, 'oi', 3.14, True]\n",
            "<class 'list'>\n"
          ],
          "name": "stdout"
        }
      ]
    },
    {
      "cell_type": "markdown",
      "metadata": {
        "id": "Kl47hz5sFJyx"
      },
      "source": [
        "Podemos até mesmo criar listas dentro de listas: "
      ]
    },
    {
      "cell_type": "code",
      "metadata": {
        "id": "dVNx6IL7FJyx",
        "colab": {
          "base_uri": "https://localhost:8080/"
        },
        "outputId": "bac1f297-67e1-4eae-9759-de60e58ec6cd"
      },
      "source": [
        "listas = [[1, 2, 3], [4, 5, 6], [7, 8, 9]]\n",
        "print(listas)\n",
        "print(type(listas))"
      ],
      "execution_count": null,
      "outputs": [
        {
          "output_type": "stream",
          "text": [
            "[[1, 2, 3], [4, 5, 6], [7, 8, 9]]\n",
            "<class 'list'>\n"
          ],
          "name": "stdout"
        }
      ]
    },
    {
      "cell_type": "markdown",
      "metadata": {
        "id": "VMioB6PNFJyy"
      },
      "source": [
        "Se quisermos saber o comprimento de uma lista, utilizamos a função `len()`"
      ]
    },
    {
      "cell_type": "code",
      "metadata": {
        "id": "43V8ERZaFJyy",
        "colab": {
          "base_uri": "https://localhost:8080/"
        },
        "outputId": "c3d01985-5d28-4981-cab2-253a4e84b436"
      },
      "source": [
        "print(lista, len(lista))\n",
        "print(lista2, len(lista2))\n",
        "print(listas, len(listas))"
      ],
      "execution_count": null,
      "outputs": [
        {
          "output_type": "stream",
          "text": [
            "[1, 2, 3, 4, 5] 5\n",
            "[1, 'oi', 3.14, True] 4\n",
            "[[1, 2, 3], [4, 5, 6], [7, 8, 9]] 3\n"
          ],
          "name": "stdout"
        }
      ]
    },
    {
      "cell_type": "markdown",
      "metadata": {
        "id": "movq4EWPFJyy"
      },
      "source": [
        "**Acessando elementos**\n",
        "\n",
        "A sintaxe para acessar um elemento de uma lista é a mesma usada para acessar um caractere de um string. Nós usamos o operador de indexação - `[]` . A expressão dentro dos colchetes especifica o índice. Lembre-se que o índice do primeiro elemento é 0!"
      ]
    },
    {
      "cell_type": "code",
      "metadata": {
        "id": "BCq7IyZyFJyy",
        "colab": {
          "base_uri": "https://localhost:8080/"
        },
        "outputId": "10223bc7-7b56-41c2-b1de-cf598964a5d6"
      },
      "source": [
        "lista[0]"
      ],
      "execution_count": null,
      "outputs": [
        {
          "output_type": "execute_result",
          "data": {
            "text/plain": [
              "1"
            ]
          },
          "metadata": {
            "tags": []
          },
          "execution_count": 38
        }
      ]
    },
    {
      "cell_type": "code",
      "metadata": {
        "id": "immiKy1IFJyz",
        "colab": {
          "base_uri": "https://localhost:8080/"
        },
        "outputId": "d30644b4-0f03-44fa-d3aa-a86e1dc1266d"
      },
      "source": [
        "lista2[1:3]"
      ],
      "execution_count": null,
      "outputs": [
        {
          "output_type": "execute_result",
          "data": {
            "text/plain": [
              "['oi', 3.14]"
            ]
          },
          "metadata": {
            "tags": []
          },
          "execution_count": 39
        }
      ]
    },
    {
      "cell_type": "code",
      "metadata": {
        "id": "K9DDYGLlFJyz",
        "colab": {
          "base_uri": "https://localhost:8080/"
        },
        "outputId": "1aedc145-c03c-433b-e655-561b4a182adb"
      },
      "source": [
        "listas[-1]"
      ],
      "execution_count": null,
      "outputs": [
        {
          "output_type": "execute_result",
          "data": {
            "text/plain": [
              "[7, 8, 9]"
            ]
          },
          "metadata": {
            "tags": []
          },
          "execution_count": 40
        }
      ]
    },
    {
      "cell_type": "code",
      "metadata": {
        "id": "Wu_PdDkVFJyz",
        "colab": {
          "base_uri": "https://localhost:8080/"
        },
        "outputId": "229437c7-e768-4634-ed46-4eeb7c698cac"
      },
      "source": [
        "# Selecione o último elemento da última sublista em 'listas'\n",
        "listas[-1][-1]"
      ],
      "execution_count": null,
      "outputs": [
        {
          "output_type": "execute_result",
          "data": {
            "text/plain": [
              "9"
            ]
          },
          "metadata": {
            "tags": []
          },
          "execution_count": 41
        }
      ]
    },
    {
      "cell_type": "markdown",
      "metadata": {
        "id": "9QCiZ_8IFJyz"
      },
      "source": [
        "**Pertinência em uma lista**\n",
        "\n",
        "Podemos usar os operadores booleanos `in` e `not in` para verificar se um elemento pertence a uma lista ou não:\n"
      ]
    },
    {
      "cell_type": "code",
      "metadata": {
        "id": "XYJpuXS-FJy0"
      },
      "source": [
        "compras = ['leite', 'batata', 'manteiga', 'ovos', 'cenoura']"
      ],
      "execution_count": null,
      "outputs": []
    },
    {
      "cell_type": "code",
      "metadata": {
        "id": "zgiqhUbyFJy0",
        "colab": {
          "base_uri": "https://localhost:8080/"
        },
        "outputId": "ba5a7ff1-a34a-4d2b-bb61-7881a14a0f13"
      },
      "source": [
        "'banana' in compras"
      ],
      "execution_count": null,
      "outputs": [
        {
          "output_type": "execute_result",
          "data": {
            "text/plain": [
              "False"
            ]
          },
          "metadata": {
            "tags": []
          },
          "execution_count": 43
        }
      ]
    },
    {
      "cell_type": "code",
      "metadata": {
        "id": "98BZ0pWZFJy0",
        "colab": {
          "base_uri": "https://localhost:8080/"
        },
        "outputId": "42eafd16-ffc8-4ddd-a2de-378df610cf48"
      },
      "source": [
        "'manteiga' in compras"
      ],
      "execution_count": null,
      "outputs": [
        {
          "output_type": "execute_result",
          "data": {
            "text/plain": [
              "True"
            ]
          },
          "metadata": {
            "tags": []
          },
          "execution_count": 44
        }
      ]
    },
    {
      "cell_type": "code",
      "metadata": {
        "id": "8oXCXSAeFJy0",
        "colab": {
          "base_uri": "https://localhost:8080/"
        },
        "outputId": "93f2f356-9cd1-460e-b9a4-601464c47a7c"
      },
      "source": [
        "'ovos' not in compras"
      ],
      "execution_count": null,
      "outputs": [
        {
          "output_type": "execute_result",
          "data": {
            "text/plain": [
              "False"
            ]
          },
          "metadata": {
            "tags": []
          },
          "execution_count": 45
        }
      ]
    },
    {
      "cell_type": "markdown",
      "metadata": {
        "id": "dx1lImu-FJy1"
      },
      "source": [
        "**`.append()`**\n",
        "\n",
        "Podemos facilmente inserir novos itens em uma lista utilizando o método `append`. Esse método vai se mostrar muito útil quando estivermos trabalhando com loops.\n"
      ]
    },
    {
      "cell_type": "code",
      "metadata": {
        "id": "_2A19ElSFJy1"
      },
      "source": [
        "estados_sudeste = ['SP', 'RJ', 'MG']"
      ],
      "execution_count": null,
      "outputs": []
    },
    {
      "cell_type": "code",
      "metadata": {
        "id": "UTYBfamnFJy2"
      },
      "source": [
        "estados_sudeste.append('ES')"
      ],
      "execution_count": null,
      "outputs": []
    },
    {
      "cell_type": "code",
      "metadata": {
        "id": "DLcSsiL2FJy3",
        "colab": {
          "base_uri": "https://localhost:8080/"
        },
        "outputId": "025f849a-3a3a-498d-f277-451d0c7cca91"
      },
      "source": [
        "estados_sudeste"
      ],
      "execution_count": null,
      "outputs": [
        {
          "output_type": "execute_result",
          "data": {
            "text/plain": [
              "['SP', 'RJ', 'MG', 'ES']"
            ]
          },
          "metadata": {
            "tags": []
          },
          "execution_count": 48
        }
      ]
    },
    {
      "cell_type": "markdown",
      "metadata": {
        "id": "4nTw3zdDFJy4"
      },
      "source": [
        "### Atenção! Listas são mutáveis! \n",
        "Uma propriedade importante das listas é que elas são mutáveis, ou seja, podemos alterar um item de uma lista acessando-o diretamente como parte do comando de atribuição. Vamos ver isso na prática: "
      ]
    },
    {
      "cell_type": "code",
      "metadata": {
        "id": "COd8uL-SFJy4"
      },
      "source": [
        "exemplo = [1, 2, 3, 4, 5, 6, 7, 8, 9, 10]"
      ],
      "execution_count": null,
      "outputs": []
    },
    {
      "cell_type": "code",
      "metadata": {
        "id": "yTgF7uoxFJy4",
        "colab": {
          "base_uri": "https://localhost:8080/"
        },
        "outputId": "088cf228-2303-470a-f1e6-76d8280bfeea"
      },
      "source": [
        "exemplo[2]"
      ],
      "execution_count": null,
      "outputs": [
        {
          "output_type": "execute_result",
          "data": {
            "text/plain": [
              "3"
            ]
          },
          "metadata": {
            "tags": []
          },
          "execution_count": 50
        }
      ]
    },
    {
      "cell_type": "code",
      "metadata": {
        "id": "JMSKBA99FJy5"
      },
      "source": [
        "exemplo[2] = 3678964"
      ],
      "execution_count": null,
      "outputs": []
    },
    {
      "cell_type": "code",
      "metadata": {
        "id": "uVthTNdAFJy5",
        "colab": {
          "base_uri": "https://localhost:8080/"
        },
        "outputId": "66932b44-61be-49ae-aa15-ac1e60cde051"
      },
      "source": [
        "exemplo"
      ],
      "execution_count": null,
      "outputs": [
        {
          "output_type": "execute_result",
          "data": {
            "text/plain": [
              "[1, 2, 3678964, 4, 5, 6, 7, 8, 9, 10]"
            ]
          },
          "metadata": {
            "tags": []
          },
          "execution_count": 52
        }
      ]
    },
    {
      "cell_type": "markdown",
      "metadata": {
        "id": "oeQjEwtjFJy5"
      },
      "source": [
        "Se quisermos \"preservar\" a lista original podemos criar um *clone* da lista e então alterar apenas essa versão: "
      ]
    },
    {
      "cell_type": "code",
      "metadata": {
        "id": "30q5jgheFJy5"
      },
      "source": [
        "exemplo = [1, 2, 3, 4, 5, 6, 7, 8, 9, 10]"
      ],
      "execution_count": null,
      "outputs": []
    },
    {
      "cell_type": "code",
      "metadata": {
        "id": "wiefxU8VFJy6"
      },
      "source": [
        "clone = exemplo[:]"
      ],
      "execution_count": null,
      "outputs": []
    },
    {
      "cell_type": "code",
      "metadata": {
        "id": "r4xFQQ7eFJy6"
      },
      "source": [
        "clone[2] = 3678964"
      ],
      "execution_count": null,
      "outputs": []
    },
    {
      "cell_type": "code",
      "metadata": {
        "id": "gWc6Dq8PFJy6",
        "colab": {
          "base_uri": "https://localhost:8080/"
        },
        "outputId": "fe320d95-8026-4dd3-ac10-aceeca5295ab"
      },
      "source": [
        "print(exemplo)\n",
        "print(clone)"
      ],
      "execution_count": null,
      "outputs": [
        {
          "output_type": "stream",
          "text": [
            "[1, 2, 3, 4, 5, 6, 7, 8, 9, 10]\n",
            "[1, 2, 3678964, 4, 5, 6, 7, 8, 9, 10]\n"
          ],
          "name": "stdout"
        }
      ]
    },
    {
      "cell_type": "markdown",
      "metadata": {
        "id": "uFJ971ViFJy6"
      },
      "source": [
        "### Exercício 1 \n",
        "Faça um programa que recebe um item e verifica se ele já foi colocado na lista de compras ou não "
      ]
    },
    {
      "cell_type": "code",
      "metadata": {
        "id": "ZLPazsp5FJy7",
        "colab": {
          "base_uri": "https://localhost:8080/"
        },
        "outputId": "abb543a9-186d-4ab8-805c-e0248faaf7fe"
      },
      "source": [
        "novo_item = input('Insira um novo item: ')\n",
        "lista_de_compras = ['ovos', 'manteiga', 'leite', 'laranja']\n",
        "\n",
        "if novo_item in lista_de_compras:\n",
        "    print('O novo item está na lista de compras!')\n",
        "else:\n",
        "    print('O novo item não está na lista de compras!')"
      ],
      "execution_count": null,
      "outputs": [
        {
          "output_type": "stream",
          "text": [
            "Insira um novo item: ovos\n",
            "O novo item está na lista de compras!\n"
          ],
          "name": "stdout"
        }
      ]
    },
    {
      "cell_type": "markdown",
      "metadata": {
        "id": "GEQ-EHjxFJy8"
      },
      "source": [
        "### Exercício 2 \n",
        "Altere o programa anterior para inserir o novo item caso ele não esteja na lista ainda"
      ]
    },
    {
      "cell_type": "code",
      "metadata": {
        "id": "1Ggb1JFaFJy8",
        "colab": {
          "base_uri": "https://localhost:8080/"
        },
        "outputId": "8aa4d63a-8c48-4c47-b28c-61c587664ae6"
      },
      "source": [
        "novo_item = input('Insira um novo item: ')\n",
        "lista_de_compras = ['ovos', 'manteiga', 'leite', 'laranja']\n",
        "\n",
        "if novo_item in lista_de_compras:\n",
        "    print('O novo item está na lista de compras!')\n",
        "else:\n",
        "    lista_de_compras.append(novo_item)\n",
        "    \n",
        "print(lista_de_compras)"
      ],
      "execution_count": null,
      "outputs": [
        {
          "output_type": "stream",
          "text": [
            "Insira um novo item: abacate\n",
            "['ovos', 'manteiga', 'leite', 'laranja', 'abacate']\n"
          ],
          "name": "stdout"
        }
      ]
    },
    {
      "cell_type": "markdown",
      "metadata": {
        "id": "cCK93K2GFJy9"
      },
      "source": [
        "## Range"
      ]
    },
    {
      "cell_type": "markdown",
      "metadata": {
        "id": "LypGcPUnFJy9"
      },
      "source": [
        "O range não é nada mais do que uma forma rápida de criar uma sequência de números dentro de um determinado intervalo. Essa função aceita até 3 argumentos e, a partir deles, podemos decidir em que número a série começará, em qual ela terminará e qual será a diferença entre os números da série."
      ]
    },
    {
      "cell_type": "code",
      "metadata": {
        "id": "uTHzfdspFJy-",
        "colab": {
          "base_uri": "https://localhost:8080/"
        },
        "outputId": "f2bc6d29-595b-4966-825a-45677bde9661"
      },
      "source": [
        "exemplo1 = list(range(1,10,2))\n",
        "print(exemplo1)"
      ],
      "execution_count": null,
      "outputs": [
        {
          "output_type": "stream",
          "text": [
            "[1, 3, 5, 7, 9]\n"
          ],
          "name": "stdout"
        }
      ]
    },
    {
      "cell_type": "markdown",
      "metadata": {
        "id": "re5wWGkrFJy-"
      },
      "source": [
        "Na ausência dos argumentos de número inicial e intervalo entre os números, por padrão, o programa considera que o número inicial será o 0 e irá aumentando de 1 em 1."
      ]
    },
    {
      "cell_type": "code",
      "metadata": {
        "id": "j8XZzjBSFJy-",
        "colab": {
          "base_uri": "https://localhost:8080/"
        },
        "outputId": "5f75f016-da77-43df-adce-18bbbbf3de56"
      },
      "source": [
        "exemplo2 = list(range(5))\n",
        "print(exemplo2)"
      ],
      "execution_count": null,
      "outputs": [
        {
          "output_type": "stream",
          "text": [
            "[0, 1, 2, 3, 4]\n"
          ],
          "name": "stdout"
        }
      ]
    },
    {
      "cell_type": "markdown",
      "metadata": {
        "id": "eZWu6uhkFJy-"
      },
      "source": [
        "Atenção: nos exemplos coloquei list() para facilitar a visualização do que ocorre no range. Contudo, a função range() não é uma variável do tipo lista"
      ]
    },
    {
      "cell_type": "code",
      "metadata": {
        "id": "HIHcUiLCFJy_",
        "colab": {
          "base_uri": "https://localhost:8080/"
        },
        "outputId": "59422efd-c384-4136-8229-71e30519b9a1"
      },
      "source": [
        "print(range(5))\n",
        "print(type(range(5)))"
      ],
      "execution_count": null,
      "outputs": [
        {
          "output_type": "stream",
          "text": [
            "range(0, 5)\n",
            "<class 'range'>\n"
          ],
          "name": "stdout"
        }
      ]
    },
    {
      "cell_type": "markdown",
      "metadata": {
        "id": "gLt3lqdfFJy_"
      },
      "source": [
        "#### Exercício"
      ]
    },
    {
      "cell_type": "markdown",
      "metadata": {
        "id": "NWOqnw9IFJy_"
      },
      "source": [
        "Usando a função range, crie e dê print() em uma lista com uma sequência de números que aumentam de 2 em 2, que começa com o número 0 e termina com o número 16."
      ]
    },
    {
      "cell_type": "code",
      "metadata": {
        "id": "0m4jj9PxFJy_",
        "colab": {
          "base_uri": "https://localhost:8080/"
        },
        "outputId": "f4fa16cc-03f2-4f18-8e13-2acfc317d2aa"
      },
      "source": [
        "exercicio = list(range(0,17,2))\n",
        "print(exercicio)"
      ],
      "execution_count": null,
      "outputs": [
        {
          "output_type": "stream",
          "text": [
            "[0, 2, 4, 6, 8, 10, 12, 14, 16]\n"
          ],
          "name": "stdout"
        }
      ]
    },
    {
      "cell_type": "markdown",
      "metadata": {
        "id": "BEMkwQF_FJzA"
      },
      "source": [
        "## Loops"
      ]
    },
    {
      "cell_type": "markdown",
      "metadata": {
        "id": "zkzx3OBGFJzA"
      },
      "source": [
        "Os loops são utilizados para quando queremos que uma série de comandos de códigos seja feita repetidamente até uma certa condição ou número de repetições ser satisfeita"
      ]
    },
    {
      "cell_type": "markdown",
      "metadata": {
        "id": "flCqW33qFJzA"
      },
      "source": [
        "### While Loops\n",
        "Os loops while são usados para repetir os comandos até uma determinada condição booleana ser satisfeita. Vale destacar que se essa condição não é inicialmente satisfeita, o loop while não roda."
      ]
    },
    {
      "cell_type": "code",
      "metadata": {
        "id": "jdOggEryFJzA",
        "colab": {
          "base_uri": "https://localhost:8080/"
        },
        "outputId": "b1ede249-93b0-4cce-d990-1a74451ca43b"
      },
      "source": [
        "#Exemplo 1\n",
        "n = 1\n",
        "while n <= 5:\n",
        "    print(n)\n",
        "    n += 1 # isso é o mesmo que escrever n = n + 1"
      ],
      "execution_count": null,
      "outputs": [
        {
          "output_type": "stream",
          "text": [
            "1\n",
            "2\n",
            "3\n",
            "4\n",
            "5\n"
          ],
          "name": "stdout"
        }
      ]
    },
    {
      "cell_type": "code",
      "metadata": {
        "id": "AwybeFTqFJzB"
      },
      "source": [
        "#Exemplo 2\n",
        "n = 6\n",
        "while n <= 5:\n",
        "    print(n)\n",
        "    n += 1"
      ],
      "execution_count": null,
      "outputs": []
    },
    {
      "cell_type": "markdown",
      "metadata": {
        "id": "HnJbinFuFJzB"
      },
      "source": [
        "Agora vamos testar uma aplicação um pouco mais robusta. Utilizando o loop while, calcularemos o fatorial de um número. Lembrando que o fatorial é a multiplicação do número pelo número imediatamente anterior e assim sucessivamente até chegar no número 1. Ex.: 3! = 3x2x1"
      ]
    },
    {
      "cell_type": "code",
      "metadata": {
        "id": "LjELezRYFJzB",
        "colab": {
          "base_uri": "https://localhost:8080/"
        },
        "outputId": "ca5e79bb-e59f-4096-dbe9-ce4f3e0c0781"
      },
      "source": [
        "#Fatorial\n",
        "num = int(input('Escolha um número! '))\n",
        "multiplicador = num\n",
        "fatorial = 1\n",
        "while multiplicador > 1: \n",
        "    fatorial *= multiplicador\n",
        "    multiplicador -= 1\n",
        "print(\"O fatorial de %d é %d\"%(num,fatorial))"
      ],
      "execution_count": null,
      "outputs": [
        {
          "output_type": "stream",
          "text": [
            "Escolha um número! 6\n",
            "O fatorial de 6 é 720\n"
          ],
          "name": "stdout"
        }
      ]
    },
    {
      "cell_type": "markdown",
      "metadata": {
        "id": "L8f34DlfFJzB"
      },
      "source": [
        "####  Exercício \n",
        "Vamos supor que você queira dar uma sequência de números, que terminará em 0, e obter como output a soma desses números. Faça um código que te permita fazê-lo utilizando um while loop."
      ]
    },
    {
      "cell_type": "code",
      "metadata": {
        "id": "y4nfwBMQFJzC"
      },
      "source": [
        "...\n",
        "while ....:\n",
        "    num = ...\n",
        "    print(...)"
      ],
      "execution_count": null,
      "outputs": []
    },
    {
      "cell_type": "markdown",
      "metadata": {
        "id": "jC6EWzjIFJzC"
      },
      "source": [
        "### For loops\n",
        "Os loops com \"for\" iteram dentro de uma dada sequência. Normalmente, é usado quando queremos que uma série de comandos sejam repetidos por uma quantidade de vezes específica. "
      ]
    },
    {
      "cell_type": "code",
      "metadata": {
        "id": "lAhTME0PFJzC"
      },
      "source": [
        "#Exemplo 1 - Queremos criar uma lista com os nomes de um determinado número de alunos\n",
        "num = int(input(\"Insira o número de alunos: \"))\n",
        "lista = []\n",
        "for i in range(num):\n",
        "    nome = input(\"Insira o nome do aluno: \")\n",
        "    lista.append(nome)\n",
        "print(lista)"
      ],
      "execution_count": null,
      "outputs": []
    },
    {
      "cell_type": "markdown",
      "metadata": {
        "id": "AhMLF_sZFJzD"
      },
      "source": [
        "Outra aplicação é para iterar em uma lista. "
      ]
    },
    {
      "cell_type": "code",
      "metadata": {
        "id": "NzEgrwTWFJzD"
      },
      "source": [
        "# Vamos fazer um código que devolve os números pares de uma lista de números dados\n",
        "numeros = [4,0,8,17,58,29]\n",
        "for num in numeros:\n",
        "    if num % 2 == 0:\n",
        "        print(num)"
      ],
      "execution_count": null,
      "outputs": []
    },
    {
      "cell_type": "markdown",
      "metadata": {
        "id": "bvsZ_axKFJzD"
      },
      "source": [
        "#### Exercício\n",
        "Faça um código que dê como output quantos números entre 1 e 5.000.000 são divisíveis por 2, 37 e 49"
      ]
    },
    {
      "cell_type": "code",
      "metadata": {
        "id": "XDT6IjUBFJzE"
      },
      "source": [
        "for ...\n",
        "...\n",
        "print(...)"
      ],
      "execution_count": null,
      "outputs": []
    },
    {
      "cell_type": "markdown",
      "metadata": {
        "id": "_9xXticCFJzE"
      },
      "source": [
        "### Elementos Break e Continue\n",
        "Tem algumas funções que podem nos ajudar a controlar o fluxo dos nossos loops. O \"continue\" faz com que pulemos o bloco de comando e voltemos para o comando do loop. Já o \"break\" é usado para quebrar o loop e, portanto, sair dele."
      ]
    },
    {
      "cell_type": "code",
      "metadata": {
        "id": "XuFijqzEFJzE"
      },
      "source": [
        "#Exemplo 1: um código que printa os números impares entre 0 e 10.\n",
        "for i in range(10):\n",
        "    if i % 2 == 0:\n",
        "        continue #se o número for par, o código voltará para o \"for\" e o número não será printado\n",
        "    print(i)"
      ],
      "execution_count": null,
      "outputs": []
    },
    {
      "cell_type": "code",
      "metadata": {
        "id": "g_RnXJZJFJzF"
      },
      "source": [
        "#Exemplo 2: printar todos os números entre 1 e 10 que são menores que 5\n",
        "for i in range(10):\n",
        "    if i == 5:\n",
        "        break\n",
        "    print(i)"
      ],
      "execution_count": null,
      "outputs": []
    },
    {
      "cell_type": "markdown",
      "metadata": {
        "id": "e81EyI0wFJzF"
      },
      "source": [
        "#### Exercício\n",
        "Faça um código que crie e printe uma lista com todos os números pares da lista dada (numbers) que aparecem na lista antes do número 237"
      ]
    },
    {
      "cell_type": "code",
      "metadata": {
        "id": "pbL-QCjhFJzG"
      },
      "source": [
        "numbers = [\n",
        "    951, 402, 984, 651, 360, 69, 408, 319, 601, 485, 980, 507, 725, 547, 544,\n",
        "    615, 83, 165, 141, 501, 263, 617, 865, 575, 219, 390, 984, 592, 236, 105, 942, 941,\n",
        "    386, 462, 47, 418, 907, 344, 236, 375, 823, 566, 597, 978, 328, 615, 953, 345,\n",
        "    399, 162, 758, 219, 918, 237, 412, 566, 826, 248, 866, 950, 626, 949, 687, 217,\n",
        "    815, 67, 104, 58, 512, 24, 892, 894, 767, 553, 81, 379, 843, 831, 445, 742, 717,\n",
        "    958, 609, 842, 451, 688, 753, 854, 685, 93, 857, 440, 380, 126, 721, 328, 753, 470,\n",
        "    743, 527\n",
        "]\n",
        "...\n",
        "for ...\n",
        "...\n",
        "print(...)"
      ],
      "execution_count": null,
      "outputs": []
    },
    {
      "cell_type": "markdown",
      "metadata": {
        "id": "BBgJJUUfFJzG"
      },
      "source": [
        "### Loop dentro de loop\n",
        "Há casos em que podemos precisar colocar vários loops encadeados. "
      ]
    },
    {
      "cell_type": "code",
      "metadata": {
        "id": "pfRuAuspFJzH"
      },
      "source": [
        "#Exemplo 1: vamos criar um código que recebe uma lista com listas e retorna uma lista com os \n",
        "#números presentes em todas essas listas sem repetição\n",
        "lista = [[1,2,3,4], [2,5,7],[15,2,20],[15,10,62]]\n",
        "lista_sep = []\n",
        "for i in lista:\n",
        "    for j in i:\n",
        "        if j not in lista_sep:\n",
        "            lista_sep.append(j)\n",
        "print(lista_sep)"
      ],
      "execution_count": null,
      "outputs": []
    },
    {
      "cell_type": "markdown",
      "metadata": {
        "id": "hq1qszoGFJzI"
      },
      "source": [
        "#### Exercício\n",
        "Faça um código que retorne uma lista com os números primos de 1 a 50."
      ]
    },
    {
      "cell_type": "code",
      "metadata": {
        "id": "C8ARFLapFJzJ"
      },
      "source": [
        "primos = []\n",
        "for ...\n",
        "    ...\n",
        "    for ...\n",
        "        if ...:\n",
        "            ...\n",
        "    if ...:\n",
        "        ...\n",
        "print(primos)"
      ],
      "execution_count": null,
      "outputs": []
    },
    {
      "cell_type": "markdown",
      "metadata": {
        "id": "Blrvm3q_FJzJ"
      },
      "source": [
        "### Cuidado!!\n",
        "Cuidado para não criar loops infinitos. Eles ocorrem principalmente nos for loops, quando a condição para a quebra do looping nunca ocorre, fazendo o código rodar infinitamente."
      ]
    },
    {
      "cell_type": "code",
      "metadata": {
        "id": "OvAd0A5hFJzK"
      },
      "source": [
        "#Exemplo de loop infinito\n",
        "i = 0\n",
        "while i < 5:\n",
        "    if i % 2 != 0:\n",
        "        print(\"%d é ímpar\"%(i))"
      ],
      "execution_count": null,
      "outputs": []
    },
    {
      "cell_type": "markdown",
      "metadata": {
        "id": "VPL0WB58FJzK"
      },
      "source": [
        "#### Saindo um pouco dos exemplos numéricos..."
      ]
    },
    {
      "cell_type": "code",
      "metadata": {
        "id": "6Y0znSjpFJzL"
      },
      "source": [
        "consoantes = [\"q\",'w','r','t','y','p','s','d','f','g','h','j','k','l','z','x','c','v','b','n','m']\n",
        "vogais = ['e','i','u','o','a']\n",
        "nome = input(\"Insira seu nome: \")\n",
        "num_vog = 0\n",
        "num_cons = 0\n",
        "letras = []\n",
        "for letra in nome.lower():\n",
        "    if letra in letras:\n",
        "        continue\n",
        "    letras.append(letra)\n",
        "for letra in letras:\n",
        "    if letra in vogais:\n",
        "        num_vog +=1\n",
        "    if letra in consoantes:\n",
        "        num_cons +=1\n",
        "print(\"Consoantes: %d e vogais: %d\"%(num_cons, num_vog))"
      ],
      "execution_count": null,
      "outputs": []
    },
    {
      "cell_type": "markdown",
      "metadata": {
        "id": "QeD0j3qlFJzL"
      },
      "source": [
        "# Funções\n",
        "## O que são Funções?\n",
        "\n",
        "Uma função é um bloco de código que contém uma sequência de comandos que executa alguma tarefa. São utilizadas para executar determinadas tarefas que normalmente precisam ser executadas diversas vezes dentro de uma aplicação. Dessa forma, não é necessário repetir as mesmas linhas de código sempre que se quiser realizar determinada tarefa! "
      ]
    },
    {
      "cell_type": "markdown",
      "metadata": {
        "id": "XH_XbU_qFJzM"
      },
      "source": [
        "## E como é a estrutura de uma função?\n",
        "\n",
        "A função pode apenas manipular os valores...\n",
        "\n",
        "```\n",
        "def NOME (PARAMETROS):\n",
        "  COMANDOS\n",
        "```\n",
        "\n",
        "ou retornar algum valor (usando a palavra reservada return)..\n",
        "\n",
        "```\n",
        "def NOME (PARAMETROS):\n",
        "  COMANDOS\n",
        "  return VALOR_DESEJADO\n",
        "```"
      ]
    },
    {
      "cell_type": "markdown",
      "metadata": {
        "id": "HlUXpKirFJzM"
      },
      "source": [
        "## Alguns exemplos\n",
        "#### Primeiro vamos ver uma função simples e como chama-la no nosso código"
      ]
    },
    {
      "cell_type": "code",
      "metadata": {
        "id": "KyzooCNRFJzM"
      },
      "source": [
        "def apresenta (nome, idade):\n",
        "  print (\"Olá amigos, meu nome é\", nome, \"e eu tenho\", idade, \"anos\")"
      ],
      "execution_count": null,
      "outputs": []
    },
    {
      "cell_type": "code",
      "metadata": {
        "id": "ZFbVnL3dFJzM",
        "colab": {
          "base_uri": "https://localhost:8080/"
        },
        "outputId": "f6ced233-24d7-42d4-ec17-b3d188c01a4c"
      },
      "source": [
        "nome_usuario=input(\"Qual o seu nome?\")\n",
        "idade_usuario=input(\"E qual a sua idade?\")\n",
        "apresenta(nome_usuario, idade_usuario)"
      ],
      "execution_count": null,
      "outputs": [
        {
          "output_type": "stream",
          "text": [
            "Qual o seu nome?MC Carol\n",
            "E qual a sua idade?21\n",
            "Olá amigos, meu nome é MC Carol e eu tenho 21 anos\n"
          ],
          "name": "stdout"
        }
      ]
    },
    {
      "cell_type": "code",
      "metadata": {
        "id": "Vrw3xcYwFJzN"
      },
      "source": [
        "#Crie uma função que receba o nome e a idade do usuário e imprima\n",
        "#\"$$Nome$$ é maior de 18 anos\" ou\n",
        "#\"$$Nome$$ é menor de 18 anos\"\n",
        "#dependendo da idade dele\n",
        "\n",
        "\n",
        "def idade(nome, idade):\n",
        "  if idade >= 18: \n",
        "    print(nome, 'é maior de 18 anos')\n",
        "  else:\n",
        "    print(nome, 'é menor de 18 anos)')"
      ],
      "execution_count": null,
      "outputs": []
    },
    {
      "cell_type": "code",
      "metadata": {
        "id": "fSywON-7FJzN",
        "colab": {
          "base_uri": "https://localhost:8080/"
        },
        "outputId": "61a376bd-3fa5-4b37-bf4c-0a6d6b6bdf06"
      },
      "source": [
        "#Chame a função no seu programa\n",
        "idade('Vic', 15)"
      ],
      "execution_count": null,
      "outputs": [
        {
          "output_type": "stream",
          "text": [
            "Vic é menor de 18 anos)\n"
          ],
          "name": "stdout"
        }
      ]
    },
    {
      "cell_type": "markdown",
      "metadata": {
        "id": "LJhFJL45FJzN"
      },
      "source": [
        "#### Função com return\n",
        "Como a gente falou anteriormente, apesar de ser interessante manipular nossos dados com funções, muitas vezes precisamos que algum valor seja devolvido por ela. Para isso, usamos a palavra reservada return.\n",
        "Para ficar mais claro, observe o exemplo abaixo."
      ]
    },
    {
      "cell_type": "code",
      "metadata": {
        "id": "3aRlaHJ9FJzN"
      },
      "source": [
        "def maior (a, b):\n",
        "  if(a>b):\n",
        "    return a\n",
        "  else:\n",
        "    return b"
      ],
      "execution_count": null,
      "outputs": []
    },
    {
      "cell_type": "markdown",
      "metadata": {
        "id": "Q_ZwCkaHFJzO"
      },
      "source": [
        "O objetivo dela é retornar o maior valor entre dois números. Veja que o comando return aqui, será o respondável por me devolver o valor da função, quando ela for chamada no meu programa. Vamos ver como fica isso."
      ]
    },
    {
      "cell_type": "code",
      "metadata": {
        "id": "NmrEBd2OFJzO"
      },
      "source": [
        "print(\"digite dois números e eu vou te dizer o maior entre eles \\n\")\n",
        "x= input()\n",
        "y= input()\n",
        "aux = maior(x, y)\n",
        "print(\"O maior número é\", aux)"
      ],
      "execution_count": null,
      "outputs": []
    },
    {
      "cell_type": "code",
      "metadata": {
        "id": "CFOr5GKZFJzO"
      },
      "source": [
        "##Também posso chamar uma função dentro de outra função\n",
        "print(\"digite dois números e eu vou te dizer o maior entre eles \\n\")\n",
        "e= input()\n",
        "f= input()\n",
        "print(\"O maior número é\", maior(e, f))"
      ],
      "execution_count": null,
      "outputs": []
    },
    {
      "cell_type": "code",
      "metadata": {
        "id": "5vr5tsArFJzP"
      },
      "source": [
        "#Crie uma função que execute a subtração de dois números e retorne o resultado"
      ],
      "execution_count": null,
      "outputs": []
    },
    {
      "cell_type": "code",
      "metadata": {
        "id": "BWNZTSyKFJzP"
      },
      "source": [
        "#Chame a função no seu programa, guarde o valor que ela retornou em uma variável\n",
        "#e imprima essa variável\n",
        "\n",
        "\n",
        "\n",
        "#Agora, chame a função dentro da funçã print e imprima o valor que a função retornou"
      ],
      "execution_count": null,
      "outputs": []
    },
    {
      "cell_type": "markdown",
      "metadata": {
        "id": "vysI7JQqFJzP"
      },
      "source": [
        "## Funções sem parâmetros\n",
        "Funções podem ter infinitos parâmetros ou não ter parâmetro nenhum! Podem ter até parâmetros opcionais(spoiler)."
      ]
    },
    {
      "cell_type": "code",
      "metadata": {
        "id": "do3ejhAgFJzP"
      },
      "source": [
        "def spam():\n",
        "    for i in range(20): \n",
        "        print (\"amendoim é bom\")"
      ],
      "execution_count": null,
      "outputs": []
    },
    {
      "cell_type": "code",
      "metadata": {
        "id": "e-AFjo1GFJzQ",
        "colab": {
          "base_uri": "https://localhost:8080/"
        },
        "outputId": "abf5d025-2fc2-4d38-fd98-8dcc63cbf053"
      },
      "source": [
        "spam()"
      ],
      "execution_count": null,
      "outputs": [
        {
          "output_type": "stream",
          "text": [
            "amendoim é bom\n",
            "amendoim é bom\n",
            "amendoim é bom\n",
            "amendoim é bom\n",
            "amendoim é bom\n",
            "amendoim é bom\n",
            "amendoim é bom\n",
            "amendoim é bom\n",
            "amendoim é bom\n",
            "amendoim é bom\n",
            "amendoim é bom\n",
            "amendoim é bom\n",
            "amendoim é bom\n",
            "amendoim é bom\n",
            "amendoim é bom\n",
            "amendoim é bom\n",
            "amendoim é bom\n",
            "amendoim é bom\n",
            "amendoim é bom\n",
            "amendoim é bom\n"
          ],
          "name": "stdout"
        }
      ]
    },
    {
      "cell_type": "markdown",
      "metadata": {
        "id": "4xoxRjeGFJzQ"
      },
      "source": [
        "## Parâmetros opcionais e Parâmetros pré definidos\n",
        "\n",
        "#### Parâmetros opcionais\n",
        "Algumas vezes você quer usar diferentes parâmetros para diferentes propósitos, porém dentro da mesma função. As vezes você não quer usar todos os parâmetros. Existem n motivos pelos quais você pode querer fazer um parâmetro ser opcional.\n",
        "\n",
        "##### Mas como a gente faz isso?\n",
        "\n",
        "Quando estamos escrevendo a função, declaramos o parâmetro como ```**kwargs```. Por convenção, utiliza-se a palavra kwargs, mas pode-se utilizar qualquer uma, desde que coloque-se os ``**`` antes dela!\n",
        "Além disso, é necessário se atribuir o valor dos parâmetros opcionais à variáveis dentro da função. A estrutura fica assim então:\n",
        "\n",
        "```` \n",
        "def nome(parametro_obrigatorio, **kwargs):\n",
        "    opcional1=kwargs.get('opcional1')\n",
        "    opcional2=kwargs.get('opcional2')\n",
        "    ##resto da função... \n",
        "````\n",
        "\n",
        "##### Legal, mas como eu chamo uma função com argumentos opcionais??\n",
        "\n",
        "Posso chamar só com o parâmetro obrigatório, como uma função normal\n",
        "\n",
        "``nome(parametro_obrigatorio)``\n",
        "\n",
        "Posso chamar com um parâmetro opcional. Nesse caso, observe que tive que declarar que o parâmetro a mais que estava colocando na chamada da função, se refere ao parâmetro opcional1.\n",
        "\n",
        "``nome(parametro_obrigatorio, opcional1=\"amendoim\")``\n",
        "\n",
        "E, por fim, posso chamar com todos os parânetros! Sem esquecer é claro, de separa-los e identifica-los.\n",
        "\n",
        "``nome(parametro_obrigatorio, opcional1=\"amendoim\", opcional2=\"chuchu\")``\n",
        "\n",
        "#### Parâmetros pré-definidos\n",
        "Existem casos em que você está lidando com uma situação que acontece com muita frequência, mas não pode assumir que vai acontecer sempre. Uma solução para economizar tempo nessas situações, é pré-definir um valor para um parâmetro da sua função. Dessa forma, o usuário pode preencher o campo desse parâmetro, caso ele não seja seu caso padrão, ou ele pode não preencher nada caso se encaixe.\n",
        "\n",
        "##### Na declaração da função\n",
        "\n",
        "```` \n",
        "def nome(parametro_obrigatorio, parametro_padronizado = 3):\n",
        "    ##resto da função... \n",
        "````\n",
        "##### Na chamada da função\n",
        "Posso chamar a função sem colocar nada no lugar do parametro pré definido, e nesse caso a função irá utilizar o valor pré definido\n",
        "``nome(parametro_obrigatorio)``\n",
        "Mas também posso querer mudar o valor, nesse caso a função é chamada dessa forma:\n",
        "``nome(parametro_obrigatorio, 5)``"
      ]
    },
    {
      "cell_type": "markdown",
      "metadata": {
        "id": "j_6bstsaFJzQ"
      },
      "source": [
        "### Um exemplo"
      ]
    },
    {
      "cell_type": "code",
      "metadata": {
        "id": "xFRqYQnPFJzR"
      },
      "source": [
        "def amizade(nome, mode=\"amigos\", **kwargs):\n",
        "  obs1=kwargs.get('obs1')\n",
        "  obs2=kwargs.get('obs2')\n",
        "  if mode == \"amigos\":\n",
        "    print(\"Oi,\", nome, \"somos bons amigos\")\n",
        "    if obs1 != None:\n",
        "      print(obs1)\n",
        "    if obs2!= None:\n",
        "      print(obs2)\n",
        "  elif mode == \"namorados\":\n",
        "    print (\"oi amor, te amo, quero ter\", nome, \"gravado na minha aliança\")\n",
        "    if obs1 != None:\n",
        "      print(obs1)\n",
        "    if obs2!= None:\n",
        "      print(obs2)\n",
        "  elif mode == \"inimigos\":\n",
        "    print (\"sai daqui,\",nome, \"ninguem gosta de você\")\n",
        "    if obs1 != None:\n",
        "      print(obs1)\n",
        "    if obs2!= None:\n",
        "      print(obs2)"
      ],
      "execution_count": null,
      "outputs": []
    },
    {
      "cell_type": "code",
      "metadata": {
        "id": "rnXVZZCCFJzR"
      },
      "source": [
        "#Caso em que coloco os dois parâmetros opcionais, aqui é utilizado o valor\n",
        "#pré definido para o parâmetro 'mode'\n",
        "\n",
        "amizade(\"vick\", obs1=\"você é cheirosa\", obs2=\"você é muito dedicada\")"
      ],
      "execution_count": null,
      "outputs": []
    },
    {
      "cell_type": "code",
      "metadata": {
        "id": "kMMtF-akFJzR"
      },
      "source": [
        "#Caso sem nenhum parâmetro opcional, aqui o valor\n",
        "#pré definido para o parâmetro 'mode' é alterado\n",
        "amizade(\"chuchu\", \"namorados\")"
      ],
      "execution_count": null,
      "outputs": []
    },
    {
      "cell_type": "code",
      "metadata": {
        "id": "MF9r0ETDFJzR"
      },
      "source": [
        "#Caso em que coloco apenas um parâmetro opcional, aqui o valor\n",
        "#pré definido para o parâmetro 'mode'é alterado\n",
        "amizade(\"menino que não fez nada no meu trabalho de mecânica\", \"inimigos\", obs1=\"VOCÊ NEM RESPONDEU MINHAS MENSAGENS NO WPP\")"
      ],
      "execution_count": null,
      "outputs": []
    }
  ]
}