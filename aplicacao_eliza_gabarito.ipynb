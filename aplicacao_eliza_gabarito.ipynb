{
  "nbformat": 4,
  "nbformat_minor": 0,
  "metadata": {
    "colab": {
      "name": "aplicacao-eliza-gabarito.ipynb",
      "provenance": [],
      "collapsed_sections": []
    },
    "kernelspec": {
      "name": "python3",
      "display_name": "Python 3"
    }
  },
  "cells": [
    {
      "cell_type": "markdown",
      "metadata": {
        "id": "TIeQh7a0BFI-"
      },
      "source": [
        "# WS4Her 2021.1 - Gabarito ELIZA (Aplicação) 👩💻\n",
        "\n",
        "Gabarito da parte de aplicação do Workshop for Her organizado pelo Turing USP no primeiro semestre de 2021, no qual implementamos um chatbot simples inpirado no chatbot ELIZA."
      ]
    },
    {
      "cell_type": "markdown",
      "metadata": {
        "id": "jLtV4jjqUfmT"
      },
      "source": [
        "### Importando módulos"
      ]
    },
    {
      "cell_type": "code",
      "metadata": {
        "id": "q63kFSIO7g_g"
      },
      "source": [
        "import re # regex para fazer matching de padrões no texto\n",
        "import random # para numeros e selecao aleatorios"
      ],
      "execution_count": null,
      "outputs": []
    },
    {
      "cell_type": "markdown",
      "metadata": {
        "id": "ChmGhJQJVcwu"
      },
      "source": [
        "### Definindo constantes"
      ]
    },
    {
      "cell_type": "markdown",
      "metadata": {
        "id": "aVS36IWXW7Ip"
      },
      "source": [
        "Nossa ELIZA irá conversar com o usuário sobre seus sentimentos.\n",
        "\n",
        "Assim, implementamos ela de modo que ela identifique se esse usuário está falando sobre algum sentimento/sensação ou fazendo um desabafo.\n",
        "\n",
        "Definimos nessa primeira parte respostas para cada uma desas situações, além de respostas genéricas para fazê-lo falar mais."
      ]
    },
    {
      "cell_type": "code",
      "metadata": {
        "id": "3x63iQLEEAff"
      },
      "source": [
        "RESPOSTAS_GENERICAS = ['Me fale mais sobre isso.', 'Interessante... elabore.',\n",
        "                       'O que isso te lembra?']\n",
        "\n",
        "RESPOSTAS_SENSACAO = ['Por que você está {}?', 'Para você, como é se sentir {}?',\n",
        "                      'Por que você está {}?']\n",
        "\n",
        "REPOSTAS_DESABAFO = ['O que você pensa sobre {}?', 'Para você, o que é {}?',\n",
        "                     'Como você se sente em relação a {}?']\n",
        "\n",
        "STOPWORDS = ['eu', 'não', 'quero', 'acho', 'e', 'você', 'nós', 'acredito', 'o',\n",
        "             'a', 'os', 'um', 'uns', 'umas', 'as', 'uma', 'me', 'te', 'lhe',\n",
        "             'nos', 'n', 'pq', 'porque']"
      ],
      "execution_count": null,
      "outputs": []
    },
    {
      "cell_type": "markdown",
      "metadata": {
        "id": "SaNjFOf7dKvQ"
      },
      "source": [
        "### Funções"
      ]
    },
    {
      "cell_type": "markdown",
      "metadata": {
        "id": "xbHnxVegdZss"
      },
      "source": [
        "Para que seja mais fácil pensar, vamos separar nosso programa em blocos usando funções. Assim, resolvemos um problema menor por vez e então juntamos as soluções."
      ]
    },
    {
      "cell_type": "markdown",
      "metadata": {
        "id": "x2kfxN033ERG"
      },
      "source": [
        "Nessa primeira função, vamos determinar a intenção de uma frase, ou seja, se é uma sensação ou um desabafo.\n",
        "\n",
        "Para identificar uma sensação, vamos usar regex com o módulo re. O padrão em `padrao_sensacao` identifica se a frase começa com \"eu estou\"/\"eu tô\"/\"to\" e outras variações dessa expressão.\n",
        "\n",
        "`re.search()` identifica esse padrão na frase recebida: se sim, ela devolve um objeto de match; se não, retorna não.\n",
        "\n",
        "Um objeto de match tem valor `True`, enquanto `None` tem valor `False`. Assim, podemos usá-los em expressões condicionais."
      ]
    },
    {
      "cell_type": "code",
      "metadata": {
        "id": "kZoWVwCWo5MA"
      },
      "source": [
        "def determina_intencao(text):\n",
        "  '''\n",
        "  Funcao que recebe um texto (string), verifica se ha um padrão\n",
        "  que indica sensação. Se houver, ele retorna uma string\n",
        "  'sensacao', se não, retorna 'desabafo'.\n",
        "  '''\n",
        "  \n",
        "  # padrao para identificar 'eu estou' e derivados\n",
        "  padrao_sensacao = \"[Ee]u ([Tt][oô]|estou) |[Tt][oô] |estou \"\n",
        "\n",
        "  # fazer o match do padrao na frase\n",
        "  match = re.search(padrao_sensacao, text) # retorna None se nao houver match\n",
        "\n",
        "  if match:\n",
        "    # se houver match, intencao recebe 'sensacao'\n",
        "    intencao = 'sensacao'\n",
        "  else:\n",
        "    # se nao houver, intencao recebe 'desabafo'\n",
        "    intencao = 'desabafo'\n",
        " \n",
        "  return intencao"
      ],
      "execution_count": null,
      "outputs": []
    },
    {
      "cell_type": "markdown",
      "metadata": {
        "id": "njA3mcOAUOVh"
      },
      "source": [
        "Agora, fazemos uma função que responde uma mensagem contendo uma sensação.\n",
        "\n",
        "`re.search(padrao_sensacao, text).group(0)` retorna o trecho na frase que deu match com o padrão.\n",
        "\n",
        "`\"texto\".find(\"trecho\")` retorna o índice da primeira ocorrência do trecho no texto.\n",
        "\n",
        "`random.choice()` recebe uma lista e retorna um item aleatório desta.\n",
        "\n",
        "`resposta.format(\"trecho\")` preenche {} na resposta com \"trecho\"."
      ]
    },
    {
      "cell_type": "code",
      "metadata": {
        "id": "gIL7Rhe10s1a"
      },
      "source": [
        "def responde_sensacao(text):\n",
        "  '''\n",
        "  Funcao que recebe um texto que possua \"eu estou\" ou variações,\n",
        "  armazena o resto da frase, seleciona uma resposta aleatoria\n",
        "  das lista RESPOSAS_SENSACAO e retorna essa resposta com o\n",
        "  trecho armazenado inserido.\n",
        "  '''\n",
        "\n",
        "  padrao_sensacao = \"[Ee]u ([Tt][oô]|estou) |[Tt][oô] |estou \"\n",
        "  # sensacao recebe a parte do texto que deu match com o padrao\n",
        "  sensacao = re.search(padrao_sensacao, text).group(0)\n",
        "\n",
        "  # resto_frase recebe o trecho que vem depois da parte que deu match\n",
        "  resto_frase = text[text.find(sensacao)+len(sensacao):]\n",
        "\n",
        "  # escolhe uma resposta da lista RESPOSTAS_SENSACAO aleatoriamente\n",
        "  resposta = random.choice(RESPOSTAS_SENSACAO)\n",
        "\n",
        "  # retorna a resposta escolhida com resto_frase no lugar de {}\n",
        "  return resposta.format(resto_frase)"
      ],
      "execution_count": null,
      "outputs": []
    },
    {
      "cell_type": "markdown",
      "metadata": {
        "id": "xRgXKjfqfbH_"
      },
      "source": [
        "Agora, a função que responde um desabafo.\n",
        "\n",
        "`text.split()` separa uma string em palavras e retorna uma lista com elas\n",
        "\n",
        "`string.lower()` deixa o texto da string em letras todas minúsculas."
      ]
    },
    {
      "cell_type": "code",
      "metadata": {
        "id": "jxv1DFQH0u7o"
      },
      "source": [
        "def responde_desabafo(text):\n",
        "  '''\n",
        "  Funcao que recebe um texto de desabafo, seleciona uma resposta\n",
        "  aleatoria de RESPOSTAS_DESABAFO, completa ela com\n",
        "  uma palavra significativa do texto e retorna essa resposta.\n",
        "  Caso nao haja palavras significativas no texto, a resposta\n",
        "  sera 'Hm...'.\n",
        "  '''\n",
        "\n",
        "  # escolhe uma resposta da lista RESPOSTAS_DESABAFO aleatoriamente\n",
        "  resposta = random.choice(REPOSTAS_DESABAFO)\n",
        "\n",
        "  # cria uma lista com cada palavra no texto\n",
        "  lista_de_palavras = text.split()\n",
        "\n",
        "  # cria uma lista vazia\n",
        "  lista_de_palavras_minusculas_validas = []\n",
        "\n",
        "  # vamos percorrer a lista_de_palavras\n",
        "  for palavra in lista_de_palavras:\n",
        "\n",
        "    # deixa a palavra toda em letras minusculas\n",
        "    palavra = palavra.lower()\n",
        "    \n",
        "    # se a palavra nao estiver em STOPWORDS, adiciona na lista_de_palavras_minusculas_validas\n",
        "    if palavra not in STOPWORDS:\n",
        "      lista_de_palavras_minusculas_validas.append(palavra)\n",
        "\n",
        "  num_palavras_validas = len(lista_de_palavras_minusculas_validas)\n",
        "  if num_palavras_validas > 1:\n",
        "    # se houver mais de uma palavra na lista_de_palavras_minusculas_validas\n",
        "    # escolhe uma palavra aleatoria dessa lista e armazena em tema\n",
        "    tema = random.choice(lista_de_palavras_minusculas_validas)\n",
        "    # e entao insere tema na resposta\n",
        "    resposta = resposta.format(tema)\n",
        "\n",
        "  elif num_palavras_validas == 1:\n",
        "    # caso haja apenas uma palavra na lista, ela sera inserida na resposta\n",
        "    tema = lista_de_palavras_minusculas_validas[0]\n",
        "    resposta = resposta.format(tema)\n",
        "\n",
        "  elif num_palavras_validas == 0:\n",
        "    # se nao ha palavras na lista, a resposta sera 'hm...'\n",
        "    resposta = 'Hm...'\n",
        "\n",
        "  return resposta"
      ],
      "execution_count": null,
      "outputs": []
    },
    {
      "cell_type": "markdown",
      "metadata": {
        "id": "ppWVrDe9f0Jl"
      },
      "source": [
        "Agora, definimos a função `responder`, que irá identificar a intenção e retornar a resposta.\n",
        "\n",
        "Além das repostas de sensação e desabafo, há também a chance da Eliza responder com uma resposta genérica. Vamos estabelecer que isso ocorre com probabilidade 30%, ou seja, 3 em cada 10 vezes.\n",
        "\n",
        "`random.random()` gera um número real entre 0 e 1."
      ]
    },
    {
      "cell_type": "code",
      "metadata": {
        "id": "rOnvbvmw0xKZ"
      },
      "source": [
        "def responder(mensagem):\n",
        "  '''\n",
        "  Funcao que recebe uma mensagem, determina sua intencao e retorna uma\n",
        "  resposta de acordo com essa intencao ou responde genericamente com\n",
        "  probabilidade de 30%.\n",
        "  '''\n",
        "\n",
        "  # gera um float aleatorio entre 0 e 1\n",
        "  numero_aleatorizador  = random.random()\n",
        "\n",
        "  # se esse numero for menor que 0.3,\n",
        "  # a resposta sera aleatoriamente escolhida entre as RESPOSTAS_GENERICAS\n",
        "  if numero_aleatorizador < 0.3:\n",
        "    resposta = random.choice(RESPOSTAS_GENERICAS)\n",
        "\n",
        "  # caso contrario, determina a intencao da mensagem\n",
        "  # e atribui uma resposta de acordo com essa intencao\n",
        "  else:\n",
        "    intencao = determina_intencao(mensagem)\n",
        "\n",
        "    if intencao == 'desabafo':\n",
        "      resposta = responde_desabafo(mensagem)\n",
        "\n",
        "    elif intencao == 'sensacao':\n",
        "      resposta = responde_sensacao(mensagem)\n",
        "\n",
        "  return resposta"
      ],
      "execution_count": null,
      "outputs": []
    },
    {
      "cell_type": "markdown",
      "metadata": {
        "id": "ymdzLkpg3JUp"
      },
      "source": [
        "### Juntando tudo"
      ]
    },
    {
      "cell_type": "code",
      "metadata": {
        "id": "SpzH5zwn3No9"
      },
      "source": [
        "def main():\n",
        "  # a primeira mensagem da Eliza sera uma saudacao\n",
        "  print(\"Olá! Eu sou a Eliza.\\nComo você está se sentindo hoje? Sobre o que gostaria de falar?\")\n",
        "\n",
        "  # loop que se repetira 6 vezes\n",
        "  for i in range(6):\n",
        "    # recebe uma mensagem do usuario\n",
        "    mensagem = input()\n",
        "\n",
        "    # gera uma resposta\n",
        "    resposta = responder(mensagem)\n",
        "\n",
        "    # printa a resposta\n",
        "    print(resposta)\n",
        "\n",
        "  # recebe ultima mensagem do usuario\n",
        "  mensagem = input()"
      ],
      "execution_count": null,
      "outputs": []
    },
    {
      "cell_type": "markdown",
      "metadata": {
        "id": "EZBeHa4W3M8g"
      },
      "source": [
        "### Testando"
      ]
    },
    {
      "cell_type": "code",
      "metadata": {
        "colab": {
          "base_uri": "https://localhost:8080/"
        },
        "id": "UWWEqgxCAg7y",
        "outputId": "4313feae-cdd0-4b6c-8701-668e09a654c5"
      },
      "source": [
        "main()"
      ],
      "execution_count": null,
      "outputs": [
        {
          "output_type": "stream",
          "text": [
            "Olá! Eu sou a Eliza.\n",
            "Como você está se sentindo hoje? Sobre o que gostaria de falar?\n",
            "Nossa mas que pergunta estou pensando\n",
            "Por que você está pensando?\n",
            "Você tá filosófica hein eliza\n",
            "O que você pensa sobre filosófica?\n",
            "tem que pensar mt pra ser filosofica ne\n",
            "O que isso te lembra?\n",
            "lembra minha amiga eliza filosofando agora\n",
            "O que você pensa sobre minha?\n",
            "é sua\n",
            "Como você se sente em relação a sua?\n",
            "Suar? Não curto\n",
            "Me fale mais sobre isso.\n",
            "Quando a gente sua a gente fede né, eu pessoalmente não gosto.\n"
          ],
          "name": "stdout"
        }
      ]
    }
  ]
}