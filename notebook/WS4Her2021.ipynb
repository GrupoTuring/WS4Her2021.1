{
  "nbformat": 4,
  "nbformat_minor": 0,
  "metadata": {
    "colab": {
      "name": "WS4Her2021.ipynb",
      "provenance": []
    },
    "kernelspec": {
      "name": "python3",
      "display_name": "Python 3"
    },
    "language_info": {
      "name": "python"
    }
  },
  "cells": [
    {
      "cell_type": "markdown",
      "metadata": {
        "id": "gNqf774JA6IW"
      },
      "source": [
        "# 👩💻 WS4Her2021.1 - Notebook\n",
        "\n",
        "## Tema: Introdução à Programação em Python\n",
        "\n",
        "### Conteúdos:\n",
        "1. Print, input, output\n",
        "2. Variáveis\n",
        "3. Operações (aritméticas, booleanas e lógicas)\n",
        "4. Condicionais\n",
        "5. Listas\n",
        "6. Range\n",
        "7. Loops\n",
        "8. Funções\n",
        "9. Aplicação final: chatbot 'Eliza'\n",
        "\n"
      ]
    },
    {
      "cell_type": "markdown",
      "metadata": {
        "id": "cQu9hpt7gkf3"
      },
      "source": [
        "# Primeiro dia\n",
        "\n",
        "## Print\n",
        "\n",
        "\"Printar\" algo é dar ao seu código o comando de fazer algo aparecer na tela. Fazemos isso utilizando a função ```print``` do python.\n",
        "\n",
        "Neste primeiro caso vamos utilizar aspas (' ') porque o que queremos printar é um texto (string), e no python é necessário que textos estejam sempre dessa forma."
      ]
    },
    {
      "cell_type": "code",
      "metadata": {
        "id": "W9XG_6JOPC2M"
      },
      "source": [
        "print('Meu namorado é mó otário')"
      ],
      "execution_count": null,
      "outputs": []
    },
    {
      "cell_type": "code",
      "metadata": {
        "id": "o8fQsvikhcRM"
      },
      "source": [
        "texto = 'Ele lava minhas calcinhas'\n",
        "\n",
        "print(texto)"
      ],
      "execution_count": null,
      "outputs": []
    },
    {
      "cell_type": "code",
      "metadata": {
        "id": "bg1O-vf2hg52"
      },
      "source": [
        "print('Digite aqui sua própria frase') # não esquece das aspas, ein?"
      ],
      "execution_count": null,
      "outputs": []
    },
    {
      "cell_type": "markdown",
      "metadata": {
        "id": "56GlvKl8hnt5"
      },
      "source": [
        "## Input e Output\n",
        "\n"
      ]
    },
    {
      "cell_type": "code",
      "metadata": {
        "colab": {
          "base_uri": "https://localhost:8080/"
        },
        "id": "shfPBKy5izwl",
        "outputId": "258456ad-ab0a-42f4-bb59-4611ba5b8078"
      },
      "source": [
        "nome = input('Qual seu nome? ')\n",
        "\n",
        "print(nome)"
      ],
      "execution_count": 3,
      "outputs": [
        {
          "output_type": "stream",
          "text": [
            "Qual seu nome? MC Carol\n",
            "MC Carol\n"
          ],
          "name": "stdout"
        }
      ]
    },
    {
      "cell_type": "code",
      "metadata": {
        "colab": {
          "base_uri": "https://localhost:8080/"
        },
        "id": "ETXOuISAi9qB",
        "outputId": "d1b8b247-1817-4624-99b4-f6abb93c2955"
      },
      "source": [
        "idade = input('Qual sua idade? ')\n",
        "\n",
        "print('Sua idade é ' + idade)"
      ],
      "execution_count": null,
      "outputs": [
        {
          "output_type": "stream",
          "text": [
            "Qual sua idade? 21\n",
            "Sua idade é 21\n"
          ],
          "name": "stdout"
        }
      ]
    },
    {
      "cell_type": "code",
      "metadata": {
        "colab": {
          "base_uri": "https://localhost:8080/"
        },
        "id": "azmu7aYGidvk",
        "outputId": "b624a106-a45e-4406-f2a0-fbcf2eb2c4ed"
      },
      "source": [
        "dia = input ('Que dia você nasceu? ')\n",
        "mês = input ('Que mês você nasceu? ' )\n",
        "ano = input ('Que ano você nasceu? ')\n",
        "print('Você nasceu no dia ' + dia + ' de ' + mês + ' de ' + ano + '. Correto?')"
      ],
      "execution_count": null,
      "outputs": [
        {
          "output_type": "stream",
          "text": [
            "Que dia você nasceu? 27\n",
            "Que mês você nasceu? julho\n",
            "Que ano você nasceu? 1999\n",
            "Você nasceu no dia 27 de julho de 1999. Correto?\n"
          ],
          "name": "stdout"
        }
      ]
    },
    {
      "cell_type": "markdown",
      "metadata": {
        "id": "0-0WPQKNjOdn"
      },
      "source": [
        "### Exercício!\n",
        "\n",
        "Escreva um input que pergunta o nome da mãe e do pai de uma pessoa e depois printa a frase \"Sua mãe chama x e seu pai chama y\" na tela."
      ]
    },
    {
      "cell_type": "code",
      "metadata": {
        "id": "f2oPwfLqjNEV"
      },
      "source": [
        "# complete\n",
        "mãe = ... \n",
        "pai = ...\n",
        "..."
      ],
      "execution_count": null,
      "outputs": []
    },
    {
      "cell_type": "markdown",
      "metadata": {
        "id": "eK2XBg2H_Q83"
      },
      "source": [
        "## Variáveis e seus tipos\n",
        "\n",
        "Variáveis são um dos recursos mais básicos das linguagens de programação. Utilizadas para armazenar valores em memória, elas nos permitem gravar e ler esses dados com facilidade a partir de um nome definido por nós. \n",
        "\n",
        "Por exemplo, você já atribuiu várias variáveis desde que esse workshop começou, por exemplo as variáveis \"mãe\" e \"pai\" acima!"
      ]
    },
    {
      "cell_type": "code",
      "metadata": {
        "colab": {
          "base_uri": "https://localhost:8080/"
        },
        "id": "yEzi8mxp_qBQ",
        "outputId": "9b9f2700-3bae-4842-d8d8-7edcf501e155"
      },
      "source": [
        "nome = 'Felipe'\n",
        "idade = 15 \n",
        "altura = 2.90\n",
        "pergunta = idade == 2.90\n",
        "\n",
        "print(type(nome))\n",
        "print(type(idade))\n",
        "print(type(altura))\n",
        "print(type(pergunta))"
      ],
      "execution_count": 8,
      "outputs": [
        {
          "output_type": "stream",
          "text": [
            "<class 'str'>\n",
            "<class 'int'>\n",
            "<class 'float'>\n",
            "<class 'bool'>\n"
          ],
          "name": "stdout"
        }
      ]
    },
    {
      "cell_type": "code",
      "metadata": {
        "id": "gxGkWOML__hW"
      },
      "source": [
        "print(pergunta)"
      ],
      "execution_count": null,
      "outputs": []
    },
    {
      "cell_type": "code",
      "metadata": {
        "id": "B-eyzQ1GArp5"
      },
      "source": [
        "print(altura == 2.90)"
      ],
      "execution_count": null,
      "outputs": []
    },
    {
      "cell_type": "markdown",
      "metadata": {
        "id": "dPEAwAAdB5oi"
      },
      "source": [
        "### Exercício! \n",
        "\n",
        "Vamos falar sobre arquitetura! Atribua valores a quatro variáveis: `ambiente` (O tipo de cômodo), `altura` (a altura do cômodo), `metros` (quantos metros quadrados tem o ambiente) e `afirmação` (alguma afirmação a respeito de qualquer uma das variáveis atribuídas, depois printe os tipos de cada uma."
      ]
    },
    {
      "cell_type": "code",
      "metadata": {
        "id": "kMZ3Jg3xDNNJ"
      },
      "source": [
        "# atribua os valores às variáveis \n",
        "ambiente = ... \n",
        "altura...\n",
        "...\n",
        "...\n",
        "\n",
        "# printe os tipos\n",
        "print(type(...))\n",
        "...\n",
        "...\n",
        "...\n",
        "..."
      ],
      "execution_count": null,
      "outputs": []
    }
  ]
}
