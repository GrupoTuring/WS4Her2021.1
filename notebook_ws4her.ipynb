{
  "nbformat": 4,
  "nbformat_minor": 0,
  "metadata": {
    "colab": {
      "name": "notebook-ws4her.ipynb",
      "provenance": []
    },
    "kernelspec": {
      "name": "python3",
      "display_name": "Python 3"
    },
    "language_info": {
      "name": "python"
    }
  },
  "cells": [
    {
      "cell_type": "markdown",
      "metadata": {
        "id": "TKYFzvZdIqTD"
      },
      "source": [
        "# 👩💻 WS4Her2021.1 - Notebook"
      ]
    },
    {
      "cell_type": "markdown",
      "metadata": {
        "id": "x7oDpuhGJVmn"
      },
      "source": [
        "### Tema: Introdução à Programção em Python\n",
        "### Conteúdos:\n",
        "1. Print, input, output \n",
        "2. Variáveis\n",
        "3. Operações (aritméticas, booleanas e lógicas)\n",
        "4. Condicionais\n",
        "5. Listas\n",
        "6. Range\n",
        "7. Loops\n",
        "8. Funções\n",
        "9. Aplicação final: chatbot 'Eliza'\n"
      ]
    },
    {
      "cell_type": "code",
      "metadata": {
        "id": "jz3OpEi4H_Bk"
      },
      "source": [
        ""
      ],
      "execution_count": null,
      "outputs": []
    }
  ]
}