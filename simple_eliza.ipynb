{
  "nbformat": 4,
  "nbformat_minor": 0,
  "metadata": {
    "colab": {
      "name": "simple-eliza.ipynb",
      "provenance": [],
      "collapsed_sections": []
    },
    "kernelspec": {
      "name": "python3",
      "display_name": "Python 3"
    }
  },
  "cells": [
    {
      "cell_type": "code",
      "metadata": {
        "id": "q63kFSIO7g_g"
      },
      "source": [
        "import re\n",
        "import random"
      ],
      "execution_count": null,
      "outputs": []
    },
    {
      "cell_type": "code",
      "metadata": {
        "id": "ov7J4KG89VSP"
      },
      "source": [
        "RESPOSTAS_GENERICAS = ['Me fale mais sobre isso.', 'Interessante.. elabore', 'O que isso te lembra?']\n",
        "RESPOSTAS_SENSACAO = ['Porque você está {}?', 'Pra você como é se sentir {}?', 'Porque você está {}?']\n",
        "REPOSTAS_DESABAFO = ['O que você pensa sobre {}?', 'Pra você, o que é {}', 'Como você se sente em relação a {}']\n",
        "STOPWORDS = ['eu', 'não', 'quero', 'acho', 'e', 'você', 'nós', 'acredito', 'o', 'a', 'os', 'um', 'uns', 'umas', 'as', 'uma', 'me', 'te', 'lhe', 'nos', 'n', 'pq', 'porque']\n",
        "def determina_intencao(text):\n",
        "  padrao_sensacao = '^[Ee]u| [Tt][oô]| estou|^[Tt][oô]'\n",
        "  match = re.search(padrao_sensacao, text)\n",
        "  if isinstance(None,type(match)):\n",
        "    intencao = 'desabafo'\n",
        "  else:\n",
        "    intencao = 'sensacao'\n",
        "  return intencao\n",
        "\n",
        "def responde_sensacao(text):\n",
        "  padrao_sensacao = '^[Ee]u| [Tt][oô]| estou|^[Tt][oô]'\n",
        "  sensacao = re.search(padrao_sensacao, text).group(0)\n",
        "  resto_frase = text[text.find(sensacao)+len(sensacao):]\n",
        "  resposta = random.choice(RESPOSTAS_SENSACAO)\n",
        "  return resposta.format(resto_frase)\n",
        "\n",
        "def responde_desabafo(text):\n",
        "  resposta = random.choice(REPOSTAS_DESABAFO)\n",
        "  lista_de_palavras = text.split()\n",
        "  lista_de_palavras_minusculas_validas = []\n",
        "  for palavra in lista_de_palavras:\n",
        "    if palavra.lower() not in STOPWORDS:\n",
        "      lista_de_palavras_minusculas_validas.append(palavra.lower())\n",
        "  if len(lista_de_palavras_minusculas_validas)>1:\n",
        "    tema = random.choice(lista_de_palavras_minusculas_validas)\n",
        "    resposta = resposta.format(tema)\n",
        "  elif len(lista_de_palavras_minusculas_validas)==1:\n",
        "    tema = lista_de_palavras_minusculas_validas[0]\n",
        "    resposta = resposta.format(tema)\n",
        "  elif len(lista_de_palavras_minusculas_validas)==0:\n",
        "    resposta = 'Hm'\n",
        "  return resposta\n",
        "\n",
        "def responder(text):\n",
        "  intencao = determina_intencao(text)\n",
        "  numero_aleatorizador  = random.random()\n",
        "  if numero_aleatorizador < 0.3:\n",
        "    resposta = random.choice(RESPOSTAS_GENERICAS)\n",
        "  else:\n",
        "    if intencao == 'desabafo':\n",
        "      resposta = responde_desabafo(text)\n",
        "    elif intencao == 'sensacao':\n",
        "      resposta = responde_sensacao(text)\n",
        "  return resposta"
      ],
      "execution_count": null,
      "outputs": []
    },
    {
      "cell_type": "code",
      "metadata": {
        "id": "SpzH5zwn3No9"
      },
      "source": [
        "def main():\n",
        "  print(\"Olá! Eu sou a Eliza.\\nComo você está se sentindo hoje? Sobre o que gostaria de falar?\")\n",
        "  for i in range(6):\n",
        "    mensagem = input()\n",
        "    resposta = responder(mensagem)\n",
        "    print(resposta)\n",
        "  mensagem = input()"
      ],
      "execution_count": null,
      "outputs": []
    },
    {
      "cell_type": "code",
      "metadata": {
        "colab": {
          "base_uri": "https://localhost:8080/"
        },
        "id": "UWWEqgxCAg7y",
        "outputId": "f6dbab86-5714-4996-e80c-3ccdc2c49683"
      },
      "source": [
        "main()"
      ],
      "execution_count": null,
      "outputs": [
        {
          "output_type": "stream",
          "text": [
            "Olá! Eu sou a Eliza.\n",
            "Como você está se sentindo hoje? Sobre o que gostaria de falar?\n",
            "não\n",
            "Hm\n",
            "mano vc fede mt\n",
            "Como você se sente em relação a mano\n",
            "\n",
            "Hm\n",
            "\n",
            "Hm\n",
            "\n",
            "Hm\n",
            "\n",
            "Hm\n",
            "\n"
          ],
          "name": "stdout"
        }
      ]
    }
  ]
}